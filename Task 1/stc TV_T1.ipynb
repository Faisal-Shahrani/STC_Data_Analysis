{
 "cells": [
  {
   "cell_type": "markdown",
   "id": "d66c1c6c",
   "metadata": {},
   "source": [
    "# STC Jawwy"
   ]
  },
  {
   "cell_type": "code",
   "execution_count": 1,
   "id": "d3bcd889",
   "metadata": {},
   "outputs": [
    {
     "name": "stdout",
     "output_type": "stream",
     "text": [
      "Requirement already satisfied: pyxlsb in /Users/mahmoud/opt/anaconda3/lib/python3.8/site-packages (1.0.9)\r\n"
     ]
    }
   ],
   "source": [
    "\"\"\"\n",
    "Here we install libraries that are not installed by default \n",
    "Example:  pyslsb\n",
    "Feel free to add any library you are planning to use.\n",
    "\"\"\"\n",
    "!pip install pyxlsb"
   ]
  },
  {
   "cell_type": "code",
   "execution_count": 1,
   "id": "df7dab59",
   "metadata": {},
   "outputs": [],
   "source": [
    "# Import the required libraries \n",
    "\"\"\"\n",
    "Please feel free to import any required libraries as per your needs\n",
    "\"\"\"\n",
    "import pandas as pd     # provides high-performance, easy to use structures and data analysis tools\n",
    "import pyxlsb           # Excel extention to read xlsb files (the input file)\n",
    "import numpy as np      # provides fast mathematical computation on arrays and matrices"
   ]
  },
  {
   "cell_type": "markdown",
   "id": "8679536d",
   "metadata": {},
   "source": [
    "# Jawwy dataset\n",
    "The dataset consists of meta details about the movies and tv shows as genre. \n",
    "Also details about Users activities, spent duration and if watching in High definition or standard definition. \n",
    "You have to analyse this dataset to find top insights, findings and to solve the four tasks assigned to you."
   ]
  },
  {
   "cell_type": "code",
   "execution_count": 3,
   "id": "1bcc5b5b",
   "metadata": {},
   "outputs": [],
   "source": [
    "dataframe = pd.read_excel(r\"C:\\Users\\Thinkpad\\Desktop\\STC\\stc TV Data Set_T1.xlsb\",sheet_name=\"Final_Dataset\")\n",
    "# Please make a copy of dataset if you are going to work directly and make changes on the dataset\n",
    "# you can use   df=dataframe.copy()"
   ]
  },
  {
   "cell_type": "code",
   "execution_count": 4,
   "id": "fc78b44d",
   "metadata": {},
   "outputs": [
    {
     "data": {
      "text/plain": [
       "(1048575, 13)"
      ]
     },
     "execution_count": 4,
     "metadata": {},
     "output_type": "execute_result"
    }
   ],
   "source": [
    "# check the data shape\n",
    "dataframe.shape"
   ]
  },
  {
   "cell_type": "code",
   "execution_count": 5,
   "id": "e2983d5e",
   "metadata": {},
   "outputs": [
    {
     "data": {
      "text/html": [
       "<div>\n",
       "<style scoped>\n",
       "    .dataframe tbody tr th:only-of-type {\n",
       "        vertical-align: middle;\n",
       "    }\n",
       "\n",
       "    .dataframe tbody tr th {\n",
       "        vertical-align: top;\n",
       "    }\n",
       "\n",
       "    .dataframe thead th {\n",
       "        text-align: right;\n",
       "    }\n",
       "</style>\n",
       "<table border=\"1\" class=\"dataframe\">\n",
       "  <thead>\n",
       "    <tr style=\"text-align: right;\">\n",
       "      <th></th>\n",
       "      <th>Column1</th>\n",
       "      <th>date_</th>\n",
       "      <th>user_id_maped</th>\n",
       "      <th>program_name</th>\n",
       "      <th>duration_seconds</th>\n",
       "      <th>program_class</th>\n",
       "      <th>season</th>\n",
       "      <th>episode</th>\n",
       "      <th>program_desc</th>\n",
       "      <th>program_genre</th>\n",
       "      <th>series_title</th>\n",
       "      <th>hd</th>\n",
       "      <th>original_name</th>\n",
       "    </tr>\n",
       "  </thead>\n",
       "  <tbody>\n",
       "    <tr>\n",
       "      <th>0</th>\n",
       "      <td>1</td>\n",
       "      <td>42882</td>\n",
       "      <td>26138</td>\n",
       "      <td>100 treets</td>\n",
       "      <td>40</td>\n",
       "      <td>MOVIE</td>\n",
       "      <td>0</td>\n",
       "      <td>0</td>\n",
       "      <td>Drama Movie100 Streets</td>\n",
       "      <td>Drama</td>\n",
       "      <td>0</td>\n",
       "      <td>0</td>\n",
       "      <td>100 treets</td>\n",
       "    </tr>\n",
       "    <tr>\n",
       "      <th>1</th>\n",
       "      <td>3</td>\n",
       "      <td>42876</td>\n",
       "      <td>7946</td>\n",
       "      <td>Moana</td>\n",
       "      <td>17</td>\n",
       "      <td>MOVIE</td>\n",
       "      <td>0</td>\n",
       "      <td>0</td>\n",
       "      <td>Animation MovieMoana (HD)</td>\n",
       "      <td>Animation</td>\n",
       "      <td>0</td>\n",
       "      <td>1</td>\n",
       "      <td>Moana</td>\n",
       "    </tr>\n",
       "    <tr>\n",
       "      <th>2</th>\n",
       "      <td>4</td>\n",
       "      <td>42957</td>\n",
       "      <td>7418</td>\n",
       "      <td>The Mermaid Princess</td>\n",
       "      <td>8</td>\n",
       "      <td>MOVIE</td>\n",
       "      <td>0</td>\n",
       "      <td>0</td>\n",
       "      <td>Animation MovieThe Mermaid Princess (HD)</td>\n",
       "      <td>Animation</td>\n",
       "      <td>0</td>\n",
       "      <td>1</td>\n",
       "      <td>The Mermaid Princess</td>\n",
       "    </tr>\n",
       "    <tr>\n",
       "      <th>3</th>\n",
       "      <td>5</td>\n",
       "      <td>42942</td>\n",
       "      <td>19307</td>\n",
       "      <td>The Mermaid Princess</td>\n",
       "      <td>76</td>\n",
       "      <td>MOVIE</td>\n",
       "      <td>0</td>\n",
       "      <td>0</td>\n",
       "      <td>Animation MovieThe Mermaid Princess (HD)</td>\n",
       "      <td>Animation</td>\n",
       "      <td>0</td>\n",
       "      <td>1</td>\n",
       "      <td>The Mermaid Princess</td>\n",
       "    </tr>\n",
       "    <tr>\n",
       "      <th>4</th>\n",
       "      <td>7</td>\n",
       "      <td>42923</td>\n",
       "      <td>15860</td>\n",
       "      <td>Churchill</td>\n",
       "      <td>87</td>\n",
       "      <td>MOVIE</td>\n",
       "      <td>0</td>\n",
       "      <td>0</td>\n",
       "      <td>Biography MovieChurchill (HD)</td>\n",
       "      <td>Biography</td>\n",
       "      <td>0</td>\n",
       "      <td>1</td>\n",
       "      <td>Churchill</td>\n",
       "    </tr>\n",
       "  </tbody>\n",
       "</table>\n",
       "</div>"
      ],
      "text/plain": [
       "   Column1  date_  user_id_maped           program_name  duration_seconds   \n",
       "0        1  42882          26138             100 treets                40  \\\n",
       "1        3  42876           7946                 Moana                 17   \n",
       "2        4  42957           7418  The Mermaid Princess                  8   \n",
       "3        5  42942          19307  The Mermaid Princess                 76   \n",
       "4        7  42923          15860             Churchill                 87   \n",
       "\n",
       "  program_class  season  episode                              program_desc   \n",
       "0         MOVIE       0        0                    Drama Movie100 Streets  \\\n",
       "1         MOVIE       0        0                 Animation MovieMoana (HD)   \n",
       "2         MOVIE       0        0  Animation MovieThe Mermaid Princess (HD)   \n",
       "3         MOVIE       0        0  Animation MovieThe Mermaid Princess (HD)   \n",
       "4         MOVIE       0        0             Biography MovieChurchill (HD)   \n",
       "\n",
       "  program_genre  series_title  hd         original_name  \n",
       "0         Drama             0   0            100 treets  \n",
       "1     Animation             0   1                 Moana  \n",
       "2     Animation             0   1  The Mermaid Princess  \n",
       "3     Animation             0   1  The Mermaid Princess  \n",
       "4     Biography             0   1             Churchill  "
      ]
     },
     "execution_count": 5,
     "metadata": {},
     "output_type": "execute_result"
    }
   ],
   "source": [
    "# display the first 5 rows \n",
    "dataframe.head()"
   ]
  },
  {
   "cell_type": "code",
   "execution_count": 16,
   "id": "27c4c4e9",
   "metadata": {},
   "outputs": [],
   "source": [
    "# Data Preprocessing on the input data\n",
    "#dataframe = dataframe.drop(columns=dataframe['Column1'], axis=1)         # dropping the index column\n",
    "dataframe['program_name'] = dataframe['program_name'].str.strip()  # trim spaces in movies names to avoid misspellings in input data\n",
    "dataframe['date_'] = pd.to_datetime(pd.to_numeric(dataframe['date_'],errors='coerce'),errors='coerce',origin='1899-12-30',unit='D')  # read date column as date data type\n",
    "dataframe[['duration_seconds', 'season','episode','series_title','hd']] = dataframe[['duration_seconds', 'season','episode','series_title','hd']].apply(pd.to_numeric)  # read numeric columns as numeric data types\n",
    "dataframe[['user_id_maped', 'program_name','program_class','program_desc','program_genre','original_name']] = dataframe[['user_id_maped', 'program_name','program_class','program_desc','program_genre','original_name']].astype(str) # read string columns as string data types"
   ]
  },
  {
   "cell_type": "code",
   "execution_count": 17,
   "id": "693f89af",
   "metadata": {},
   "outputs": [
    {
     "data": {
      "text/html": [
       "<div>\n",
       "<style scoped>\n",
       "    .dataframe tbody tr th:only-of-type {\n",
       "        vertical-align: middle;\n",
       "    }\n",
       "\n",
       "    .dataframe tbody tr th {\n",
       "        vertical-align: top;\n",
       "    }\n",
       "\n",
       "    .dataframe thead th {\n",
       "        text-align: right;\n",
       "    }\n",
       "</style>\n",
       "<table border=\"1\" class=\"dataframe\">\n",
       "  <thead>\n",
       "    <tr style=\"text-align: right;\">\n",
       "      <th></th>\n",
       "      <th>date_</th>\n",
       "      <th>user_id_maped</th>\n",
       "      <th>program_name</th>\n",
       "      <th>duration_seconds</th>\n",
       "      <th>program_class</th>\n",
       "      <th>season</th>\n",
       "      <th>episode</th>\n",
       "      <th>program_desc</th>\n",
       "      <th>program_genre</th>\n",
       "      <th>series_title</th>\n",
       "      <th>hd</th>\n",
       "      <th>original_name</th>\n",
       "    </tr>\n",
       "  </thead>\n",
       "  <tbody>\n",
       "    <tr>\n",
       "      <th>0</th>\n",
       "      <td>2017-05-27</td>\n",
       "      <td>26138</td>\n",
       "      <td>100 treets</td>\n",
       "      <td>40</td>\n",
       "      <td>MOVIE</td>\n",
       "      <td>0</td>\n",
       "      <td>0</td>\n",
       "      <td>Drama Movie100 Streets</td>\n",
       "      <td>Drama</td>\n",
       "      <td>0</td>\n",
       "      <td>0</td>\n",
       "      <td>100 treets</td>\n",
       "    </tr>\n",
       "    <tr>\n",
       "      <th>1</th>\n",
       "      <td>2017-05-21</td>\n",
       "      <td>7946</td>\n",
       "      <td>Moana</td>\n",
       "      <td>17</td>\n",
       "      <td>MOVIE</td>\n",
       "      <td>0</td>\n",
       "      <td>0</td>\n",
       "      <td>Animation MovieMoana (HD)</td>\n",
       "      <td>Animation</td>\n",
       "      <td>0</td>\n",
       "      <td>1</td>\n",
       "      <td>Moana</td>\n",
       "    </tr>\n",
       "    <tr>\n",
       "      <th>2</th>\n",
       "      <td>2017-08-10</td>\n",
       "      <td>7418</td>\n",
       "      <td>The Mermaid Princess</td>\n",
       "      <td>8</td>\n",
       "      <td>MOVIE</td>\n",
       "      <td>0</td>\n",
       "      <td>0</td>\n",
       "      <td>Animation MovieThe Mermaid Princess (HD)</td>\n",
       "      <td>Animation</td>\n",
       "      <td>0</td>\n",
       "      <td>1</td>\n",
       "      <td>The Mermaid Princess</td>\n",
       "    </tr>\n",
       "    <tr>\n",
       "      <th>3</th>\n",
       "      <td>2017-07-26</td>\n",
       "      <td>19307</td>\n",
       "      <td>The Mermaid Princess</td>\n",
       "      <td>76</td>\n",
       "      <td>MOVIE</td>\n",
       "      <td>0</td>\n",
       "      <td>0</td>\n",
       "      <td>Animation MovieThe Mermaid Princess (HD)</td>\n",
       "      <td>Animation</td>\n",
       "      <td>0</td>\n",
       "      <td>1</td>\n",
       "      <td>The Mermaid Princess</td>\n",
       "    </tr>\n",
       "    <tr>\n",
       "      <th>4</th>\n",
       "      <td>2017-07-07</td>\n",
       "      <td>15860</td>\n",
       "      <td>Churchill</td>\n",
       "      <td>87</td>\n",
       "      <td>MOVIE</td>\n",
       "      <td>0</td>\n",
       "      <td>0</td>\n",
       "      <td>Biography MovieChurchill (HD)</td>\n",
       "      <td>Biography</td>\n",
       "      <td>0</td>\n",
       "      <td>1</td>\n",
       "      <td>Churchill</td>\n",
       "    </tr>\n",
       "  </tbody>\n",
       "</table>\n",
       "</div>"
      ],
      "text/plain": [
       "       date_ user_id_maped          program_name  duration_seconds   \n",
       "0 2017-05-27         26138            100 treets                40  \\\n",
       "1 2017-05-21          7946                 Moana                17   \n",
       "2 2017-08-10          7418  The Mermaid Princess                 8   \n",
       "3 2017-07-26         19307  The Mermaid Princess                76   \n",
       "4 2017-07-07         15860             Churchill                87   \n",
       "\n",
       "  program_class  season  episode                              program_desc   \n",
       "0         MOVIE       0        0                    Drama Movie100 Streets  \\\n",
       "1         MOVIE       0        0                 Animation MovieMoana (HD)   \n",
       "2         MOVIE       0        0  Animation MovieThe Mermaid Princess (HD)   \n",
       "3         MOVIE       0        0  Animation MovieThe Mermaid Princess (HD)   \n",
       "4         MOVIE       0        0             Biography MovieChurchill (HD)   \n",
       "\n",
       "  program_genre  series_title  hd         original_name  \n",
       "0         Drama             0   0            100 treets  \n",
       "1     Animation             0   1                 Moana  \n",
       "2     Animation             0   1  The Mermaid Princess  \n",
       "3     Animation             0   1  The Mermaid Princess  \n",
       "4     Biography             0   1             Churchill  "
      ]
     },
     "execution_count": 17,
     "metadata": {},
     "output_type": "execute_result"
    }
   ],
   "source": [
    "# display the dataset after applying data types\n",
    "dataframe.head()"
   ]
  },
  {
   "cell_type": "code",
   "execution_count": 18,
   "id": "140f6cab",
   "metadata": {},
   "outputs": [
    {
     "data": {
      "text/html": [
       "<div>\n",
       "<style scoped>\n",
       "    .dataframe tbody tr th:only-of-type {\n",
       "        vertical-align: middle;\n",
       "    }\n",
       "\n",
       "    .dataframe tbody tr th {\n",
       "        vertical-align: top;\n",
       "    }\n",
       "\n",
       "    .dataframe thead th {\n",
       "        text-align: right;\n",
       "    }\n",
       "</style>\n",
       "<table border=\"1\" class=\"dataframe\">\n",
       "  <thead>\n",
       "    <tr style=\"text-align: right;\">\n",
       "      <th></th>\n",
       "      <th>date_</th>\n",
       "      <th>duration_seconds</th>\n",
       "      <th>season</th>\n",
       "      <th>episode</th>\n",
       "      <th>series_title</th>\n",
       "      <th>hd</th>\n",
       "    </tr>\n",
       "  </thead>\n",
       "  <tbody>\n",
       "    <tr>\n",
       "      <th>count</th>\n",
       "      <td>1048575</td>\n",
       "      <td>1.048575e+06</td>\n",
       "      <td>1.048575e+06</td>\n",
       "      <td>1.048575e+06</td>\n",
       "      <td>1.048575e+06</td>\n",
       "      <td>1.048575e+06</td>\n",
       "    </tr>\n",
       "    <tr>\n",
       "      <th>mean</th>\n",
       "      <td>2017-10-04 00:23:20.346183936</td>\n",
       "      <td>1.230957e+03</td>\n",
       "      <td>1.342139e+00</td>\n",
       "      <td>6.157952e+00</td>\n",
       "      <td>1.205922e-02</td>\n",
       "      <td>3.862728e-01</td>\n",
       "    </tr>\n",
       "    <tr>\n",
       "      <th>min</th>\n",
       "      <td>2017-03-14 00:00:00</td>\n",
       "      <td>2.000000e+00</td>\n",
       "      <td>0.000000e+00</td>\n",
       "      <td>0.000000e+00</td>\n",
       "      <td>0.000000e+00</td>\n",
       "      <td>0.000000e+00</td>\n",
       "    </tr>\n",
       "    <tr>\n",
       "      <th>25%</th>\n",
       "      <td>2017-06-10 00:00:00</td>\n",
       "      <td>5.200000e+01</td>\n",
       "      <td>0.000000e+00</td>\n",
       "      <td>0.000000e+00</td>\n",
       "      <td>0.000000e+00</td>\n",
       "      <td>0.000000e+00</td>\n",
       "    </tr>\n",
       "    <tr>\n",
       "      <th>50%</th>\n",
       "      <td>2017-10-14 00:00:00</td>\n",
       "      <td>1.190000e+02</td>\n",
       "      <td>1.000000e+00</td>\n",
       "      <td>1.000000e+00</td>\n",
       "      <td>0.000000e+00</td>\n",
       "      <td>0.000000e+00</td>\n",
       "    </tr>\n",
       "    <tr>\n",
       "      <th>75%</th>\n",
       "      <td>2018-01-21 00:00:00</td>\n",
       "      <td>1.328000e+03</td>\n",
       "      <td>1.000000e+00</td>\n",
       "      <td>9.000000e+00</td>\n",
       "      <td>0.000000e+00</td>\n",
       "      <td>1.000000e+00</td>\n",
       "    </tr>\n",
       "    <tr>\n",
       "      <th>max</th>\n",
       "      <td>2018-04-30 00:00:00</td>\n",
       "      <td>1.461329e+06</td>\n",
       "      <td>2.300000e+01</td>\n",
       "      <td>2.820000e+02</td>\n",
       "      <td>1.000000e+00</td>\n",
       "      <td>1.000000e+00</td>\n",
       "    </tr>\n",
       "    <tr>\n",
       "      <th>std</th>\n",
       "      <td>NaN</td>\n",
       "      <td>6.821058e+03</td>\n",
       "      <td>2.104095e+00</td>\n",
       "      <td>1.222015e+01</td>\n",
       "      <td>1.091504e-01</td>\n",
       "      <td>4.868946e-01</td>\n",
       "    </tr>\n",
       "  </tbody>\n",
       "</table>\n",
       "</div>"
      ],
      "text/plain": [
       "                               date_  duration_seconds        season   \n",
       "count                        1048575      1.048575e+06  1.048575e+06  \\\n",
       "mean   2017-10-04 00:23:20.346183936      1.230957e+03  1.342139e+00   \n",
       "min              2017-03-14 00:00:00      2.000000e+00  0.000000e+00   \n",
       "25%              2017-06-10 00:00:00      5.200000e+01  0.000000e+00   \n",
       "50%              2017-10-14 00:00:00      1.190000e+02  1.000000e+00   \n",
       "75%              2018-01-21 00:00:00      1.328000e+03  1.000000e+00   \n",
       "max              2018-04-30 00:00:00      1.461329e+06  2.300000e+01   \n",
       "std                              NaN      6.821058e+03  2.104095e+00   \n",
       "\n",
       "            episode  series_title            hd  \n",
       "count  1.048575e+06  1.048575e+06  1.048575e+06  \n",
       "mean   6.157952e+00  1.205922e-02  3.862728e-01  \n",
       "min    0.000000e+00  0.000000e+00  0.000000e+00  \n",
       "25%    0.000000e+00  0.000000e+00  0.000000e+00  \n",
       "50%    1.000000e+00  0.000000e+00  0.000000e+00  \n",
       "75%    9.000000e+00  0.000000e+00  1.000000e+00  \n",
       "max    2.820000e+02  1.000000e+00  1.000000e+00  \n",
       "std    1.222015e+01  1.091504e-01  4.868946e-01  "
      ]
     },
     "execution_count": 18,
     "metadata": {},
     "output_type": "execute_result"
    }
   ],
   "source": [
    "# describe the numeric values in the dataset\n",
    "dataframe.describe()"
   ]
  },
  {
   "cell_type": "code",
   "execution_count": 19,
   "id": "f71db3ad",
   "metadata": {},
   "outputs": [
    {
     "data": {
      "text/plain": [
       "date_               False\n",
       "user_id_maped       False\n",
       "program_name        False\n",
       "duration_seconds    False\n",
       "program_class       False\n",
       "season              False\n",
       "episode             False\n",
       "program_desc        False\n",
       "program_genre       False\n",
       "series_title        False\n",
       "hd                  False\n",
       "original_name       False\n",
       "dtype: bool"
      ]
     },
     "execution_count": 19,
     "metadata": {},
     "output_type": "execute_result"
    }
   ],
   "source": [
    "# check if any column has null value in the dataset\n",
    "dataframe.isnull().any()"
   ]
  },
  {
   "cell_type": "code",
   "execution_count": 20,
   "id": "5f2f0e2f",
   "metadata": {},
   "outputs": [
    {
     "name": "stdout",
     "output_type": "stream",
     "text": [
      "<class 'pandas.core.frame.DataFrame'>\n",
      "RangeIndex: 1048575 entries, 0 to 1048574\n",
      "Data columns (total 12 columns):\n",
      " #   Column            Non-Null Count    Dtype         \n",
      "---  ------            --------------    -----         \n",
      " 0   date_             1048575 non-null  datetime64[ns]\n",
      " 1   user_id_maped     1048575 non-null  object        \n",
      " 2   program_name      1048575 non-null  object        \n",
      " 3   duration_seconds  1048575 non-null  int64         \n",
      " 4   program_class     1048575 non-null  object        \n",
      " 5   season            1048575 non-null  int64         \n",
      " 6   episode           1048575 non-null  int64         \n",
      " 7   program_desc      1048575 non-null  object        \n",
      " 8   program_genre     1048575 non-null  object        \n",
      " 9   series_title      1048575 non-null  int64         \n",
      " 10  hd                1048575 non-null  int64         \n",
      " 11  original_name     1048575 non-null  object        \n",
      "dtypes: datetime64[ns](1), int64(5), object(6)\n",
      "memory usage: 96.0+ MB\n"
     ]
    }
   ],
   "source": [
    "dataframe.info()"
   ]
  },
  {
   "cell_type": "markdown",
   "id": "4913b7a9",
   "metadata": {},
   "source": [
    "# Task 1\n",
    "##### You are required to work on task one to study and HD flag for available dataset"
   ]
  },
  {
   "cell_type": "code",
   "execution_count": 21,
   "id": "dc60d1cb",
   "metadata": {},
   "outputs": [],
   "source": [
    "# make a copy of the dataframe for working on task 1\n",
    "df=dataframe.copy()"
   ]
  },
  {
   "cell_type": "code",
   "execution_count": 22,
   "id": "c93eace9",
   "metadata": {},
   "outputs": [],
   "source": [
    "# Here we try to get the most watched movies (Total Views / Total Users Views / Total watch time)\n",
    "# For series we concatenated the Session episode to differentiate between episodes \n",
    "grouped=df.copy()\n",
    "grouped.loc[grouped['program_class'] == 'SERIES/EPISODES', 'program_name'] = grouped['program_name']+'_SE'+grouped['season'].astype(str)+'_EP'+grouped['episode'].astype(str)\n",
    "grouped = grouped.groupby(['program_name','program_class'])\\\n",
    ".agg({'user_id_maped': [('co1', 'nunique'),('co2', 'count')],\\\n",
    "      'duration_seconds': [('co3', 'sum')] }).reset_index()\n",
    "grouped.columns = ['program_name','program_class','No of Users who Watched', 'No of watches', 'Total watch time in seconds']\n",
    "grouped['Total watch time in houres']=grouped['Total watch time in seconds']/3600\n",
    "grouped = grouped.drop(columns=['Total watch time in seconds'])\n",
    "grouped = grouped.sort_values(by=['Total watch time in houres', 'No of watches','No of Users who Watched'], ascending=False).reset_index(drop=True)\n"
   ]
  },
  {
   "cell_type": "code",
   "execution_count": 23,
   "id": "eec3926e",
   "metadata": {},
   "outputs": [
    {
     "data": {
      "text/html": [
       "<div>\n",
       "<style scoped>\n",
       "    .dataframe tbody tr th:only-of-type {\n",
       "        vertical-align: middle;\n",
       "    }\n",
       "\n",
       "    .dataframe tbody tr th {\n",
       "        vertical-align: top;\n",
       "    }\n",
       "\n",
       "    .dataframe thead th {\n",
       "        text-align: right;\n",
       "    }\n",
       "</style>\n",
       "<table border=\"1\" class=\"dataframe\">\n",
       "  <thead>\n",
       "    <tr style=\"text-align: right;\">\n",
       "      <th></th>\n",
       "      <th>program_name</th>\n",
       "      <th>program_class</th>\n",
       "      <th>No of Users who Watched</th>\n",
       "      <th>No of watches</th>\n",
       "      <th>Total watch time in houres</th>\n",
       "    </tr>\n",
       "  </thead>\n",
       "  <tbody>\n",
       "    <tr>\n",
       "      <th>0</th>\n",
       "      <td>The Boss Baby</td>\n",
       "      <td>MOVIE</td>\n",
       "      <td>3389</td>\n",
       "      <td>24047</td>\n",
       "      <td>2961.350833</td>\n",
       "    </tr>\n",
       "    <tr>\n",
       "      <th>1</th>\n",
       "      <td>The Amazing pider-Man</td>\n",
       "      <td>MOVIE</td>\n",
       "      <td>1011</td>\n",
       "      <td>2877</td>\n",
       "      <td>1966.119167</td>\n",
       "    </tr>\n",
       "    <tr>\n",
       "      <th>2</th>\n",
       "      <td>The Expendables</td>\n",
       "      <td>MOVIE</td>\n",
       "      <td>853</td>\n",
       "      <td>2119</td>\n",
       "      <td>1961.159444</td>\n",
       "    </tr>\n",
       "    <tr>\n",
       "      <th>3</th>\n",
       "      <td>Moana</td>\n",
       "      <td>MOVIE</td>\n",
       "      <td>2173</td>\n",
       "      <td>8081</td>\n",
       "      <td>1706.176944</td>\n",
       "    </tr>\n",
       "    <tr>\n",
       "      <th>4</th>\n",
       "      <td>Trolls</td>\n",
       "      <td>MOVIE</td>\n",
       "      <td>2613</td>\n",
       "      <td>13793</td>\n",
       "      <td>1601.023056</td>\n",
       "    </tr>\n",
       "    <tr>\n",
       "      <th>5</th>\n",
       "      <td>Bean</td>\n",
       "      <td>MOVIE</td>\n",
       "      <td>949</td>\n",
       "      <td>3617</td>\n",
       "      <td>1423.955000</td>\n",
       "    </tr>\n",
       "    <tr>\n",
       "      <th>6</th>\n",
       "      <td>The murfs</td>\n",
       "      <td>MOVIE</td>\n",
       "      <td>867</td>\n",
       "      <td>3132</td>\n",
       "      <td>1342.141111</td>\n",
       "    </tr>\n",
       "    <tr>\n",
       "      <th>7</th>\n",
       "      <td>Hotel Transylvania</td>\n",
       "      <td>MOVIE</td>\n",
       "      <td>491</td>\n",
       "      <td>1947</td>\n",
       "      <td>1096.533611</td>\n",
       "    </tr>\n",
       "    <tr>\n",
       "      <th>8</th>\n",
       "      <td>Cloudy With a Chance of Meatballs</td>\n",
       "      <td>MOVIE</td>\n",
       "      <td>683</td>\n",
       "      <td>2076</td>\n",
       "      <td>948.674722</td>\n",
       "    </tr>\n",
       "    <tr>\n",
       "      <th>9</th>\n",
       "      <td>The Man With The Iron Fists</td>\n",
       "      <td>MOVIE</td>\n",
       "      <td>707</td>\n",
       "      <td>2505</td>\n",
       "      <td>859.626389</td>\n",
       "    </tr>\n",
       "    <tr>\n",
       "      <th>10</th>\n",
       "      <td>Salt</td>\n",
       "      <td>MOVIE</td>\n",
       "      <td>563</td>\n",
       "      <td>1082</td>\n",
       "      <td>767.392778</td>\n",
       "    </tr>\n",
       "    <tr>\n",
       "      <th>11</th>\n",
       "      <td>Unbroken</td>\n",
       "      <td>MOVIE</td>\n",
       "      <td>625</td>\n",
       "      <td>1429</td>\n",
       "      <td>763.078333</td>\n",
       "    </tr>\n",
       "    <tr>\n",
       "      <th>12</th>\n",
       "      <td>ParaNorman</td>\n",
       "      <td>MOVIE</td>\n",
       "      <td>614</td>\n",
       "      <td>1746</td>\n",
       "      <td>747.065556</td>\n",
       "    </tr>\n",
       "    <tr>\n",
       "      <th>13</th>\n",
       "      <td>Youm Maloosh Lazma</td>\n",
       "      <td>MOVIE</td>\n",
       "      <td>1131</td>\n",
       "      <td>2278</td>\n",
       "      <td>718.109722</td>\n",
       "    </tr>\n",
       "    <tr>\n",
       "      <th>14</th>\n",
       "      <td>Ferdinand</td>\n",
       "      <td>MOVIE</td>\n",
       "      <td>1278</td>\n",
       "      <td>6817</td>\n",
       "      <td>714.223056</td>\n",
       "    </tr>\n",
       "    <tr>\n",
       "      <th>15</th>\n",
       "      <td>White Chicks</td>\n",
       "      <td>MOVIE</td>\n",
       "      <td>307</td>\n",
       "      <td>916</td>\n",
       "      <td>711.840833</td>\n",
       "    </tr>\n",
       "    <tr>\n",
       "      <th>16</th>\n",
       "      <td>Jurassic Park</td>\n",
       "      <td>MOVIE</td>\n",
       "      <td>504</td>\n",
       "      <td>1192</td>\n",
       "      <td>693.394444</td>\n",
       "    </tr>\n",
       "    <tr>\n",
       "      <th>17</th>\n",
       "      <td>The November Man</td>\n",
       "      <td>MOVIE</td>\n",
       "      <td>494</td>\n",
       "      <td>1219</td>\n",
       "      <td>679.492222</td>\n",
       "    </tr>\n",
       "    <tr>\n",
       "      <th>18</th>\n",
       "      <td>Total Recall</td>\n",
       "      <td>MOVIE</td>\n",
       "      <td>587</td>\n",
       "      <td>1108</td>\n",
       "      <td>661.820000</td>\n",
       "    </tr>\n",
       "    <tr>\n",
       "      <th>19</th>\n",
       "      <td>Robin Hood</td>\n",
       "      <td>MOVIE</td>\n",
       "      <td>588</td>\n",
       "      <td>1209</td>\n",
       "      <td>643.935000</td>\n",
       "    </tr>\n",
       "    <tr>\n",
       "      <th>20</th>\n",
       "      <td>Public Enemies</td>\n",
       "      <td>MOVIE</td>\n",
       "      <td>368</td>\n",
       "      <td>716</td>\n",
       "      <td>634.035000</td>\n",
       "    </tr>\n",
       "    <tr>\n",
       "      <th>21</th>\n",
       "      <td>Daddy Day Camp</td>\n",
       "      <td>MOVIE</td>\n",
       "      <td>263</td>\n",
       "      <td>647</td>\n",
       "      <td>625.338333</td>\n",
       "    </tr>\n",
       "    <tr>\n",
       "      <th>22</th>\n",
       "      <td>Oblivion</td>\n",
       "      <td>MOVIE</td>\n",
       "      <td>790</td>\n",
       "      <td>1678</td>\n",
       "      <td>609.391111</td>\n",
       "    </tr>\n",
       "    <tr>\n",
       "      <th>23</th>\n",
       "      <td>Blitz</td>\n",
       "      <td>MOVIE</td>\n",
       "      <td>562</td>\n",
       "      <td>1200</td>\n",
       "      <td>570.521944</td>\n",
       "    </tr>\n",
       "    <tr>\n",
       "      <th>24</th>\n",
       "      <td>War for the Planet of the Apes</td>\n",
       "      <td>MOVIE</td>\n",
       "      <td>879</td>\n",
       "      <td>2028</td>\n",
       "      <td>567.597778</td>\n",
       "    </tr>\n",
       "    <tr>\n",
       "      <th>25</th>\n",
       "      <td>Inside Man</td>\n",
       "      <td>MOVIE</td>\n",
       "      <td>532</td>\n",
       "      <td>1567</td>\n",
       "      <td>560.386111</td>\n",
       "    </tr>\n",
       "    <tr>\n",
       "      <th>26</th>\n",
       "      <td>Bad Boys</td>\n",
       "      <td>MOVIE</td>\n",
       "      <td>438</td>\n",
       "      <td>871</td>\n",
       "      <td>559.277500</td>\n",
       "    </tr>\n",
       "    <tr>\n",
       "      <th>27</th>\n",
       "      <td>Easy A</td>\n",
       "      <td>MOVIE</td>\n",
       "      <td>513</td>\n",
       "      <td>990</td>\n",
       "      <td>557.068611</td>\n",
       "    </tr>\n",
       "    <tr>\n",
       "      <th>28</th>\n",
       "      <td>Battleship</td>\n",
       "      <td>MOVIE</td>\n",
       "      <td>634</td>\n",
       "      <td>1324</td>\n",
       "      <td>552.857222</td>\n",
       "    </tr>\n",
       "    <tr>\n",
       "      <th>29</th>\n",
       "      <td>Baywatch</td>\n",
       "      <td>MOVIE</td>\n",
       "      <td>2062</td>\n",
       "      <td>7436</td>\n",
       "      <td>548.995556</td>\n",
       "    </tr>\n",
       "    <tr>\n",
       "      <th>30</th>\n",
       "      <td>Police tory</td>\n",
       "      <td>MOVIE</td>\n",
       "      <td>409</td>\n",
       "      <td>737</td>\n",
       "      <td>520.077222</td>\n",
       "    </tr>\n",
       "    <tr>\n",
       "      <th>31</th>\n",
       "      <td>Blindspot     Erase Weary Youth_SE1_EP13</td>\n",
       "      <td>SERIES/EPISODES</td>\n",
       "      <td>125</td>\n",
       "      <td>197</td>\n",
       "      <td>516.015556</td>\n",
       "    </tr>\n",
       "    <tr>\n",
       "      <th>32</th>\n",
       "      <td>47 Ronin</td>\n",
       "      <td>MOVIE</td>\n",
       "      <td>521</td>\n",
       "      <td>1701</td>\n",
       "      <td>515.014722</td>\n",
       "    </tr>\n",
       "    <tr>\n",
       "      <th>33</th>\n",
       "      <td>Alien: Covenant</td>\n",
       "      <td>MOVIE</td>\n",
       "      <td>1520</td>\n",
       "      <td>4260</td>\n",
       "      <td>507.180000</td>\n",
       "    </tr>\n",
       "    <tr>\n",
       "      <th>34</th>\n",
       "      <td>The Mermaid Princess</td>\n",
       "      <td>MOVIE</td>\n",
       "      <td>2182</td>\n",
       "      <td>7525</td>\n",
       "      <td>503.111111</td>\n",
       "    </tr>\n",
       "  </tbody>\n",
       "</table>\n",
       "</div>"
      ],
      "text/plain": [
       "                                program_name    program_class   \n",
       "0                              The Boss Baby            MOVIE  \\\n",
       "1                      The Amazing pider-Man            MOVIE   \n",
       "2                            The Expendables            MOVIE   \n",
       "3                                      Moana            MOVIE   \n",
       "4                                     Trolls            MOVIE   \n",
       "5                                       Bean            MOVIE   \n",
       "6                                  The murfs            MOVIE   \n",
       "7                         Hotel Transylvania            MOVIE   \n",
       "8          Cloudy With a Chance of Meatballs            MOVIE   \n",
       "9                The Man With The Iron Fists            MOVIE   \n",
       "10                                      Salt            MOVIE   \n",
       "11                                  Unbroken            MOVIE   \n",
       "12                                ParaNorman            MOVIE   \n",
       "13                        Youm Maloosh Lazma            MOVIE   \n",
       "14                                 Ferdinand            MOVIE   \n",
       "15                              White Chicks            MOVIE   \n",
       "16                             Jurassic Park            MOVIE   \n",
       "17                          The November Man            MOVIE   \n",
       "18                              Total Recall            MOVIE   \n",
       "19                                Robin Hood            MOVIE   \n",
       "20                            Public Enemies            MOVIE   \n",
       "21                            Daddy Day Camp            MOVIE   \n",
       "22                                  Oblivion            MOVIE   \n",
       "23                                     Blitz            MOVIE   \n",
       "24            War for the Planet of the Apes            MOVIE   \n",
       "25                                Inside Man            MOVIE   \n",
       "26                                  Bad Boys            MOVIE   \n",
       "27                                    Easy A            MOVIE   \n",
       "28                                Battleship            MOVIE   \n",
       "29                                  Baywatch            MOVIE   \n",
       "30                               Police tory            MOVIE   \n",
       "31  Blindspot     Erase Weary Youth_SE1_EP13  SERIES/EPISODES   \n",
       "32                                  47 Ronin            MOVIE   \n",
       "33                           Alien: Covenant            MOVIE   \n",
       "34                      The Mermaid Princess            MOVIE   \n",
       "\n",
       "    No of Users who Watched  No of watches  Total watch time in houres  \n",
       "0                      3389          24047                 2961.350833  \n",
       "1                      1011           2877                 1966.119167  \n",
       "2                       853           2119                 1961.159444  \n",
       "3                      2173           8081                 1706.176944  \n",
       "4                      2613          13793                 1601.023056  \n",
       "5                       949           3617                 1423.955000  \n",
       "6                       867           3132                 1342.141111  \n",
       "7                       491           1947                 1096.533611  \n",
       "8                       683           2076                  948.674722  \n",
       "9                       707           2505                  859.626389  \n",
       "10                      563           1082                  767.392778  \n",
       "11                      625           1429                  763.078333  \n",
       "12                      614           1746                  747.065556  \n",
       "13                     1131           2278                  718.109722  \n",
       "14                     1278           6817                  714.223056  \n",
       "15                      307            916                  711.840833  \n",
       "16                      504           1192                  693.394444  \n",
       "17                      494           1219                  679.492222  \n",
       "18                      587           1108                  661.820000  \n",
       "19                      588           1209                  643.935000  \n",
       "20                      368            716                  634.035000  \n",
       "21                      263            647                  625.338333  \n",
       "22                      790           1678                  609.391111  \n",
       "23                      562           1200                  570.521944  \n",
       "24                      879           2028                  567.597778  \n",
       "25                      532           1567                  560.386111  \n",
       "26                      438            871                  559.277500  \n",
       "27                      513            990                  557.068611  \n",
       "28                      634           1324                  552.857222  \n",
       "29                     2062           7436                  548.995556  \n",
       "30                      409            737                  520.077222  \n",
       "31                      125            197                  516.015556  \n",
       "32                      521           1701                  515.014722  \n",
       "33                     1520           4260                  507.180000  \n",
       "34                     2182           7525                  503.111111  "
      ]
     },
     "execution_count": 23,
     "metadata": {},
     "output_type": "execute_result"
    }
   ],
   "source": [
    "# show the result\n",
    "grouped.head(35)"
   ]
  },
  {
   "cell_type": "code",
   "execution_count": 24,
   "id": "b9d9d726",
   "metadata": {},
   "outputs": [],
   "source": [
    "# we import Visualization libraries \n",
    "# you can ignore and use any other graphing libraries \n",
    "import matplotlib.pyplot as plt # a comprehensive library for creating static, animated, and interactive visualizations\n",
    "import plotly #a graphing library makes interactive, publication-quality graphs. Examples of how to make line plots, scatter plots, area charts, bar charts, error bars, box plots, histograms, heatmaps, subplots, multiple-axes, polar charts, and bubble charts.\n",
    "import plotly.express as px\n",
    "import plotly.graph_objects as go\n",
    "from plotly.subplots import make_subplots"
   ]
  },
  {
   "cell_type": "code",
   "execution_count": 25,
   "id": "5528722b",
   "metadata": {},
   "outputs": [
    {
     "data": {
      "application/vnd.plotly.v1+json": {
       "config": {
        "plotlyServerURL": "https://plot.ly"
       },
       "data": [
        {
         "customdata": [
          [
           "MOVIE"
          ],
          [
           "MOVIE"
          ],
          [
           "MOVIE"
          ],
          [
           "MOVIE"
          ],
          [
           "MOVIE"
          ],
          [
           "MOVIE"
          ],
          [
           "MOVIE"
          ],
          [
           "MOVIE"
          ],
          [
           "MOVIE"
          ],
          [
           "MOVIE"
          ]
         ],
         "domain": {
          "x": [
           0,
           1
          ],
          "y": [
           0,
           1
          ]
         },
         "hovertemplate": "program_name=%{label}<br>Total watch time in houres=%{value}<br>program_class=%{customdata[0]}<extra></extra>",
         "labels": [
          "The Boss Baby",
          "The Amazing pider-Man",
          "The Expendables",
          "Moana",
          "Trolls",
          "Bean",
          "The murfs",
          "Hotel Transylvania",
          "Cloudy With a Chance of Meatballs",
          "The Man With The Iron Fists"
         ],
         "legendgroup": "",
         "name": "",
         "showlegend": true,
         "type": "pie",
         "values": [
          2961.3508333333334,
          1966.1191666666666,
          1961.1594444444445,
          1706.1769444444444,
          1601.0230555555556,
          1423.955,
          1342.141111111111,
          1096.5336111111112,
          948.6747222222223,
          859.6263888888889
         ]
        }
       ],
       "layout": {
        "legend": {
         "tracegroupgap": 0
        },
        "template": {
         "data": {
          "bar": [
           {
            "error_x": {
             "color": "#2a3f5f"
            },
            "error_y": {
             "color": "#2a3f5f"
            },
            "marker": {
             "line": {
              "color": "#E5ECF6",
              "width": 0.5
             },
             "pattern": {
              "fillmode": "overlay",
              "size": 10,
              "solidity": 0.2
             }
            },
            "type": "bar"
           }
          ],
          "barpolar": [
           {
            "marker": {
             "line": {
              "color": "#E5ECF6",
              "width": 0.5
             },
             "pattern": {
              "fillmode": "overlay",
              "size": 10,
              "solidity": 0.2
             }
            },
            "type": "barpolar"
           }
          ],
          "carpet": [
           {
            "aaxis": {
             "endlinecolor": "#2a3f5f",
             "gridcolor": "white",
             "linecolor": "white",
             "minorgridcolor": "white",
             "startlinecolor": "#2a3f5f"
            },
            "baxis": {
             "endlinecolor": "#2a3f5f",
             "gridcolor": "white",
             "linecolor": "white",
             "minorgridcolor": "white",
             "startlinecolor": "#2a3f5f"
            },
            "type": "carpet"
           }
          ],
          "choropleth": [
           {
            "colorbar": {
             "outlinewidth": 0,
             "ticks": ""
            },
            "type": "choropleth"
           }
          ],
          "contour": [
           {
            "colorbar": {
             "outlinewidth": 0,
             "ticks": ""
            },
            "colorscale": [
             [
              0,
              "#0d0887"
             ],
             [
              0.1111111111111111,
              "#46039f"
             ],
             [
              0.2222222222222222,
              "#7201a8"
             ],
             [
              0.3333333333333333,
              "#9c179e"
             ],
             [
              0.4444444444444444,
              "#bd3786"
             ],
             [
              0.5555555555555556,
              "#d8576b"
             ],
             [
              0.6666666666666666,
              "#ed7953"
             ],
             [
              0.7777777777777778,
              "#fb9f3a"
             ],
             [
              0.8888888888888888,
              "#fdca26"
             ],
             [
              1,
              "#f0f921"
             ]
            ],
            "type": "contour"
           }
          ],
          "contourcarpet": [
           {
            "colorbar": {
             "outlinewidth": 0,
             "ticks": ""
            },
            "type": "contourcarpet"
           }
          ],
          "heatmap": [
           {
            "colorbar": {
             "outlinewidth": 0,
             "ticks": ""
            },
            "colorscale": [
             [
              0,
              "#0d0887"
             ],
             [
              0.1111111111111111,
              "#46039f"
             ],
             [
              0.2222222222222222,
              "#7201a8"
             ],
             [
              0.3333333333333333,
              "#9c179e"
             ],
             [
              0.4444444444444444,
              "#bd3786"
             ],
             [
              0.5555555555555556,
              "#d8576b"
             ],
             [
              0.6666666666666666,
              "#ed7953"
             ],
             [
              0.7777777777777778,
              "#fb9f3a"
             ],
             [
              0.8888888888888888,
              "#fdca26"
             ],
             [
              1,
              "#f0f921"
             ]
            ],
            "type": "heatmap"
           }
          ],
          "heatmapgl": [
           {
            "colorbar": {
             "outlinewidth": 0,
             "ticks": ""
            },
            "colorscale": [
             [
              0,
              "#0d0887"
             ],
             [
              0.1111111111111111,
              "#46039f"
             ],
             [
              0.2222222222222222,
              "#7201a8"
             ],
             [
              0.3333333333333333,
              "#9c179e"
             ],
             [
              0.4444444444444444,
              "#bd3786"
             ],
             [
              0.5555555555555556,
              "#d8576b"
             ],
             [
              0.6666666666666666,
              "#ed7953"
             ],
             [
              0.7777777777777778,
              "#fb9f3a"
             ],
             [
              0.8888888888888888,
              "#fdca26"
             ],
             [
              1,
              "#f0f921"
             ]
            ],
            "type": "heatmapgl"
           }
          ],
          "histogram": [
           {
            "marker": {
             "pattern": {
              "fillmode": "overlay",
              "size": 10,
              "solidity": 0.2
             }
            },
            "type": "histogram"
           }
          ],
          "histogram2d": [
           {
            "colorbar": {
             "outlinewidth": 0,
             "ticks": ""
            },
            "colorscale": [
             [
              0,
              "#0d0887"
             ],
             [
              0.1111111111111111,
              "#46039f"
             ],
             [
              0.2222222222222222,
              "#7201a8"
             ],
             [
              0.3333333333333333,
              "#9c179e"
             ],
             [
              0.4444444444444444,
              "#bd3786"
             ],
             [
              0.5555555555555556,
              "#d8576b"
             ],
             [
              0.6666666666666666,
              "#ed7953"
             ],
             [
              0.7777777777777778,
              "#fb9f3a"
             ],
             [
              0.8888888888888888,
              "#fdca26"
             ],
             [
              1,
              "#f0f921"
             ]
            ],
            "type": "histogram2d"
           }
          ],
          "histogram2dcontour": [
           {
            "colorbar": {
             "outlinewidth": 0,
             "ticks": ""
            },
            "colorscale": [
             [
              0,
              "#0d0887"
             ],
             [
              0.1111111111111111,
              "#46039f"
             ],
             [
              0.2222222222222222,
              "#7201a8"
             ],
             [
              0.3333333333333333,
              "#9c179e"
             ],
             [
              0.4444444444444444,
              "#bd3786"
             ],
             [
              0.5555555555555556,
              "#d8576b"
             ],
             [
              0.6666666666666666,
              "#ed7953"
             ],
             [
              0.7777777777777778,
              "#fb9f3a"
             ],
             [
              0.8888888888888888,
              "#fdca26"
             ],
             [
              1,
              "#f0f921"
             ]
            ],
            "type": "histogram2dcontour"
           }
          ],
          "mesh3d": [
           {
            "colorbar": {
             "outlinewidth": 0,
             "ticks": ""
            },
            "type": "mesh3d"
           }
          ],
          "parcoords": [
           {
            "line": {
             "colorbar": {
              "outlinewidth": 0,
              "ticks": ""
             }
            },
            "type": "parcoords"
           }
          ],
          "pie": [
           {
            "automargin": true,
            "type": "pie"
           }
          ],
          "scatter": [
           {
            "fillpattern": {
             "fillmode": "overlay",
             "size": 10,
             "solidity": 0.2
            },
            "type": "scatter"
           }
          ],
          "scatter3d": [
           {
            "line": {
             "colorbar": {
              "outlinewidth": 0,
              "ticks": ""
             }
            },
            "marker": {
             "colorbar": {
              "outlinewidth": 0,
              "ticks": ""
             }
            },
            "type": "scatter3d"
           }
          ],
          "scattercarpet": [
           {
            "marker": {
             "colorbar": {
              "outlinewidth": 0,
              "ticks": ""
             }
            },
            "type": "scattercarpet"
           }
          ],
          "scattergeo": [
           {
            "marker": {
             "colorbar": {
              "outlinewidth": 0,
              "ticks": ""
             }
            },
            "type": "scattergeo"
           }
          ],
          "scattergl": [
           {
            "marker": {
             "colorbar": {
              "outlinewidth": 0,
              "ticks": ""
             }
            },
            "type": "scattergl"
           }
          ],
          "scattermapbox": [
           {
            "marker": {
             "colorbar": {
              "outlinewidth": 0,
              "ticks": ""
             }
            },
            "type": "scattermapbox"
           }
          ],
          "scatterpolar": [
           {
            "marker": {
             "colorbar": {
              "outlinewidth": 0,
              "ticks": ""
             }
            },
            "type": "scatterpolar"
           }
          ],
          "scatterpolargl": [
           {
            "marker": {
             "colorbar": {
              "outlinewidth": 0,
              "ticks": ""
             }
            },
            "type": "scatterpolargl"
           }
          ],
          "scatterternary": [
           {
            "marker": {
             "colorbar": {
              "outlinewidth": 0,
              "ticks": ""
             }
            },
            "type": "scatterternary"
           }
          ],
          "surface": [
           {
            "colorbar": {
             "outlinewidth": 0,
             "ticks": ""
            },
            "colorscale": [
             [
              0,
              "#0d0887"
             ],
             [
              0.1111111111111111,
              "#46039f"
             ],
             [
              0.2222222222222222,
              "#7201a8"
             ],
             [
              0.3333333333333333,
              "#9c179e"
             ],
             [
              0.4444444444444444,
              "#bd3786"
             ],
             [
              0.5555555555555556,
              "#d8576b"
             ],
             [
              0.6666666666666666,
              "#ed7953"
             ],
             [
              0.7777777777777778,
              "#fb9f3a"
             ],
             [
              0.8888888888888888,
              "#fdca26"
             ],
             [
              1,
              "#f0f921"
             ]
            ],
            "type": "surface"
           }
          ],
          "table": [
           {
            "cells": {
             "fill": {
              "color": "#EBF0F8"
             },
             "line": {
              "color": "white"
             }
            },
            "header": {
             "fill": {
              "color": "#C8D4E3"
             },
             "line": {
              "color": "white"
             }
            },
            "type": "table"
           }
          ]
         },
         "layout": {
          "annotationdefaults": {
           "arrowcolor": "#2a3f5f",
           "arrowhead": 0,
           "arrowwidth": 1
          },
          "autotypenumbers": "strict",
          "coloraxis": {
           "colorbar": {
            "outlinewidth": 0,
            "ticks": ""
           }
          },
          "colorscale": {
           "diverging": [
            [
             0,
             "#8e0152"
            ],
            [
             0.1,
             "#c51b7d"
            ],
            [
             0.2,
             "#de77ae"
            ],
            [
             0.3,
             "#f1b6da"
            ],
            [
             0.4,
             "#fde0ef"
            ],
            [
             0.5,
             "#f7f7f7"
            ],
            [
             0.6,
             "#e6f5d0"
            ],
            [
             0.7,
             "#b8e186"
            ],
            [
             0.8,
             "#7fbc41"
            ],
            [
             0.9,
             "#4d9221"
            ],
            [
             1,
             "#276419"
            ]
           ],
           "sequential": [
            [
             0,
             "#0d0887"
            ],
            [
             0.1111111111111111,
             "#46039f"
            ],
            [
             0.2222222222222222,
             "#7201a8"
            ],
            [
             0.3333333333333333,
             "#9c179e"
            ],
            [
             0.4444444444444444,
             "#bd3786"
            ],
            [
             0.5555555555555556,
             "#d8576b"
            ],
            [
             0.6666666666666666,
             "#ed7953"
            ],
            [
             0.7777777777777778,
             "#fb9f3a"
            ],
            [
             0.8888888888888888,
             "#fdca26"
            ],
            [
             1,
             "#f0f921"
            ]
           ],
           "sequentialminus": [
            [
             0,
             "#0d0887"
            ],
            [
             0.1111111111111111,
             "#46039f"
            ],
            [
             0.2222222222222222,
             "#7201a8"
            ],
            [
             0.3333333333333333,
             "#9c179e"
            ],
            [
             0.4444444444444444,
             "#bd3786"
            ],
            [
             0.5555555555555556,
             "#d8576b"
            ],
            [
             0.6666666666666666,
             "#ed7953"
            ],
            [
             0.7777777777777778,
             "#fb9f3a"
            ],
            [
             0.8888888888888888,
             "#fdca26"
            ],
            [
             1,
             "#f0f921"
            ]
           ]
          },
          "colorway": [
           "#636efa",
           "#EF553B",
           "#00cc96",
           "#ab63fa",
           "#FFA15A",
           "#19d3f3",
           "#FF6692",
           "#B6E880",
           "#FF97FF",
           "#FECB52"
          ],
          "font": {
           "color": "#2a3f5f"
          },
          "geo": {
           "bgcolor": "white",
           "lakecolor": "white",
           "landcolor": "#E5ECF6",
           "showlakes": true,
           "showland": true,
           "subunitcolor": "white"
          },
          "hoverlabel": {
           "align": "left"
          },
          "hovermode": "closest",
          "mapbox": {
           "style": "light"
          },
          "paper_bgcolor": "white",
          "plot_bgcolor": "#E5ECF6",
          "polar": {
           "angularaxis": {
            "gridcolor": "white",
            "linecolor": "white",
            "ticks": ""
           },
           "bgcolor": "#E5ECF6",
           "radialaxis": {
            "gridcolor": "white",
            "linecolor": "white",
            "ticks": ""
           }
          },
          "scene": {
           "xaxis": {
            "backgroundcolor": "#E5ECF6",
            "gridcolor": "white",
            "gridwidth": 2,
            "linecolor": "white",
            "showbackground": true,
            "ticks": "",
            "zerolinecolor": "white"
           },
           "yaxis": {
            "backgroundcolor": "#E5ECF6",
            "gridcolor": "white",
            "gridwidth": 2,
            "linecolor": "white",
            "showbackground": true,
            "ticks": "",
            "zerolinecolor": "white"
           },
           "zaxis": {
            "backgroundcolor": "#E5ECF6",
            "gridcolor": "white",
            "gridwidth": 2,
            "linecolor": "white",
            "showbackground": true,
            "ticks": "",
            "zerolinecolor": "white"
           }
          },
          "shapedefaults": {
           "line": {
            "color": "#2a3f5f"
           }
          },
          "ternary": {
           "aaxis": {
            "gridcolor": "white",
            "linecolor": "white",
            "ticks": ""
           },
           "baxis": {
            "gridcolor": "white",
            "linecolor": "white",
            "ticks": ""
           },
           "bgcolor": "#E5ECF6",
           "caxis": {
            "gridcolor": "white",
            "linecolor": "white",
            "ticks": ""
           }
          },
          "title": {
           "x": 0.05
          },
          "xaxis": {
           "automargin": true,
           "gridcolor": "white",
           "linecolor": "white",
           "ticks": "",
           "title": {
            "standoff": 15
           },
           "zerolinecolor": "white",
           "zerolinewidth": 2
          },
          "yaxis": {
           "automargin": true,
           "gridcolor": "white",
           "linecolor": "white",
           "ticks": "",
           "title": {
            "standoff": 15
           },
           "zerolinecolor": "white",
           "zerolinewidth": 2
          }
         }
        },
        "title": {
         "text": "top 10 programs in total watch time in houres"
        }
       }
      }
     },
     "metadata": {},
     "output_type": "display_data"
    }
   ],
   "source": [
    "# plot top 10 Programs \n",
    "fig = px.pie(grouped.head(10), values='Total watch time in houres', names='program_name',\\\n",
    "             hover_data=['program_class'],title='top 10 programs in total watch time in houres')\n",
    "fig.show()"
   ]
  },
  {
   "cell_type": "code",
   "execution_count": 26,
   "id": "ec87fef6",
   "metadata": {},
   "outputs": [],
   "source": [
    "# Here we try to study the customer experience against Program class\n",
    "grouped=df.copy()\n",
    "grouped = grouped.groupby('program_class')\\\n",
    ".agg({'user_id_maped': [('co1', 'nunique'),('co2', 'count')],\\\n",
    "      'duration_seconds': [('co3', 'sum')] }).reset_index()\n",
    "grouped.columns = ['program_class','No of Users who Watched', 'No of watches', 'Total watch time in seconds']\n",
    "grouped['Total watch time in houres']=grouped['Total watch time in seconds']/3600\n",
    "grouped = grouped.drop(columns=['Total watch time in seconds'])\n",
    "grouped = grouped.sort_values(by=['Total watch time in houres', 'No of watches','No of Users who Watched'], ascending=False).reset_index(drop=True)\n"
   ]
  },
  {
   "cell_type": "code",
   "execution_count": 27,
   "id": "159cab9a",
   "metadata": {},
   "outputs": [
    {
     "data": {
      "text/html": [
       "<div>\n",
       "<style scoped>\n",
       "    .dataframe tbody tr th:only-of-type {\n",
       "        vertical-align: middle;\n",
       "    }\n",
       "\n",
       "    .dataframe tbody tr th {\n",
       "        vertical-align: top;\n",
       "    }\n",
       "\n",
       "    .dataframe thead th {\n",
       "        text-align: right;\n",
       "    }\n",
       "</style>\n",
       "<table border=\"1\" class=\"dataframe\">\n",
       "  <thead>\n",
       "    <tr style=\"text-align: right;\">\n",
       "      <th></th>\n",
       "      <th>program_class</th>\n",
       "      <th>No of Users who Watched</th>\n",
       "      <th>No of watches</th>\n",
       "      <th>Total watch time in houres</th>\n",
       "    </tr>\n",
       "  </thead>\n",
       "  <tbody>\n",
       "    <tr>\n",
       "      <th>0</th>\n",
       "      <td>SERIES/EPISODES</td>\n",
       "      <td>3901</td>\n",
       "      <td>560174</td>\n",
       "      <td>255097.787500</td>\n",
       "    </tr>\n",
       "    <tr>\n",
       "      <th>1</th>\n",
       "      <td>MOVIE</td>\n",
       "      <td>11355</td>\n",
       "      <td>488401</td>\n",
       "      <td>103444.145556</td>\n",
       "    </tr>\n",
       "  </tbody>\n",
       "</table>\n",
       "</div>"
      ],
      "text/plain": [
       "     program_class  No of Users who Watched  No of watches   \n",
       "0  SERIES/EPISODES                     3901         560174  \\\n",
       "1            MOVIE                    11355         488401   \n",
       "\n",
       "   Total watch time in houres  \n",
       "0               255097.787500  \n",
       "1               103444.145556  "
      ]
     },
     "execution_count": 27,
     "metadata": {},
     "output_type": "execute_result"
    }
   ],
   "source": [
    "# show the result\n",
    "grouped.head()"
   ]
  },
  {
   "cell_type": "code",
   "execution_count": 28,
   "id": "e569c07c",
   "metadata": {},
   "outputs": [
    {
     "data": {
      "application/vnd.plotly.v1+json": {
       "config": {
        "plotlyServerURL": "https://plot.ly"
       },
       "data": [
        {
         "customdata": [
          [
           "SERIES/EPISODES"
          ],
          [
           "MOVIE"
          ]
         ],
         "domain": {
          "x": [
           0,
           1
          ],
          "y": [
           0,
           1
          ]
         },
         "hovertemplate": "program_class=%{customdata[0]}<br>Total watch time in houres=%{value}<extra></extra>",
         "labels": [
          "SERIES/EPISODES",
          "MOVIE"
         ],
         "legendgroup": "",
         "name": "",
         "showlegend": true,
         "sort": false,
         "type": "pie",
         "values": [
          255097.7875,
          103444.14555555556
         ]
        }
       ],
       "layout": {
        "legend": {
         "tracegroupgap": 0
        },
        "template": {
         "data": {
          "bar": [
           {
            "error_x": {
             "color": "#2a3f5f"
            },
            "error_y": {
             "color": "#2a3f5f"
            },
            "marker": {
             "line": {
              "color": "#E5ECF6",
              "width": 0.5
             },
             "pattern": {
              "fillmode": "overlay",
              "size": 10,
              "solidity": 0.2
             }
            },
            "type": "bar"
           }
          ],
          "barpolar": [
           {
            "marker": {
             "line": {
              "color": "#E5ECF6",
              "width": 0.5
             },
             "pattern": {
              "fillmode": "overlay",
              "size": 10,
              "solidity": 0.2
             }
            },
            "type": "barpolar"
           }
          ],
          "carpet": [
           {
            "aaxis": {
             "endlinecolor": "#2a3f5f",
             "gridcolor": "white",
             "linecolor": "white",
             "minorgridcolor": "white",
             "startlinecolor": "#2a3f5f"
            },
            "baxis": {
             "endlinecolor": "#2a3f5f",
             "gridcolor": "white",
             "linecolor": "white",
             "minorgridcolor": "white",
             "startlinecolor": "#2a3f5f"
            },
            "type": "carpet"
           }
          ],
          "choropleth": [
           {
            "colorbar": {
             "outlinewidth": 0,
             "ticks": ""
            },
            "type": "choropleth"
           }
          ],
          "contour": [
           {
            "colorbar": {
             "outlinewidth": 0,
             "ticks": ""
            },
            "colorscale": [
             [
              0,
              "#0d0887"
             ],
             [
              0.1111111111111111,
              "#46039f"
             ],
             [
              0.2222222222222222,
              "#7201a8"
             ],
             [
              0.3333333333333333,
              "#9c179e"
             ],
             [
              0.4444444444444444,
              "#bd3786"
             ],
             [
              0.5555555555555556,
              "#d8576b"
             ],
             [
              0.6666666666666666,
              "#ed7953"
             ],
             [
              0.7777777777777778,
              "#fb9f3a"
             ],
             [
              0.8888888888888888,
              "#fdca26"
             ],
             [
              1,
              "#f0f921"
             ]
            ],
            "type": "contour"
           }
          ],
          "contourcarpet": [
           {
            "colorbar": {
             "outlinewidth": 0,
             "ticks": ""
            },
            "type": "contourcarpet"
           }
          ],
          "heatmap": [
           {
            "colorbar": {
             "outlinewidth": 0,
             "ticks": ""
            },
            "colorscale": [
             [
              0,
              "#0d0887"
             ],
             [
              0.1111111111111111,
              "#46039f"
             ],
             [
              0.2222222222222222,
              "#7201a8"
             ],
             [
              0.3333333333333333,
              "#9c179e"
             ],
             [
              0.4444444444444444,
              "#bd3786"
             ],
             [
              0.5555555555555556,
              "#d8576b"
             ],
             [
              0.6666666666666666,
              "#ed7953"
             ],
             [
              0.7777777777777778,
              "#fb9f3a"
             ],
             [
              0.8888888888888888,
              "#fdca26"
             ],
             [
              1,
              "#f0f921"
             ]
            ],
            "type": "heatmap"
           }
          ],
          "heatmapgl": [
           {
            "colorbar": {
             "outlinewidth": 0,
             "ticks": ""
            },
            "colorscale": [
             [
              0,
              "#0d0887"
             ],
             [
              0.1111111111111111,
              "#46039f"
             ],
             [
              0.2222222222222222,
              "#7201a8"
             ],
             [
              0.3333333333333333,
              "#9c179e"
             ],
             [
              0.4444444444444444,
              "#bd3786"
             ],
             [
              0.5555555555555556,
              "#d8576b"
             ],
             [
              0.6666666666666666,
              "#ed7953"
             ],
             [
              0.7777777777777778,
              "#fb9f3a"
             ],
             [
              0.8888888888888888,
              "#fdca26"
             ],
             [
              1,
              "#f0f921"
             ]
            ],
            "type": "heatmapgl"
           }
          ],
          "histogram": [
           {
            "marker": {
             "pattern": {
              "fillmode": "overlay",
              "size": 10,
              "solidity": 0.2
             }
            },
            "type": "histogram"
           }
          ],
          "histogram2d": [
           {
            "colorbar": {
             "outlinewidth": 0,
             "ticks": ""
            },
            "colorscale": [
             [
              0,
              "#0d0887"
             ],
             [
              0.1111111111111111,
              "#46039f"
             ],
             [
              0.2222222222222222,
              "#7201a8"
             ],
             [
              0.3333333333333333,
              "#9c179e"
             ],
             [
              0.4444444444444444,
              "#bd3786"
             ],
             [
              0.5555555555555556,
              "#d8576b"
             ],
             [
              0.6666666666666666,
              "#ed7953"
             ],
             [
              0.7777777777777778,
              "#fb9f3a"
             ],
             [
              0.8888888888888888,
              "#fdca26"
             ],
             [
              1,
              "#f0f921"
             ]
            ],
            "type": "histogram2d"
           }
          ],
          "histogram2dcontour": [
           {
            "colorbar": {
             "outlinewidth": 0,
             "ticks": ""
            },
            "colorscale": [
             [
              0,
              "#0d0887"
             ],
             [
              0.1111111111111111,
              "#46039f"
             ],
             [
              0.2222222222222222,
              "#7201a8"
             ],
             [
              0.3333333333333333,
              "#9c179e"
             ],
             [
              0.4444444444444444,
              "#bd3786"
             ],
             [
              0.5555555555555556,
              "#d8576b"
             ],
             [
              0.6666666666666666,
              "#ed7953"
             ],
             [
              0.7777777777777778,
              "#fb9f3a"
             ],
             [
              0.8888888888888888,
              "#fdca26"
             ],
             [
              1,
              "#f0f921"
             ]
            ],
            "type": "histogram2dcontour"
           }
          ],
          "mesh3d": [
           {
            "colorbar": {
             "outlinewidth": 0,
             "ticks": ""
            },
            "type": "mesh3d"
           }
          ],
          "parcoords": [
           {
            "line": {
             "colorbar": {
              "outlinewidth": 0,
              "ticks": ""
             }
            },
            "type": "parcoords"
           }
          ],
          "pie": [
           {
            "automargin": true,
            "type": "pie"
           }
          ],
          "scatter": [
           {
            "fillpattern": {
             "fillmode": "overlay",
             "size": 10,
             "solidity": 0.2
            },
            "type": "scatter"
           }
          ],
          "scatter3d": [
           {
            "line": {
             "colorbar": {
              "outlinewidth": 0,
              "ticks": ""
             }
            },
            "marker": {
             "colorbar": {
              "outlinewidth": 0,
              "ticks": ""
             }
            },
            "type": "scatter3d"
           }
          ],
          "scattercarpet": [
           {
            "marker": {
             "colorbar": {
              "outlinewidth": 0,
              "ticks": ""
             }
            },
            "type": "scattercarpet"
           }
          ],
          "scattergeo": [
           {
            "marker": {
             "colorbar": {
              "outlinewidth": 0,
              "ticks": ""
             }
            },
            "type": "scattergeo"
           }
          ],
          "scattergl": [
           {
            "marker": {
             "colorbar": {
              "outlinewidth": 0,
              "ticks": ""
             }
            },
            "type": "scattergl"
           }
          ],
          "scattermapbox": [
           {
            "marker": {
             "colorbar": {
              "outlinewidth": 0,
              "ticks": ""
             }
            },
            "type": "scattermapbox"
           }
          ],
          "scatterpolar": [
           {
            "marker": {
             "colorbar": {
              "outlinewidth": 0,
              "ticks": ""
             }
            },
            "type": "scatterpolar"
           }
          ],
          "scatterpolargl": [
           {
            "marker": {
             "colorbar": {
              "outlinewidth": 0,
              "ticks": ""
             }
            },
            "type": "scatterpolargl"
           }
          ],
          "scatterternary": [
           {
            "marker": {
             "colorbar": {
              "outlinewidth": 0,
              "ticks": ""
             }
            },
            "type": "scatterternary"
           }
          ],
          "surface": [
           {
            "colorbar": {
             "outlinewidth": 0,
             "ticks": ""
            },
            "colorscale": [
             [
              0,
              "#0d0887"
             ],
             [
              0.1111111111111111,
              "#46039f"
             ],
             [
              0.2222222222222222,
              "#7201a8"
             ],
             [
              0.3333333333333333,
              "#9c179e"
             ],
             [
              0.4444444444444444,
              "#bd3786"
             ],
             [
              0.5555555555555556,
              "#d8576b"
             ],
             [
              0.6666666666666666,
              "#ed7953"
             ],
             [
              0.7777777777777778,
              "#fb9f3a"
             ],
             [
              0.8888888888888888,
              "#fdca26"
             ],
             [
              1,
              "#f0f921"
             ]
            ],
            "type": "surface"
           }
          ],
          "table": [
           {
            "cells": {
             "fill": {
              "color": "#EBF0F8"
             },
             "line": {
              "color": "white"
             }
            },
            "header": {
             "fill": {
              "color": "#C8D4E3"
             },
             "line": {
              "color": "white"
             }
            },
            "type": "table"
           }
          ]
         },
         "layout": {
          "annotationdefaults": {
           "arrowcolor": "#2a3f5f",
           "arrowhead": 0,
           "arrowwidth": 1
          },
          "autotypenumbers": "strict",
          "coloraxis": {
           "colorbar": {
            "outlinewidth": 0,
            "ticks": ""
           }
          },
          "colorscale": {
           "diverging": [
            [
             0,
             "#8e0152"
            ],
            [
             0.1,
             "#c51b7d"
            ],
            [
             0.2,
             "#de77ae"
            ],
            [
             0.3,
             "#f1b6da"
            ],
            [
             0.4,
             "#fde0ef"
            ],
            [
             0.5,
             "#f7f7f7"
            ],
            [
             0.6,
             "#e6f5d0"
            ],
            [
             0.7,
             "#b8e186"
            ],
            [
             0.8,
             "#7fbc41"
            ],
            [
             0.9,
             "#4d9221"
            ],
            [
             1,
             "#276419"
            ]
           ],
           "sequential": [
            [
             0,
             "#0d0887"
            ],
            [
             0.1111111111111111,
             "#46039f"
            ],
            [
             0.2222222222222222,
             "#7201a8"
            ],
            [
             0.3333333333333333,
             "#9c179e"
            ],
            [
             0.4444444444444444,
             "#bd3786"
            ],
            [
             0.5555555555555556,
             "#d8576b"
            ],
            [
             0.6666666666666666,
             "#ed7953"
            ],
            [
             0.7777777777777778,
             "#fb9f3a"
            ],
            [
             0.8888888888888888,
             "#fdca26"
            ],
            [
             1,
             "#f0f921"
            ]
           ],
           "sequentialminus": [
            [
             0,
             "#0d0887"
            ],
            [
             0.1111111111111111,
             "#46039f"
            ],
            [
             0.2222222222222222,
             "#7201a8"
            ],
            [
             0.3333333333333333,
             "#9c179e"
            ],
            [
             0.4444444444444444,
             "#bd3786"
            ],
            [
             0.5555555555555556,
             "#d8576b"
            ],
            [
             0.6666666666666666,
             "#ed7953"
            ],
            [
             0.7777777777777778,
             "#fb9f3a"
            ],
            [
             0.8888888888888888,
             "#fdca26"
            ],
            [
             1,
             "#f0f921"
            ]
           ]
          },
          "colorway": [
           "#636efa",
           "#EF553B",
           "#00cc96",
           "#ab63fa",
           "#FFA15A",
           "#19d3f3",
           "#FF6692",
           "#B6E880",
           "#FF97FF",
           "#FECB52"
          ],
          "font": {
           "color": "#2a3f5f"
          },
          "geo": {
           "bgcolor": "white",
           "lakecolor": "white",
           "landcolor": "#E5ECF6",
           "showlakes": true,
           "showland": true,
           "subunitcolor": "white"
          },
          "hoverlabel": {
           "align": "left"
          },
          "hovermode": "closest",
          "mapbox": {
           "style": "light"
          },
          "paper_bgcolor": "white",
          "plot_bgcolor": "#E5ECF6",
          "polar": {
           "angularaxis": {
            "gridcolor": "white",
            "linecolor": "white",
            "ticks": ""
           },
           "bgcolor": "#E5ECF6",
           "radialaxis": {
            "gridcolor": "white",
            "linecolor": "white",
            "ticks": ""
           }
          },
          "scene": {
           "xaxis": {
            "backgroundcolor": "#E5ECF6",
            "gridcolor": "white",
            "gridwidth": 2,
            "linecolor": "white",
            "showbackground": true,
            "ticks": "",
            "zerolinecolor": "white"
           },
           "yaxis": {
            "backgroundcolor": "#E5ECF6",
            "gridcolor": "white",
            "gridwidth": 2,
            "linecolor": "white",
            "showbackground": true,
            "ticks": "",
            "zerolinecolor": "white"
           },
           "zaxis": {
            "backgroundcolor": "#E5ECF6",
            "gridcolor": "white",
            "gridwidth": 2,
            "linecolor": "white",
            "showbackground": true,
            "ticks": "",
            "zerolinecolor": "white"
           }
          },
          "shapedefaults": {
           "line": {
            "color": "#2a3f5f"
           }
          },
          "ternary": {
           "aaxis": {
            "gridcolor": "white",
            "linecolor": "white",
            "ticks": ""
           },
           "baxis": {
            "gridcolor": "white",
            "linecolor": "white",
            "ticks": ""
           },
           "bgcolor": "#E5ECF6",
           "caxis": {
            "gridcolor": "white",
            "linecolor": "white",
            "ticks": ""
           }
          },
          "title": {
           "x": 0.05
          },
          "xaxis": {
           "automargin": true,
           "gridcolor": "white",
           "linecolor": "white",
           "ticks": "",
           "title": {
            "standoff": 15
           },
           "zerolinecolor": "white",
           "zerolinewidth": 2
          },
          "yaxis": {
           "automargin": true,
           "gridcolor": "white",
           "linecolor": "white",
           "ticks": "",
           "title": {
            "standoff": 15
           },
           "zerolinecolor": "white",
           "zerolinewidth": 2
          }
         }
        },
        "title": {
         "text": "Total duration spent by program_class"
        }
       }
      }
     },
     "metadata": {},
     "output_type": "display_data"
    },
    {
     "data": {
      "application/vnd.plotly.v1+json": {
       "config": {
        "plotlyServerURL": "https://plot.ly"
       },
       "data": [
        {
         "customdata": [
          [
           "SERIES/EPISODES"
          ],
          [
           "MOVIE"
          ]
         ],
         "domain": {
          "x": [
           0,
           1
          ],
          "y": [
           0,
           1
          ]
         },
         "hovertemplate": "program_class=%{customdata[0]}<br>No of Users who Watched=%{value}<extra></extra>",
         "labels": [
          "SERIES/EPISODES",
          "MOVIE"
         ],
         "legendgroup": "",
         "name": "",
         "showlegend": true,
         "sort": false,
         "type": "pie",
         "values": [
          3901,
          11355
         ]
        }
       ],
       "layout": {
        "legend": {
         "tracegroupgap": 0
        },
        "template": {
         "data": {
          "bar": [
           {
            "error_x": {
             "color": "#2a3f5f"
            },
            "error_y": {
             "color": "#2a3f5f"
            },
            "marker": {
             "line": {
              "color": "#E5ECF6",
              "width": 0.5
             },
             "pattern": {
              "fillmode": "overlay",
              "size": 10,
              "solidity": 0.2
             }
            },
            "type": "bar"
           }
          ],
          "barpolar": [
           {
            "marker": {
             "line": {
              "color": "#E5ECF6",
              "width": 0.5
             },
             "pattern": {
              "fillmode": "overlay",
              "size": 10,
              "solidity": 0.2
             }
            },
            "type": "barpolar"
           }
          ],
          "carpet": [
           {
            "aaxis": {
             "endlinecolor": "#2a3f5f",
             "gridcolor": "white",
             "linecolor": "white",
             "minorgridcolor": "white",
             "startlinecolor": "#2a3f5f"
            },
            "baxis": {
             "endlinecolor": "#2a3f5f",
             "gridcolor": "white",
             "linecolor": "white",
             "minorgridcolor": "white",
             "startlinecolor": "#2a3f5f"
            },
            "type": "carpet"
           }
          ],
          "choropleth": [
           {
            "colorbar": {
             "outlinewidth": 0,
             "ticks": ""
            },
            "type": "choropleth"
           }
          ],
          "contour": [
           {
            "colorbar": {
             "outlinewidth": 0,
             "ticks": ""
            },
            "colorscale": [
             [
              0,
              "#0d0887"
             ],
             [
              0.1111111111111111,
              "#46039f"
             ],
             [
              0.2222222222222222,
              "#7201a8"
             ],
             [
              0.3333333333333333,
              "#9c179e"
             ],
             [
              0.4444444444444444,
              "#bd3786"
             ],
             [
              0.5555555555555556,
              "#d8576b"
             ],
             [
              0.6666666666666666,
              "#ed7953"
             ],
             [
              0.7777777777777778,
              "#fb9f3a"
             ],
             [
              0.8888888888888888,
              "#fdca26"
             ],
             [
              1,
              "#f0f921"
             ]
            ],
            "type": "contour"
           }
          ],
          "contourcarpet": [
           {
            "colorbar": {
             "outlinewidth": 0,
             "ticks": ""
            },
            "type": "contourcarpet"
           }
          ],
          "heatmap": [
           {
            "colorbar": {
             "outlinewidth": 0,
             "ticks": ""
            },
            "colorscale": [
             [
              0,
              "#0d0887"
             ],
             [
              0.1111111111111111,
              "#46039f"
             ],
             [
              0.2222222222222222,
              "#7201a8"
             ],
             [
              0.3333333333333333,
              "#9c179e"
             ],
             [
              0.4444444444444444,
              "#bd3786"
             ],
             [
              0.5555555555555556,
              "#d8576b"
             ],
             [
              0.6666666666666666,
              "#ed7953"
             ],
             [
              0.7777777777777778,
              "#fb9f3a"
             ],
             [
              0.8888888888888888,
              "#fdca26"
             ],
             [
              1,
              "#f0f921"
             ]
            ],
            "type": "heatmap"
           }
          ],
          "heatmapgl": [
           {
            "colorbar": {
             "outlinewidth": 0,
             "ticks": ""
            },
            "colorscale": [
             [
              0,
              "#0d0887"
             ],
             [
              0.1111111111111111,
              "#46039f"
             ],
             [
              0.2222222222222222,
              "#7201a8"
             ],
             [
              0.3333333333333333,
              "#9c179e"
             ],
             [
              0.4444444444444444,
              "#bd3786"
             ],
             [
              0.5555555555555556,
              "#d8576b"
             ],
             [
              0.6666666666666666,
              "#ed7953"
             ],
             [
              0.7777777777777778,
              "#fb9f3a"
             ],
             [
              0.8888888888888888,
              "#fdca26"
             ],
             [
              1,
              "#f0f921"
             ]
            ],
            "type": "heatmapgl"
           }
          ],
          "histogram": [
           {
            "marker": {
             "pattern": {
              "fillmode": "overlay",
              "size": 10,
              "solidity": 0.2
             }
            },
            "type": "histogram"
           }
          ],
          "histogram2d": [
           {
            "colorbar": {
             "outlinewidth": 0,
             "ticks": ""
            },
            "colorscale": [
             [
              0,
              "#0d0887"
             ],
             [
              0.1111111111111111,
              "#46039f"
             ],
             [
              0.2222222222222222,
              "#7201a8"
             ],
             [
              0.3333333333333333,
              "#9c179e"
             ],
             [
              0.4444444444444444,
              "#bd3786"
             ],
             [
              0.5555555555555556,
              "#d8576b"
             ],
             [
              0.6666666666666666,
              "#ed7953"
             ],
             [
              0.7777777777777778,
              "#fb9f3a"
             ],
             [
              0.8888888888888888,
              "#fdca26"
             ],
             [
              1,
              "#f0f921"
             ]
            ],
            "type": "histogram2d"
           }
          ],
          "histogram2dcontour": [
           {
            "colorbar": {
             "outlinewidth": 0,
             "ticks": ""
            },
            "colorscale": [
             [
              0,
              "#0d0887"
             ],
             [
              0.1111111111111111,
              "#46039f"
             ],
             [
              0.2222222222222222,
              "#7201a8"
             ],
             [
              0.3333333333333333,
              "#9c179e"
             ],
             [
              0.4444444444444444,
              "#bd3786"
             ],
             [
              0.5555555555555556,
              "#d8576b"
             ],
             [
              0.6666666666666666,
              "#ed7953"
             ],
             [
              0.7777777777777778,
              "#fb9f3a"
             ],
             [
              0.8888888888888888,
              "#fdca26"
             ],
             [
              1,
              "#f0f921"
             ]
            ],
            "type": "histogram2dcontour"
           }
          ],
          "mesh3d": [
           {
            "colorbar": {
             "outlinewidth": 0,
             "ticks": ""
            },
            "type": "mesh3d"
           }
          ],
          "parcoords": [
           {
            "line": {
             "colorbar": {
              "outlinewidth": 0,
              "ticks": ""
             }
            },
            "type": "parcoords"
           }
          ],
          "pie": [
           {
            "automargin": true,
            "type": "pie"
           }
          ],
          "scatter": [
           {
            "fillpattern": {
             "fillmode": "overlay",
             "size": 10,
             "solidity": 0.2
            },
            "type": "scatter"
           }
          ],
          "scatter3d": [
           {
            "line": {
             "colorbar": {
              "outlinewidth": 0,
              "ticks": ""
             }
            },
            "marker": {
             "colorbar": {
              "outlinewidth": 0,
              "ticks": ""
             }
            },
            "type": "scatter3d"
           }
          ],
          "scattercarpet": [
           {
            "marker": {
             "colorbar": {
              "outlinewidth": 0,
              "ticks": ""
             }
            },
            "type": "scattercarpet"
           }
          ],
          "scattergeo": [
           {
            "marker": {
             "colorbar": {
              "outlinewidth": 0,
              "ticks": ""
             }
            },
            "type": "scattergeo"
           }
          ],
          "scattergl": [
           {
            "marker": {
             "colorbar": {
              "outlinewidth": 0,
              "ticks": ""
             }
            },
            "type": "scattergl"
           }
          ],
          "scattermapbox": [
           {
            "marker": {
             "colorbar": {
              "outlinewidth": 0,
              "ticks": ""
             }
            },
            "type": "scattermapbox"
           }
          ],
          "scatterpolar": [
           {
            "marker": {
             "colorbar": {
              "outlinewidth": 0,
              "ticks": ""
             }
            },
            "type": "scatterpolar"
           }
          ],
          "scatterpolargl": [
           {
            "marker": {
             "colorbar": {
              "outlinewidth": 0,
              "ticks": ""
             }
            },
            "type": "scatterpolargl"
           }
          ],
          "scatterternary": [
           {
            "marker": {
             "colorbar": {
              "outlinewidth": 0,
              "ticks": ""
             }
            },
            "type": "scatterternary"
           }
          ],
          "surface": [
           {
            "colorbar": {
             "outlinewidth": 0,
             "ticks": ""
            },
            "colorscale": [
             [
              0,
              "#0d0887"
             ],
             [
              0.1111111111111111,
              "#46039f"
             ],
             [
              0.2222222222222222,
              "#7201a8"
             ],
             [
              0.3333333333333333,
              "#9c179e"
             ],
             [
              0.4444444444444444,
              "#bd3786"
             ],
             [
              0.5555555555555556,
              "#d8576b"
             ],
             [
              0.6666666666666666,
              "#ed7953"
             ],
             [
              0.7777777777777778,
              "#fb9f3a"
             ],
             [
              0.8888888888888888,
              "#fdca26"
             ],
             [
              1,
              "#f0f921"
             ]
            ],
            "type": "surface"
           }
          ],
          "table": [
           {
            "cells": {
             "fill": {
              "color": "#EBF0F8"
             },
             "line": {
              "color": "white"
             }
            },
            "header": {
             "fill": {
              "color": "#C8D4E3"
             },
             "line": {
              "color": "white"
             }
            },
            "type": "table"
           }
          ]
         },
         "layout": {
          "annotationdefaults": {
           "arrowcolor": "#2a3f5f",
           "arrowhead": 0,
           "arrowwidth": 1
          },
          "autotypenumbers": "strict",
          "coloraxis": {
           "colorbar": {
            "outlinewidth": 0,
            "ticks": ""
           }
          },
          "colorscale": {
           "diverging": [
            [
             0,
             "#8e0152"
            ],
            [
             0.1,
             "#c51b7d"
            ],
            [
             0.2,
             "#de77ae"
            ],
            [
             0.3,
             "#f1b6da"
            ],
            [
             0.4,
             "#fde0ef"
            ],
            [
             0.5,
             "#f7f7f7"
            ],
            [
             0.6,
             "#e6f5d0"
            ],
            [
             0.7,
             "#b8e186"
            ],
            [
             0.8,
             "#7fbc41"
            ],
            [
             0.9,
             "#4d9221"
            ],
            [
             1,
             "#276419"
            ]
           ],
           "sequential": [
            [
             0,
             "#0d0887"
            ],
            [
             0.1111111111111111,
             "#46039f"
            ],
            [
             0.2222222222222222,
             "#7201a8"
            ],
            [
             0.3333333333333333,
             "#9c179e"
            ],
            [
             0.4444444444444444,
             "#bd3786"
            ],
            [
             0.5555555555555556,
             "#d8576b"
            ],
            [
             0.6666666666666666,
             "#ed7953"
            ],
            [
             0.7777777777777778,
             "#fb9f3a"
            ],
            [
             0.8888888888888888,
             "#fdca26"
            ],
            [
             1,
             "#f0f921"
            ]
           ],
           "sequentialminus": [
            [
             0,
             "#0d0887"
            ],
            [
             0.1111111111111111,
             "#46039f"
            ],
            [
             0.2222222222222222,
             "#7201a8"
            ],
            [
             0.3333333333333333,
             "#9c179e"
            ],
            [
             0.4444444444444444,
             "#bd3786"
            ],
            [
             0.5555555555555556,
             "#d8576b"
            ],
            [
             0.6666666666666666,
             "#ed7953"
            ],
            [
             0.7777777777777778,
             "#fb9f3a"
            ],
            [
             0.8888888888888888,
             "#fdca26"
            ],
            [
             1,
             "#f0f921"
            ]
           ]
          },
          "colorway": [
           "#636efa",
           "#EF553B",
           "#00cc96",
           "#ab63fa",
           "#FFA15A",
           "#19d3f3",
           "#FF6692",
           "#B6E880",
           "#FF97FF",
           "#FECB52"
          ],
          "font": {
           "color": "#2a3f5f"
          },
          "geo": {
           "bgcolor": "white",
           "lakecolor": "white",
           "landcolor": "#E5ECF6",
           "showlakes": true,
           "showland": true,
           "subunitcolor": "white"
          },
          "hoverlabel": {
           "align": "left"
          },
          "hovermode": "closest",
          "mapbox": {
           "style": "light"
          },
          "paper_bgcolor": "white",
          "plot_bgcolor": "#E5ECF6",
          "polar": {
           "angularaxis": {
            "gridcolor": "white",
            "linecolor": "white",
            "ticks": ""
           },
           "bgcolor": "#E5ECF6",
           "radialaxis": {
            "gridcolor": "white",
            "linecolor": "white",
            "ticks": ""
           }
          },
          "scene": {
           "xaxis": {
            "backgroundcolor": "#E5ECF6",
            "gridcolor": "white",
            "gridwidth": 2,
            "linecolor": "white",
            "showbackground": true,
            "ticks": "",
            "zerolinecolor": "white"
           },
           "yaxis": {
            "backgroundcolor": "#E5ECF6",
            "gridcolor": "white",
            "gridwidth": 2,
            "linecolor": "white",
            "showbackground": true,
            "ticks": "",
            "zerolinecolor": "white"
           },
           "zaxis": {
            "backgroundcolor": "#E5ECF6",
            "gridcolor": "white",
            "gridwidth": 2,
            "linecolor": "white",
            "showbackground": true,
            "ticks": "",
            "zerolinecolor": "white"
           }
          },
          "shapedefaults": {
           "line": {
            "color": "#2a3f5f"
           }
          },
          "ternary": {
           "aaxis": {
            "gridcolor": "white",
            "linecolor": "white",
            "ticks": ""
           },
           "baxis": {
            "gridcolor": "white",
            "linecolor": "white",
            "ticks": ""
           },
           "bgcolor": "#E5ECF6",
           "caxis": {
            "gridcolor": "white",
            "linecolor": "white",
            "ticks": ""
           }
          },
          "title": {
           "x": 0.05
          },
          "xaxis": {
           "automargin": true,
           "gridcolor": "white",
           "linecolor": "white",
           "ticks": "",
           "title": {
            "standoff": 15
           },
           "zerolinecolor": "white",
           "zerolinewidth": 2
          },
          "yaxis": {
           "automargin": true,
           "gridcolor": "white",
           "linecolor": "white",
           "ticks": "",
           "title": {
            "standoff": 15
           },
           "zerolinecolor": "white",
           "zerolinewidth": 2
          }
         }
        },
        "title": {
         "text": "Total Users watching by program_class"
        }
       }
      }
     },
     "metadata": {},
     "output_type": "display_data"
    }
   ],
   "source": [
    "# plot the total watch time against total number of users and report your findings\n",
    "fig = px.pie(grouped, values='Total watch time in houres', names='program_class',\\\n",
    "             hover_data=['program_class'],title='Total duration spent by program_class')\n",
    "fig2 = px.pie(grouped, values='No of Users who Watched', names='program_class',\\\n",
    "             hover_data=['program_class'],title='Total Users watching by program_class')\n",
    "\n",
    "fig.update_traces(sort=False)\n",
    "fig2.update_traces(sort=False)\n",
    "fig.show()\n",
    "fig2.show()"
   ]
  },
  {
   "cell_type": "code",
   "execution_count": 29,
   "id": "0f204d57",
   "metadata": {},
   "outputs": [
    {
     "data": {
      "text/html": [
       "<div>\n",
       "<style scoped>\n",
       "    .dataframe tbody tr th:only-of-type {\n",
       "        vertical-align: middle;\n",
       "    }\n",
       "\n",
       "    .dataframe tbody tr th {\n",
       "        vertical-align: top;\n",
       "    }\n",
       "\n",
       "    .dataframe thead th {\n",
       "        text-align: right;\n",
       "    }\n",
       "</style>\n",
       "<table border=\"1\" class=\"dataframe\">\n",
       "  <thead>\n",
       "    <tr style=\"text-align: right;\">\n",
       "      <th></th>\n",
       "      <th>date_</th>\n",
       "      <th>user_id_maped</th>\n",
       "      <th>program_name</th>\n",
       "      <th>duration_seconds</th>\n",
       "      <th>program_class</th>\n",
       "      <th>season</th>\n",
       "      <th>episode</th>\n",
       "      <th>program_desc</th>\n",
       "      <th>program_genre</th>\n",
       "      <th>series_title</th>\n",
       "      <th>hd</th>\n",
       "      <th>original_name</th>\n",
       "    </tr>\n",
       "  </thead>\n",
       "  <tbody>\n",
       "    <tr>\n",
       "      <th>0</th>\n",
       "      <td>2017-05-27</td>\n",
       "      <td>26138</td>\n",
       "      <td>100 treets</td>\n",
       "      <td>40</td>\n",
       "      <td>MOVIE</td>\n",
       "      <td>0</td>\n",
       "      <td>0</td>\n",
       "      <td>Drama Movie100 Streets</td>\n",
       "      <td>Drama</td>\n",
       "      <td>0</td>\n",
       "      <td>0</td>\n",
       "      <td>100 treets</td>\n",
       "    </tr>\n",
       "    <tr>\n",
       "      <th>1</th>\n",
       "      <td>2017-05-21</td>\n",
       "      <td>7946</td>\n",
       "      <td>Moana</td>\n",
       "      <td>17</td>\n",
       "      <td>MOVIE</td>\n",
       "      <td>0</td>\n",
       "      <td>0</td>\n",
       "      <td>Animation MovieMoana (HD)</td>\n",
       "      <td>Animation</td>\n",
       "      <td>0</td>\n",
       "      <td>1</td>\n",
       "      <td>Moana</td>\n",
       "    </tr>\n",
       "    <tr>\n",
       "      <th>2</th>\n",
       "      <td>2017-08-10</td>\n",
       "      <td>7418</td>\n",
       "      <td>The Mermaid Princess</td>\n",
       "      <td>8</td>\n",
       "      <td>MOVIE</td>\n",
       "      <td>0</td>\n",
       "      <td>0</td>\n",
       "      <td>Animation MovieThe Mermaid Princess (HD)</td>\n",
       "      <td>Animation</td>\n",
       "      <td>0</td>\n",
       "      <td>1</td>\n",
       "      <td>The Mermaid Princess</td>\n",
       "    </tr>\n",
       "    <tr>\n",
       "      <th>3</th>\n",
       "      <td>2017-07-26</td>\n",
       "      <td>19307</td>\n",
       "      <td>The Mermaid Princess</td>\n",
       "      <td>76</td>\n",
       "      <td>MOVIE</td>\n",
       "      <td>0</td>\n",
       "      <td>0</td>\n",
       "      <td>Animation MovieThe Mermaid Princess (HD)</td>\n",
       "      <td>Animation</td>\n",
       "      <td>0</td>\n",
       "      <td>1</td>\n",
       "      <td>The Mermaid Princess</td>\n",
       "    </tr>\n",
       "    <tr>\n",
       "      <th>4</th>\n",
       "      <td>2017-07-07</td>\n",
       "      <td>15860</td>\n",
       "      <td>Churchill</td>\n",
       "      <td>87</td>\n",
       "      <td>MOVIE</td>\n",
       "      <td>0</td>\n",
       "      <td>0</td>\n",
       "      <td>Biography MovieChurchill (HD)</td>\n",
       "      <td>Biography</td>\n",
       "      <td>0</td>\n",
       "      <td>1</td>\n",
       "      <td>Churchill</td>\n",
       "    </tr>\n",
       "  </tbody>\n",
       "</table>\n",
       "</div>"
      ],
      "text/plain": [
       "       date_ user_id_maped          program_name  duration_seconds   \n",
       "0 2017-05-27         26138            100 treets                40  \\\n",
       "1 2017-05-21          7946                 Moana                17   \n",
       "2 2017-08-10          7418  The Mermaid Princess                 8   \n",
       "3 2017-07-26         19307  The Mermaid Princess                76   \n",
       "4 2017-07-07         15860             Churchill                87   \n",
       "\n",
       "  program_class  season  episode                              program_desc   \n",
       "0         MOVIE       0        0                    Drama Movie100 Streets  \\\n",
       "1         MOVIE       0        0                 Animation MovieMoana (HD)   \n",
       "2         MOVIE       0        0  Animation MovieThe Mermaid Princess (HD)   \n",
       "3         MOVIE       0        0  Animation MovieThe Mermaid Princess (HD)   \n",
       "4         MOVIE       0        0             Biography MovieChurchill (HD)   \n",
       "\n",
       "  program_genre  series_title  hd         original_name  \n",
       "0         Drama             0   0            100 treets  \n",
       "1     Animation             0   1                 Moana  \n",
       "2     Animation             0   1  The Mermaid Princess  \n",
       "3     Animation             0   1  The Mermaid Princess  \n",
       "4     Biography             0   1             Churchill  "
      ]
     },
     "execution_count": 29,
     "metadata": {},
     "output_type": "execute_result"
    }
   ],
   "source": [
    "\"\"\"\n",
    "TODO study the relation and user's behaviour Against HD flag, feel free to include any comparison \n",
    "\"\"\"\n"
   ]
  },
  {
   "cell_type": "markdown",
   "id": "b72eb48c",
   "metadata": {},
   "source": [
    "In this code, I've used Plotly to create three different types of visualizations:\n",
    "\n",
    "- Line Plot: Shows the trend of the average HD flag over time.\n",
    "- Bar Plot: Displays the count of programs by genre.\n",
    "- Scatter Plot: Represents the relationship between average program duration, unique users, and the count of programs by genre."
   ]
  },
  {
   "cell_type": "code",
   "execution_count": 47,
   "id": "66fa6fb2",
   "metadata": {},
   "outputs": [],
   "source": [
    "aggregated_data = df.groupby('date_').agg({\n",
    "    'hd': 'mean',  # Average HD flag\n",
    "    'duration_seconds': 'mean',  # Average program duration\n",
    "    'user_id_maped': 'nunique',  # Count of unique users\n",
    "    'program_genre': 'count'  # Count of programs by genre\n",
    "}).reset_index()\n"
   ]
  },
  {
   "cell_type": "code",
   "execution_count": 51,
   "id": "c6500b62",
   "metadata": {},
   "outputs": [
    {
     "data": {
      "image/png": "[encoded data removed]",
      "text/plain": [
       "<Figure size 600x400 with 1 Axes>"
      ]
     },
     "metadata": {},
     "output_type": "display_data"
    }
   ],
   "source": [
    "# Create a bar plot showing the distribution of HD vs. Non-HD programs\n",
    "hd_counts = df['hd'].value_counts()\n",
    "plt.figure(figsize=(6, 4))\n",
    "plt.bar(hd_counts.index, hd_counts.values, color=['blue', 'orange'])\n",
    "plt.xlabel('HD Flag')\n",
    "plt.ylabel('Number of Programs')\n",
    "plt.title('Distribution of HD vs. Non-HD Programs')\n",
    "plt.xticks(hd_counts.index, ['Non-HD', 'HD'])\n",
    "plt.tight_layout()\n",
    "plt.show()"
   ]
  },
  {
   "cell_type": "code",
   "execution_count": 56,
   "id": "6da7fd92",
   "metadata": {},
   "outputs": [
    {
     "data": {
      "application/vnd.plotly.v1+json": {
       "config": {
        "plotlyServerURL": "https://plot.ly"
       },
       "data": [
        {
         "hovertemplate": "date_=%{x}<br>hd=%{y}<extra></extra>",
         "legendgroup": "",
         "line": {
          "color": "#636efa",
          "dash": "solid"
         },
         "marker": {
          "symbol": "circle"
         },
         "mode": "lines",
         "name": "",
         "orientation": "v",
         "showlegend": false,
         "type": "scatter",
         "x": [
          "2017-03-14T00:00:00",
          "2017-03-15T00:00:00",
          "2017-03-16T00:00:00",
          "2017-03-17T00:00:00",
          "2017-03-18T00:00:00",
          "2017-03-19T00:00:00",
          "2017-03-20T00:00:00",
          "2017-03-21T00:00:00",
          "2017-03-22T00:00:00",
          "2017-03-23T00:00:00",
          "2017-03-24T00:00:00",
          "2017-03-25T00:00:00",
          "2017-03-26T00:00:00",
          "2017-03-27T00:00:00",
          "2017-03-28T00:00:00",
          "2017-03-29T00:00:00",
          "2017-03-30T00:00:00",
          "2017-04-01T00:00:00",
          "2017-04-02T00:00:00",
          "2017-04-03T00:00:00",
          "2017-04-04T00:00:00",
          "2017-04-05T00:00:00",
          "2017-04-06T00:00:00",
          "2017-04-07T00:00:00",
          "2017-04-08T00:00:00",
          "2017-04-09T00:00:00",
          "2017-04-10T00:00:00",
          "2017-04-11T00:00:00",
          "2017-04-12T00:00:00",
          "2017-04-13T00:00:00",
          "2017-04-14T00:00:00",
          "2017-04-15T00:00:00",
          "2017-04-16T00:00:00",
          "2017-04-17T00:00:00",
          "2017-04-18T00:00:00",
          "2017-04-19T00:00:00",
          "2017-04-20T00:00:00",
          "2017-04-21T00:00:00",
          "2017-04-22T00:00:00",
          "2017-04-23T00:00:00",
          "2017-04-24T00:00:00",
          "2017-04-25T00:00:00",
          "2017-04-26T00:00:00",
          "2017-04-27T00:00:00",
          "2017-04-28T00:00:00",
          "2017-04-29T00:00:00",
          "2017-04-30T00:00:00",
          "2017-05-01T00:00:00",
          "2017-05-02T00:00:00",
          "2017-05-03T00:00:00",
          "2017-05-04T00:00:00",
          "2017-05-05T00:00:00",
          "2017-05-06T00:00:00",
          "2017-05-07T00:00:00",
          "2017-05-08T00:00:00",
          "2017-05-09T00:00:00",
          "2017-05-10T00:00:00",
          "2017-05-11T00:00:00",
          "2017-05-12T00:00:00",
          "2017-05-13T00:00:00",
          "2017-05-14T00:00:00",
          "2017-05-15T00:00:00",
          "2017-05-16T00:00:00",
          "2017-05-17T00:00:00",
          "2017-05-18T00:00:00",
          "2017-05-19T00:00:00",
          "2017-05-20T00:00:00",
          "2017-05-21T00:00:00",
          "2017-05-22T00:00:00",
          "2017-05-23T00:00:00",
          "2017-05-24T00:00:00",
          "2017-05-25T00:00:00",
          "2017-05-26T00:00:00",
          "2017-05-27T00:00:00",
          "2017-05-28T00:00:00",
          "2017-05-29T00:00:00",
          "2017-05-30T00:00:00",
          "2017-05-31T00:00:00",
          "2017-06-01T00:00:00",
          "2017-06-02T00:00:00",
          "2017-06-03T00:00:00",
          "2017-06-04T00:00:00",
          "2017-06-05T00:00:00",
          "2017-06-06T00:00:00",
          "2017-06-07T00:00:00",
          "2017-06-08T00:00:00",
          "2017-06-09T00:00:00",
          "2017-06-10T00:00:00",
          "2017-06-11T00:00:00",
          "2017-06-12T00:00:00",
          "2017-06-13T00:00:00",
          "2017-06-14T00:00:00",
          "2017-06-15T00:00:00",
          "2017-06-16T00:00:00",
          "2017-06-17T00:00:00",
          "2017-06-18T00:00:00",
          "2017-06-19T00:00:00",
          "2017-06-20T00:00:00",
          "2017-06-21T00:00:00",
          "2017-06-22T00:00:00",
          "2017-06-23T00:00:00",
          "2017-06-24T00:00:00",
          "2017-06-25T00:00:00",
          "2017-06-26T00:00:00",
          "2017-06-27T00:00:00",
          "2017-06-28T00:00:00",
          "2017-06-29T00:00:00",
          "2017-06-30T00:00:00",
          "2017-07-01T00:00:00",
          "2017-07-02T00:00:00",
          "2017-07-03T00:00:00",
          "2017-07-04T00:00:00",
          "2017-07-05T00:00:00",
          "2017-07-06T00:00:00",
          "2017-07-07T00:00:00",
          "2017-07-08T00:00:00",
          "2017-07-09T00:00:00",
          "2017-07-10T00:00:00",
          "2017-07-11T00:00:00",
          "2017-07-12T00:00:00",
          "2017-07-13T00:00:00",
          "2017-07-14T00:00:00",
          "2017-07-15T00:00:00",
          "2017-07-16T00:00:00",
          "2017-07-17T00:00:00",
          "2017-07-18T00:00:00",
          "2017-07-19T00:00:00",
          "2017-07-20T00:00:00",
          "2017-07-21T00:00:00",
          "2017-07-22T00:00:00",
          "2017-07-23T00:00:00",
          "2017-07-24T00:00:00",
          "2017-07-25T00:00:00",
          "2017-07-26T00:00:00",
          "2017-07-27T00:00:00",
          "2017-07-28T00:00:00",
          "2017-07-29T00:00:00",
          "2017-07-30T00:00:00",
          "2017-07-31T00:00:00",
          "2017-08-01T00:00:00",
          "2017-08-02T00:00:00",
          "2017-08-03T00:00:00",
          "2017-08-04T00:00:00",
          "2017-08-05T00:00:00",
          "2017-08-06T00:00:00",
          "2017-08-07T00:00:00",
          "2017-08-08T00:00:00",
          "2017-08-09T00:00:00",
          "2017-08-10T00:00:00",
          "2017-08-11T00:00:00",
          "2017-08-12T00:00:00",
          "2017-08-13T00:00:00",
          "2017-08-14T00:00:00",
          "2017-08-15T00:00:00",
          "2017-08-16T00:00:00",
          "2017-08-17T00:00:00",
          "2017-08-18T00:00:00",
          "2017-08-19T00:00:00",
          "2017-08-20T00:00:00",
          "2017-08-21T00:00:00",
          "2017-08-22T00:00:00",
          "2017-08-24T00:00:00",
          "2017-08-25T00:00:00",
          "2017-08-26T00:00:00",
          "2017-08-27T00:00:00",
          "2017-08-28T00:00:00",
          "2017-08-29T00:00:00",
          "2017-08-30T00:00:00",
          "2017-08-31T00:00:00",
          "2017-09-01T00:00:00",
          "2017-09-02T00:00:00",
          "2017-09-03T00:00:00",
          "2017-09-04T00:00:00",
          "2017-09-05T00:00:00",
          "2017-09-06T00:00:00",
          "2017-09-07T00:00:00",
          "2017-09-08T00:00:00",
          "2017-09-09T00:00:00",
          "2017-09-10T00:00:00",
          "2017-09-11T00:00:00",
          "2017-09-12T00:00:00",
          "2017-09-13T00:00:00",
          "2017-09-14T00:00:00",
          "2017-09-15T00:00:00",
          "2017-09-16T00:00:00",
          "2017-09-17T00:00:00",
          "2017-09-18T00:00:00",
          "2017-09-19T00:00:00",
          "2017-09-20T00:00:00",
          "2017-09-21T00:00:00",
          "2017-09-22T00:00:00",
          "2017-09-23T00:00:00",
          "2017-09-24T00:00:00",
          "2017-09-25T00:00:00",
          "2017-09-26T00:00:00",
          "2017-09-27T00:00:00",
          "2017-09-28T00:00:00",
          "2017-09-29T00:00:00",
          "2017-09-30T00:00:00",
          "2017-10-01T00:00:00",
          "2017-10-02T00:00:00",
          "2017-10-03T00:00:00",
          "2017-10-04T00:00:00",
          "2017-10-05T00:00:00",
          "2017-10-06T00:00:00",
          "2017-10-07T00:00:00",
          "2017-10-08T00:00:00",
          "2017-10-09T00:00:00",
          "2017-10-10T00:00:00",
          "2017-10-11T00:00:00",
          "2017-10-12T00:00:00",
          "2017-10-13T00:00:00",
          "2017-10-14T00:00:00",
          "2017-10-15T00:00:00",
          "2017-10-16T00:00:00",
          "2017-10-17T00:00:00",
          "2017-10-18T00:00:00",
          "2017-10-19T00:00:00",
          "2017-10-20T00:00:00",
          "2017-10-21T00:00:00",
          "2017-10-22T00:00:00",
          "2017-10-23T00:00:00",
          "2017-10-24T00:00:00",
          "2017-10-25T00:00:00",
          "2017-10-26T00:00:00",
          "2017-10-27T00:00:00",
          "2017-10-28T00:00:00",
          "2017-10-29T00:00:00",
          "2017-10-30T00:00:00",
          "2017-10-31T00:00:00",
          "2017-11-01T00:00:00",
          "2017-11-02T00:00:00",
          "2017-11-03T00:00:00",
          "2017-11-04T00:00:00",
          "2017-11-05T00:00:00",
          "2017-11-06T00:00:00",
          "2017-11-07T00:00:00",
          "2017-11-08T00:00:00",
          "2017-11-09T00:00:00",
          "2017-11-10T00:00:00",
          "2017-11-11T00:00:00",
          "2017-11-12T00:00:00",
          "2017-11-13T00:00:00",
          "2017-11-14T00:00:00",
          "2017-11-15T00:00:00",
          "2017-11-16T00:00:00",
          "2017-11-17T00:00:00",
          "2017-11-18T00:00:00",
          "2017-11-19T00:00:00",
          "2017-11-20T00:00:00",
          "2017-11-21T00:00:00",
          "2017-11-22T00:00:00",
          "2017-11-23T00:00:00",
          "2017-11-24T00:00:00",
          "2017-11-25T00:00:00",
          "2017-11-26T00:00:00",
          "2017-11-27T00:00:00",
          "2017-11-28T00:00:00",
          "2017-11-29T00:00:00",
          "2017-11-30T00:00:00",
          "2017-12-01T00:00:00",
          "2017-12-02T00:00:00",
          "2017-12-03T00:00:00",
          "2017-12-04T00:00:00",
          "2017-12-05T00:00:00",
          "2017-12-06T00:00:00",
          "2017-12-07T00:00:00",
          "2017-12-08T00:00:00",
          "2017-12-09T00:00:00",
          "2017-12-10T00:00:00",
          "2017-12-11T00:00:00",
          "2017-12-12T00:00:00",
          "2017-12-13T00:00:00",
          "2017-12-14T00:00:00",
          "2017-12-15T00:00:00",
          "2017-12-16T00:00:00",
          "2017-12-17T00:00:00",
          "2017-12-18T00:00:00",
          "2017-12-19T00:00:00",
          "2017-12-20T00:00:00",
          "2017-12-21T00:00:00",
          "2017-12-22T00:00:00",
          "2017-12-23T00:00:00",
          "2017-12-24T00:00:00",
          "2017-12-25T00:00:00",
          "2017-12-26T00:00:00",
          "2017-12-27T00:00:00",
          "2017-12-28T00:00:00",
          "2017-12-29T00:00:00",
          "2017-12-30T00:00:00",
          "2017-12-31T00:00:00",
          "2018-01-01T00:00:00",
          "2018-01-02T00:00:00",
          "2018-01-03T00:00:00",
          "2018-01-04T00:00:00",
          "2018-01-05T00:00:00",
          "2018-01-06T00:00:00",
          "2018-01-07T00:00:00",
          "2018-01-08T00:00:00",
          "2018-01-09T00:00:00",
          "2018-01-10T00:00:00",
          "2018-01-11T00:00:00",
          "2018-01-12T00:00:00",
          "2018-01-13T00:00:00",
          "2018-01-14T00:00:00",
          "2018-01-15T00:00:00",
          "2018-01-16T00:00:00",
          "2018-01-17T00:00:00",
          "2018-01-18T00:00:00",
          "2018-01-19T00:00:00",
          "2018-01-20T00:00:00",
          "2018-01-21T00:00:00",
          "2018-01-22T00:00:00",
          "2018-01-23T00:00:00",
          "2018-01-24T00:00:00",
          "2018-01-25T00:00:00",
          "2018-01-26T00:00:00",
          "2018-01-27T00:00:00",
          "2018-01-28T00:00:00",
          "2018-01-29T00:00:00",
          "2018-01-30T00:00:00",
          "2018-01-31T00:00:00",
          "2018-02-01T00:00:00",
          "2018-02-02T00:00:00",
          "2018-02-03T00:00:00",
          "2018-02-04T00:00:00",
          "2018-02-05T00:00:00",
          "2018-02-06T00:00:00",
          "2018-02-07T00:00:00",
          "2018-02-08T00:00:00",
          "2018-02-09T00:00:00",
          "2018-02-10T00:00:00",
          "2018-02-11T00:00:00",
          "2018-02-12T00:00:00",
          "2018-02-13T00:00:00",
          "2018-02-14T00:00:00",
          "2018-02-15T00:00:00",
          "2018-02-16T00:00:00",
          "2018-02-17T00:00:00",
          "2018-02-18T00:00:00",
          "2018-02-19T00:00:00",
          "2018-02-20T00:00:00",
          "2018-02-21T00:00:00",
          "2018-02-22T00:00:00",
          "2018-02-23T00:00:00",
          "2018-02-24T00:00:00",
          "2018-02-25T00:00:00",
          "2018-02-26T00:00:00",
          "2018-02-27T00:00:00",
          "2018-02-28T00:00:00",
          "2018-03-01T00:00:00",
          "2018-03-02T00:00:00",
          "2018-03-03T00:00:00",
          "2018-03-04T00:00:00",
          "2018-03-05T00:00:00",
          "2018-03-06T00:00:00",
          "2018-03-07T00:00:00",
          "2018-03-08T00:00:00",
          "2018-03-09T00:00:00",
          "2018-03-10T00:00:00",
          "2018-03-11T00:00:00",
          "2018-03-12T00:00:00",
          "2018-03-13T00:00:00",
          "2018-03-14T00:00:00",
          "2018-03-15T00:00:00",
          "2018-03-16T00:00:00",
          "2018-03-17T00:00:00",
          "2018-03-18T00:00:00",
          "2018-03-19T00:00:00",
          "2018-03-20T00:00:00",
          "2018-03-21T00:00:00",
          "2018-03-22T00:00:00",
          "2018-03-23T00:00:00",
          "2018-03-24T00:00:00",
          "2018-03-25T00:00:00",
          "2018-03-26T00:00:00",
          "2018-03-27T00:00:00",
          "2018-03-28T00:00:00",
          "2018-03-29T00:00:00",
          "2018-03-30T00:00:00",
          "2018-03-31T00:00:00",
          "2018-04-01T00:00:00",
          "2018-04-02T00:00:00",
          "2018-04-03T00:00:00",
          "2018-04-04T00:00:00",
          "2018-04-05T00:00:00",
          "2018-04-06T00:00:00",
          "2018-04-07T00:00:00",
          "2018-04-08T00:00:00",
          "2018-04-09T00:00:00",
          "2018-04-10T00:00:00",
          "2018-04-11T00:00:00",
          "2018-04-12T00:00:00",
          "2018-04-13T00:00:00",
          "2018-04-14T00:00:00",
          "2018-04-15T00:00:00",
          "2018-04-16T00:00:00",
          "2018-04-17T00:00:00",
          "2018-04-18T00:00:00",
          "2018-04-19T00:00:00",
          "2018-04-20T00:00:00",
          "2018-04-21T00:00:00",
          "2018-04-22T00:00:00",
          "2018-04-23T00:00:00",
          "2018-04-24T00:00:00",
          "2018-04-25T00:00:00",
          "2018-04-26T00:00:00",
          "2018-04-27T00:00:00",
          "2018-04-28T00:00:00",
          "2018-04-29T00:00:00",
          "2018-04-30T00:00:00"
         ],
         "xaxis": "x",
         "y": [
          0.4335644136337377,
          0.3786999419616947,
          0.4517593643586833,
          0.43145539906103286,
          0.4239566140061306,
          0.4728487886382623,
          0.4268235294117647,
          0.4218192627824019,
          0.3962655601659751,
          0.43792391624889415,
          0.4685455460493206,
          0.446690734055355,
          0.4122087298982606,
          0.4665314401622718,
          0.46138415245737213,
          0.47094298245614036,
          0.42276665670749924,
          0.4501707544240919,
          0.422051965356429,
          0.3567062207838907,
          0.44493230881814855,
          0.44184491978609625,
          0.39350695683196574,
          0.3972841225626741,
          0.43215434083601284,
          0.4034653465346535,
          0.48807631160572335,
          0.5913263691041469,
          0.48017924853498795,
          0.44367308299147995,
          0.5145813734713076,
          0.4994011976047904,
          0.47986230636833044,
          0.4639358860195904,
          0.45515151515151514,
          0.42915531335149865,
          0.4589807333747669,
          0.4951241134751773,
          0.4511448651099524,
          0.4512656386383474,
          0.45688657407407407,
          0.5610924772400575,
          0.5216597077244259,
          0.41910719363093546,
          0.42475908080059305,
          0.4443847393874261,
          0.4161687170474517,
          0.45531295487627366,
          0.40761689291101055,
          0.40370238519045926,
          0.4534967555875991,
          0.42406789936344347,
          0.4479733817301875,
          0.43124118476727785,
          0.4016497461928934,
          0.4137824474660074,
          0.4560333761232349,
          0.44520103761348895,
          0.5095160413268081,
          0.5118296529968455,
          0.4644045242847638,
          0.4188654353562005,
          0.43486714193130266,
          0.4444444444444444,
          0.4439770554493308,
          0.34189723320158105,
          0.40174825174825174,
          0.3992970123022847,
          0.4224265796499555,
          0.43331374853113985,
          0.48668688911358277,
          0.47328767123287674,
          0.41693037974683544,
          0.3850415512465374,
          0.46354635463546356,
          0.416140350877193,
          0.4965299684542587,
          0.4987066735644077,
          0.5205570291777188,
          0.6369460758142018,
          0.5841144548593982,
          0.6097832128960534,
          0.424721734036321,
          0.42247799593771157,
          0.4250936329588015,
          0.43010752688172044,
          0.44533485975958786,
          0.4370284387695879,
          0.392,
          0.38815060908084165,
          0.4091732045866023,
          0.40468227424749165,
          0.40904017857142855,
          0.5843720038350911,
          0.5754310344827587,
          0.46809623430962344,
          0.431794333683106,
          0.47889800703399765,
          0.4518008474576271,
          0.3730684326710817,
          0.4719416386083053,
          0.47242380261248185,
          0.472914875322442,
          0.49506726457399103,
          0.5294117647058824,
          0.4179025423728814,
          0.3854913538591312,
          0.3515344758868075,
          0.350970688998858,
          0.3522422384055194,
          0.3672787979966611,
          0.3737259343148358,
          0.44500359453630484,
          0.3933910306845004,
          0.3602558976409436,
          0.4495042232831436,
          0.42792976725193954,
          0.43676767676767675,
          0.3972602739726027,
          0.3851118760757315,
          0.3841567291311755,
          0.4071367153912296,
          0.39697624190064795,
          0.349,
          0.3962703962703963,
          0.4368052696582956,
          0.43643688451208595,
          0.5429986492570914,
          0.4863013698630137,
          0.48194945848375453,
          0.4782187802516941,
          0.4406354515050167,
          0.49793217535153017,
          0.46194762684124385,
          0.5539004312034497,
          0.46893787575150303,
          0.4264380530973451,
          0.5087802562885619,
          0.3731903485254692,
          0.44916739702015773,
          0.4391206313416009,
          0.47668886774500474,
          0.38751746623195155,
          0.44089456869009586,
          0.4201898188093184,
          0.5374615121450564,
          0.5027866242038217,
          0.5685197155785391,
          0.44564240790655885,
          0.5107692307692308,
          0.4875124875124875,
          0.45329038196042337,
          0.43183897529734677,
          0.441470054446461,
          0.4790697674418605,
          0.4670923379174853,
          0.548108552631579,
          0.5280769230769231,
          0.5921109666233203,
          0.5287449392712551,
          0.479156202913109,
          0.50199203187251,
          0.45884003741814783,
          0.3597345132743363,
          0.4346876365224989,
          0.36785880167208546,
          0.3352510460251046,
          0.38006952491309387,
          0.375366568914956,
          0.6341463414634146,
          0.4711917916337806,
          0.45018450184501846,
          0.4116937914406269,
          0.39546191247974066,
          0.48384279475982533,
          0.4067472947167409,
          0.4554140127388535,
          0.48964565117349285,
          0.4008283479061206,
          0.4028503562945368,
          0.35694050991501414,
          0.400093808630394,
          0.37091988130563797,
          0.4323818437061301,
          0.4075327972915785,
          0.45225872689938396,
          0.4209741550695825,
          0.4616187989556136,
          0.5173724212812161,
          0.5488599348534202,
          0.5538342370255616,
          0.35460674157303373,
          0.38799793067770305,
          0.4199491740787802,
          0.3700623700623701,
          0.3772760378732702,
          0.4343065693430657,
          0.3718267794922847,
          0.36037934668071653,
          0.36728919071873234,
          0.4003426613363792,
          0.4164600892414477,
          0.4671852211959164,
          0.3628498727735369,
          0.4009146341463415,
          0.4877460827641623,
          0.37155963302752293,
          0.3449367088607595,
          0.38471502590673573,
          0.3594239198497182,
          0.5061590145576708,
          0.5166508087535681,
          0.4278822961890979,
          0.4599774520856821,
          0.4725158562367865,
          0.37317468902109246,
          0.44930519814719505,
          0.41850431447746883,
          0.3885180240320427,
          0.3901496861419604,
          0.4187248707639288,
          0.5205944798301486,
          0.5360691144708424,
          0.3736871199557767,
          0.5081059707394227,
          0.526527625320161,
          0.5053086905230043,
          0.34674777725783806,
          0.3544655252198056,
          0.4178952719877987,
          0.3301637612255679,
          0.3400786958965711,
          0.47587025316455694,
          0.410182119205298,
          0.4,
          0.3731193580742227,
          0.32938856015779094,
          0.2967416602017067,
          0.3367272727272727,
          0.3708092485549133,
          0.4691789368604941,
          0.29581636430951497,
          0.31776010603048377,
          0.3363514419852448,
          0.37511577647422045,
          0.30013149243918474,
          0.3702522470281241,
          0.31127679403541475,
          0.32027649769585254,
          0.27476234283961976,
          0.1890402075226978,
          0.25207296849087896,
          0.27625739644970415,
          0.2496951219512195,
          0.2556872797180391,
          0.19129587528418318,
          0.1983695652173913,
          0.18979744936234058,
          0.23549359457422758,
          0.2572852760736196,
          0.2617949627527492,
          0.24315514993481094,
          0.21524990879241152,
          0.3642454160789845,
          0.2324435318275154,
          0.21577441765427052,
          0.1958041958041958,
          0.24316546762589927,
          0.2767503302509908,
          0.2154328241284763,
          0.19610182975338106,
          0.19718309859154928,
          0.29584527220630374,
          0.2168082253017434,
          0.35865257595772787,
          0.2943110818809602,
          0.33261494252873564,
          0.1952902963865205,
          0.1511151570323168,
          0.24990971469844708,
          0.18570287539936103,
          0.24193548387096775,
          0.23963133640552994,
          0.26541981695185035,
          0.30223258913695433,
          0.26824925816023737,
          0.23915547024952016,
          0.2832512315270936,
          0.30798919336163644,
          0.3343730505302558,
          0.2721189591078067,
          0.3063973063973064,
          0.30507088331515814,
          0.2255779269202088,
          0.27896584743057773,
          0.34859561369757597,
          0.311747478034494,
          0.32122552116235,
          0.3380513495720869,
          0.3547983744920288,
          0.2822131451912365,
          0.29747126436781607,
          0.30684657671164417,
          0.29486023444544635,
          0.31285831285831284,
          0.32722273143904673,
          0.31141345427059713,
          0.3530571992110454,
          0.32003585835948006,
          0.31024224394390143,
          0.35044132069303696,
          0.26213221245701185,
          0.4385692068429238,
          0.35995989304812837,
          0.30090270812437314,
          0.43920829406220546,
          0.332102081934184,
          0.2839622641509434,
          0.25784677691528857,
          0.24409957969608795,
          0.26263015811801005,
          0.31494325346784363,
          0.2975624256837099,
          0.29728801922416753,
          0.3547579298831386,
          0.37900874635568516,
          0.3006916636330542,
          0.2334039548022599,
          0.274442538593482,
          0.28620218579234974,
          0.2555891238670695,
          0.39936187184259503,
          0.37279774489076817,
          0.454786353097052,
          0.3576745834810351,
          0.2237871674491393,
          0.2151219512195122,
          0.2887525562372188,
          0.23760818253343824,
          0.21151776103336922,
          0.26627218934911245,
          0.18309128630705393,
          0.25527921163772876,
          0.21571180555555555,
          0.26410466067048244,
          0.23837700760777683,
          0.5013114754098361,
          0.2293628808864266,
          0.23677706376668314,
          0.1987487969201155,
          0.36689488521949254,
          0.40780669144981413,
          0.46699964323938636,
          0.5279578606158833,
          0.213339872486513,
          0.42783094098883573,
          0.332776617954071,
          0.2771186440677966,
          0.3624005305039788,
          0.43287097618424497,
          0.3114478114478115,
          0.4540447504302926,
          0.35677466863033874,
          0.33344606019614476,
          0.4201474201474201,
          0.4439403758911212,
          0.4650849285521704,
          0.3743859649122807,
          0.2695427728613569,
          0.23440643863179075,
          0.2656036446469248,
          0.3558961260110685,
          0.27215931276844985,
          0.22084257206208427,
          0.2210242587601078,
          0.3522895125553914,
          0.24309884238646481,
          0.33485309017223913,
          0.3314669652855543,
          0.34506353861192574,
          0.3438162544169611,
          0.2609841827768014,
          0.22690159003008165,
          0.2479023646071701,
          0.43337865397688646,
          0.4487603305785124,
          0.511572700296736,
          0.31702544031311153,
          0.40992167101827676,
          0.4024340770791075,
          0.35929978118161926,
          0.3181818181818182,
          0.3884833738848337,
          0.39881422924901183,
          0.47832024581768523,
          0.30138390568939005,
          0.4729315628192033,
          0.2904122278832793,
          0.2954324586977648,
          0.299347061778001,
          0.3502442690717775,
          0.3243681140635126,
          0.3383838383838384,
          0.41086304565144954,
          0.45162381596752366,
          0.38167360848163573,
          0.4719191919191919,
          0.41369047619047616,
          0.4277821625887924,
          0.3045774647887324,
          0.28207420652659815
         ],
         "yaxis": "y"
        }
       ],
       "layout": {
        "legend": {
         "tracegroupgap": 0
        },
        "template": {
         "data": {
          "bar": [
           {
            "error_x": {
             "color": "#2a3f5f"
            },
            "error_y": {
             "color": "#2a3f5f"
            },
            "marker": {
             "line": {
              "color": "#E5ECF6",
              "width": 0.5
             },
             "pattern": {
              "fillmode": "overlay",
              "size": 10,
              "solidity": 0.2
             }
            },
            "type": "bar"
           }
          ],
          "barpolar": [
           {
            "marker": {
             "line": {
              "color": "#E5ECF6",
              "width": 0.5
             },
             "pattern": {
              "fillmode": "overlay",
              "size": 10,
              "solidity": 0.2
             }
            },
            "type": "barpolar"
           }
          ],
          "carpet": [
           {
            "aaxis": {
             "endlinecolor": "#2a3f5f",
             "gridcolor": "white",
             "linecolor": "white",
             "minorgridcolor": "white",
             "startlinecolor": "#2a3f5f"
            },
            "baxis": {
             "endlinecolor": "#2a3f5f",
             "gridcolor": "white",
             "linecolor": "white",
             "minorgridcolor": "white",
             "startlinecolor": "#2a3f5f"
            },
            "type": "carpet"
           }
          ],
          "choropleth": [
           {
            "colorbar": {
             "outlinewidth": 0,
             "ticks": ""
            },
            "type": "choropleth"
           }
          ],
          "contour": [
           {
            "colorbar": {
             "outlinewidth": 0,
             "ticks": ""
            },
            "colorscale": [
             [
              0,
              "#0d0887"
             ],
             [
              0.1111111111111111,
              "#46039f"
             ],
             [
              0.2222222222222222,
              "#7201a8"
             ],
             [
              0.3333333333333333,
              "#9c179e"
             ],
             [
              0.4444444444444444,
              "#bd3786"
             ],
             [
              0.5555555555555556,
              "#d8576b"
             ],
             [
              0.6666666666666666,
              "#ed7953"
             ],
             [
              0.7777777777777778,
              "#fb9f3a"
             ],
             [
              0.8888888888888888,
              "#fdca26"
             ],
             [
              1,
              "#f0f921"
             ]
            ],
            "type": "contour"
           }
          ],
          "contourcarpet": [
           {
            "colorbar": {
             "outlinewidth": 0,
             "ticks": ""
            },
            "type": "contourcarpet"
           }
          ],
          "heatmap": [
           {
            "colorbar": {
             "outlinewidth": 0,
             "ticks": ""
            },
            "colorscale": [
             [
              0,
              "#0d0887"
             ],
             [
              0.1111111111111111,
              "#46039f"
             ],
             [
              0.2222222222222222,
              "#7201a8"
             ],
             [
              0.3333333333333333,
              "#9c179e"
             ],
             [
              0.4444444444444444,
              "#bd3786"
             ],
             [
              0.5555555555555556,
              "#d8576b"
             ],
             [
              0.6666666666666666,
              "#ed7953"
             ],
             [
              0.7777777777777778,
              "#fb9f3a"
             ],
             [
              0.8888888888888888,
              "#fdca26"
             ],
             [
              1,
              "#f0f921"
             ]
            ],
            "type": "heatmap"
           }
          ],
          "heatmapgl": [
           {
            "colorbar": {
             "outlinewidth": 0,
             "ticks": ""
            },
            "colorscale": [
             [
              0,
              "#0d0887"
             ],
             [
              0.1111111111111111,
              "#46039f"
             ],
             [
              0.2222222222222222,
              "#7201a8"
             ],
             [
              0.3333333333333333,
              "#9c179e"
             ],
             [
              0.4444444444444444,
              "#bd3786"
             ],
             [
              0.5555555555555556,
              "#d8576b"
             ],
             [
              0.6666666666666666,
              "#ed7953"
             ],
             [
              0.7777777777777778,
              "#fb9f3a"
             ],
             [
              0.8888888888888888,
              "#fdca26"
             ],
             [
              1,
              "#f0f921"
             ]
            ],
            "type": "heatmapgl"
           }
          ],
          "histogram": [
           {
            "marker": {
             "pattern": {
              "fillmode": "overlay",
              "size": 10,
              "solidity": 0.2
             }
            },
            "type": "histogram"
           }
          ],
          "histogram2d": [
           {
            "colorbar": {
             "outlinewidth": 0,
             "ticks": ""
            },
            "colorscale": [
             [
              0,
              "#0d0887"
             ],
             [
              0.1111111111111111,
              "#46039f"
             ],
             [
              0.2222222222222222,
              "#7201a8"
             ],
             [
              0.3333333333333333,
              "#9c179e"
             ],
             [
              0.4444444444444444,
              "#bd3786"
             ],
             [
              0.5555555555555556,
              "#d8576b"
             ],
             [
              0.6666666666666666,
              "#ed7953"
             ],
             [
              0.7777777777777778,
              "#fb9f3a"
             ],
             [
              0.8888888888888888,
              "#fdca26"
             ],
             [
              1,
              "#f0f921"
             ]
            ],
            "type": "histogram2d"
           }
          ],
          "histogram2dcontour": [
           {
            "colorbar": {
             "outlinewidth": 0,
             "ticks": ""
            },
            "colorscale": [
             [
              0,
              "#0d0887"
             ],
             [
              0.1111111111111111,
              "#46039f"
             ],
             [
              0.2222222222222222,
              "#7201a8"
             ],
             [
              0.3333333333333333,
              "#9c179e"
             ],
             [
              0.4444444444444444,
              "#bd3786"
             ],
             [
              0.5555555555555556,
              "#d8576b"
             ],
             [
              0.6666666666666666,
              "#ed7953"
             ],
             [
              0.7777777777777778,
              "#fb9f3a"
             ],
             [
              0.8888888888888888,
              "#fdca26"
             ],
             [
              1,
              "#f0f921"
             ]
            ],
            "type": "histogram2dcontour"
           }
          ],
          "mesh3d": [
           {
            "colorbar": {
             "outlinewidth": 0,
             "ticks": ""
            },
            "type": "mesh3d"
           }
          ],
          "parcoords": [
           {
            "line": {
             "colorbar": {
              "outlinewidth": 0,
              "ticks": ""
             }
            },
            "type": "parcoords"
           }
          ],
          "pie": [
           {
            "automargin": true,
            "type": "pie"
           }
          ],
          "scatter": [
           {
            "fillpattern": {
             "fillmode": "overlay",
             "size": 10,
             "solidity": 0.2
            },
            "type": "scatter"
           }
          ],
          "scatter3d": [
           {
            "line": {
             "colorbar": {
              "outlinewidth": 0,
              "ticks": ""
             }
            },
            "marker": {
             "colorbar": {
              "outlinewidth": 0,
              "ticks": ""
             }
            },
            "type": "scatter3d"
           }
          ],
          "scattercarpet": [
           {
            "marker": {
             "colorbar": {
              "outlinewidth": 0,
              "ticks": ""
             }
            },
            "type": "scattercarpet"
           }
          ],
          "scattergeo": [
           {
            "marker": {
             "colorbar": {
              "outlinewidth": 0,
              "ticks": ""
             }
            },
            "type": "scattergeo"
           }
          ],
          "scattergl": [
           {
            "marker": {
             "colorbar": {
              "outlinewidth": 0,
              "ticks": ""
             }
            },
            "type": "scattergl"
           }
          ],
          "scattermapbox": [
           {
            "marker": {
             "colorbar": {
              "outlinewidth": 0,
              "ticks": ""
             }
            },
            "type": "scattermapbox"
           }
          ],
          "scatterpolar": [
           {
            "marker": {
             "colorbar": {
              "outlinewidth": 0,
              "ticks": ""
             }
            },
            "type": "scatterpolar"
           }
          ],
          "scatterpolargl": [
           {
            "marker": {
             "colorbar": {
              "outlinewidth": 0,
              "ticks": ""
             }
            },
            "type": "scatterpolargl"
           }
          ],
          "scatterternary": [
           {
            "marker": {
             "colorbar": {
              "outlinewidth": 0,
              "ticks": ""
             }
            },
            "type": "scatterternary"
           }
          ],
          "surface": [
           {
            "colorbar": {
             "outlinewidth": 0,
             "ticks": ""
            },
            "colorscale": [
             [
              0,
              "#0d0887"
             ],
             [
              0.1111111111111111,
              "#46039f"
             ],
             [
              0.2222222222222222,
              "#7201a8"
             ],
             [
              0.3333333333333333,
              "#9c179e"
             ],
             [
              0.4444444444444444,
              "#bd3786"
             ],
             [
              0.5555555555555556,
              "#d8576b"
             ],
             [
              0.6666666666666666,
              "#ed7953"
             ],
             [
              0.7777777777777778,
              "#fb9f3a"
             ],
             [
              0.8888888888888888,
              "#fdca26"
             ],
             [
              1,
              "#f0f921"
             ]
            ],
            "type": "surface"
           }
          ],
          "table": [
           {
            "cells": {
             "fill": {
              "color": "#EBF0F8"
             },
             "line": {
              "color": "white"
             }
            },
            "header": {
             "fill": {
              "color": "#C8D4E3"
             },
             "line": {
              "color": "white"
             }
            },
            "type": "table"
           }
          ]
         },
         "layout": {
          "annotationdefaults": {
           "arrowcolor": "#2a3f5f",
           "arrowhead": 0,
           "arrowwidth": 1
          },
          "autotypenumbers": "strict",
          "coloraxis": {
           "colorbar": {
            "outlinewidth": 0,
            "ticks": ""
           }
          },
          "colorscale": {
           "diverging": [
            [
             0,
             "#8e0152"
            ],
            [
             0.1,
             "#c51b7d"
            ],
            [
             0.2,
             "#de77ae"
            ],
            [
             0.3,
             "#f1b6da"
            ],
            [
             0.4,
             "#fde0ef"
            ],
            [
             0.5,
             "#f7f7f7"
            ],
            [
             0.6,
             "#e6f5d0"
            ],
            [
             0.7,
             "#b8e186"
            ],
            [
             0.8,
             "#7fbc41"
            ],
            [
             0.9,
             "#4d9221"
            ],
            [
             1,
             "#276419"
            ]
           ],
           "sequential": [
            [
             0,
             "#0d0887"
            ],
            [
             0.1111111111111111,
             "#46039f"
            ],
            [
             0.2222222222222222,
             "#7201a8"
            ],
            [
             0.3333333333333333,
             "#9c179e"
            ],
            [
             0.4444444444444444,
             "#bd3786"
            ],
            [
             0.5555555555555556,
             "#d8576b"
            ],
            [
             0.6666666666666666,
             "#ed7953"
            ],
            [
             0.7777777777777778,
             "#fb9f3a"
            ],
            [
             0.8888888888888888,
             "#fdca26"
            ],
            [
             1,
             "#f0f921"
            ]
           ],
           "sequentialminus": [
            [
             0,
             "#0d0887"
            ],
            [
             0.1111111111111111,
             "#46039f"
            ],
            [
             0.2222222222222222,
             "#7201a8"
            ],
            [
             0.3333333333333333,
             "#9c179e"
            ],
            [
             0.4444444444444444,
             "#bd3786"
            ],
            [
             0.5555555555555556,
             "#d8576b"
            ],
            [
             0.6666666666666666,
             "#ed7953"
            ],
            [
             0.7777777777777778,
             "#fb9f3a"
            ],
            [
             0.8888888888888888,
             "#fdca26"
            ],
            [
             1,
             "#f0f921"
            ]
           ]
          },
          "colorway": [
           "#636efa",
           "#EF553B",
           "#00cc96",
           "#ab63fa",
           "#FFA15A",
           "#19d3f3",
           "#FF6692",
           "#B6E880",
           "#FF97FF",
           "#FECB52"
          ],
          "font": {
           "color": "#2a3f5f"
          },
          "geo": {
           "bgcolor": "white",
           "lakecolor": "white",
           "landcolor": "#E5ECF6",
           "showlakes": true,
           "showland": true,
           "subunitcolor": "white"
          },
          "hoverlabel": {
           "align": "left"
          },
          "hovermode": "closest",
          "mapbox": {
           "style": "light"
          },
          "paper_bgcolor": "white",
          "plot_bgcolor": "#E5ECF6",
          "polar": {
           "angularaxis": {
            "gridcolor": "white",
            "linecolor": "white",
            "ticks": ""
           },
           "bgcolor": "#E5ECF6",
           "radialaxis": {
            "gridcolor": "white",
            "linecolor": "white",
            "ticks": ""
           }
          },
          "scene": {
           "xaxis": {
            "backgroundcolor": "#E5ECF6",
            "gridcolor": "white",
            "gridwidth": 2,
            "linecolor": "white",
            "showbackground": true,
            "ticks": "",
            "zerolinecolor": "white"
           },
           "yaxis": {
            "backgroundcolor": "#E5ECF6",
            "gridcolor": "white",
            "gridwidth": 2,
            "linecolor": "white",
            "showbackground": true,
            "ticks": "",
            "zerolinecolor": "white"
           },
           "zaxis": {
            "backgroundcolor": "#E5ECF6",
            "gridcolor": "white",
            "gridwidth": 2,
            "linecolor": "white",
            "showbackground": true,
            "ticks": "",
            "zerolinecolor": "white"
           }
          },
          "shapedefaults": {
           "line": {
            "color": "#2a3f5f"
           }
          },
          "ternary": {
           "aaxis": {
            "gridcolor": "white",
            "linecolor": "white",
            "ticks": ""
           },
           "baxis": {
            "gridcolor": "white",
            "linecolor": "white",
            "ticks": ""
           },
           "bgcolor": "#E5ECF6",
           "caxis": {
            "gridcolor": "white",
            "linecolor": "white",
            "ticks": ""
           }
          },
          "title": {
           "x": 0.05
          },
          "xaxis": {
           "automargin": true,
           "gridcolor": "white",
           "linecolor": "white",
           "ticks": "",
           "title": {
            "standoff": 15
           },
           "zerolinecolor": "white",
           "zerolinewidth": 2
          },
          "yaxis": {
           "automargin": true,
           "gridcolor": "white",
           "linecolor": "white",
           "ticks": "",
           "title": {
            "standoff": 15
           },
           "zerolinecolor": "white",
           "zerolinewidth": 2
          }
         }
        },
        "title": {
         "text": "Average HD Flag Trend Over Time 📉"
        },
        "xaxis": {
         "anchor": "y",
         "domain": [
          0,
          1
         ],
         "title": {
          "text": "Date"
         }
        },
        "yaxis": {
         "anchor": "x",
         "domain": [
          0,
          1
         ],
         "title": {
          "text": "Average HD Flag"
         }
        }
       }
      }
     },
     "metadata": {},
     "output_type": "display_data"
    }
   ],
   "source": [
    "# Line plot: Average HD Flag Trend Over Time\n",
    "fig1 = px.line(aggregated_data, x='date_', y='hd', title='Average HD Flag Trend Over Time 📉')\n",
    "fig1.update_xaxes(title='Date')\n",
    "fig1.update_yaxes(title='Average HD Flag')\n",
    "fig1.show()\n"
   ]
  },
  {
   "cell_type": "code",
   "execution_count": 52,
   "id": "f41f19ea",
   "metadata": {},
   "outputs": [
    {
     "data": {
      "application/vnd.plotly.v1+json": {
       "config": {
        "plotlyServerURL": "https://plot.ly"
       },
       "data": [
        {
         "alignmentgroup": "True",
         "hovertemplate": "Program Genre=%{x}<br>Count=%{y}<extra></extra>",
         "legendgroup": "",
         "marker": {
          "color": "#636efa",
          "pattern": {
           "shape": ""
          }
         },
         "name": "",
         "offsetgroup": "",
         "orientation": "v",
         "showlegend": false,
         "textposition": "auto",
         "type": "bar",
         "x": [
          "Animation",
          "Action",
          "Drama",
          "Comedy",
          "Horror",
          "Thriller",
          "Family",
          "Biography",
          "Documentary",
          "NOT_DEFINED_IN_UMS",
          "Crime",
          "Sci-Fi",
          "Romance",
          "Adventure",
          "SERIES_NOT_ADDED_UNDER_ANY_GENRE",
          "Wrestling"
         ],
         "xaxis": "x",
         "y": [
          401730,
          174155,
          155048,
          136577,
          75306,
          39601,
          26668,
          16135,
          13291,
          4535,
          3232,
          1322,
          512,
          239,
          216,
          8
         ],
         "yaxis": "y"
        }
       ],
       "layout": {
        "barmode": "relative",
        "legend": {
         "tracegroupgap": 0
        },
        "template": {
         "data": {
          "bar": [
           {
            "error_x": {
             "color": "#2a3f5f"
            },
            "error_y": {
             "color": "#2a3f5f"
            },
            "marker": {
             "line": {
              "color": "#E5ECF6",
              "width": 0.5
             },
             "pattern": {
              "fillmode": "overlay",
              "size": 10,
              "solidity": 0.2
             }
            },
            "type": "bar"
           }
          ],
          "barpolar": [
           {
            "marker": {
             "line": {
              "color": "#E5ECF6",
              "width": 0.5
             },
             "pattern": {
              "fillmode": "overlay",
              "size": 10,
              "solidity": 0.2
             }
            },
            "type": "barpolar"
           }
          ],
          "carpet": [
           {
            "aaxis": {
             "endlinecolor": "#2a3f5f",
             "gridcolor": "white",
             "linecolor": "white",
             "minorgridcolor": "white",
             "startlinecolor": "#2a3f5f"
            },
            "baxis": {
             "endlinecolor": "#2a3f5f",
             "gridcolor": "white",
             "linecolor": "white",
             "minorgridcolor": "white",
             "startlinecolor": "#2a3f5f"
            },
            "type": "carpet"
           }
          ],
          "choropleth": [
           {
            "colorbar": {
             "outlinewidth": 0,
             "ticks": ""
            },
            "type": "choropleth"
           }
          ],
          "contour": [
           {
            "colorbar": {
             "outlinewidth": 0,
             "ticks": ""
            },
            "colorscale": [
             [
              0,
              "#0d0887"
             ],
             [
              0.1111111111111111,
              "#46039f"
             ],
             [
              0.2222222222222222,
              "#7201a8"
             ],
             [
              0.3333333333333333,
              "#9c179e"
             ],
             [
              0.4444444444444444,
              "#bd3786"
             ],
             [
              0.5555555555555556,
              "#d8576b"
             ],
             [
              0.6666666666666666,
              "#ed7953"
             ],
             [
              0.7777777777777778,
              "#fb9f3a"
             ],
             [
              0.8888888888888888,
              "#fdca26"
             ],
             [
              1,
              "#f0f921"
             ]
            ],
            "type": "contour"
           }
          ],
          "contourcarpet": [
           {
            "colorbar": {
             "outlinewidth": 0,
             "ticks": ""
            },
            "type": "contourcarpet"
           }
          ],
          "heatmap": [
           {
            "colorbar": {
             "outlinewidth": 0,
             "ticks": ""
            },
            "colorscale": [
             [
              0,
              "#0d0887"
             ],
             [
              0.1111111111111111,
              "#46039f"
             ],
             [
              0.2222222222222222,
              "#7201a8"
             ],
             [
              0.3333333333333333,
              "#9c179e"
             ],
             [
              0.4444444444444444,
              "#bd3786"
             ],
             [
              0.5555555555555556,
              "#d8576b"
             ],
             [
              0.6666666666666666,
              "#ed7953"
             ],
             [
              0.7777777777777778,
              "#fb9f3a"
             ],
             [
              0.8888888888888888,
              "#fdca26"
             ],
             [
              1,
              "#f0f921"
             ]
            ],
            "type": "heatmap"
           }
          ],
          "heatmapgl": [
           {
            "colorbar": {
             "outlinewidth": 0,
             "ticks": ""
            },
            "colorscale": [
             [
              0,
              "#0d0887"
             ],
             [
              0.1111111111111111,
              "#46039f"
             ],
             [
              0.2222222222222222,
              "#7201a8"
             ],
             [
              0.3333333333333333,
              "#9c179e"
             ],
             [
              0.4444444444444444,
              "#bd3786"
             ],
             [
              0.5555555555555556,
              "#d8576b"
             ],
             [
              0.6666666666666666,
              "#ed7953"
             ],
             [
              0.7777777777777778,
              "#fb9f3a"
             ],
             [
              0.8888888888888888,
              "#fdca26"
             ],
             [
              1,
              "#f0f921"
             ]
            ],
            "type": "heatmapgl"
           }
          ],
          "histogram": [
           {
            "marker": {
             "pattern": {
              "fillmode": "overlay",
              "size": 10,
              "solidity": 0.2
             }
            },
            "type": "histogram"
           }
          ],
          "histogram2d": [
           {
            "colorbar": {
             "outlinewidth": 0,
             "ticks": ""
            },
            "colorscale": [
             [
              0,
              "#0d0887"
             ],
             [
              0.1111111111111111,
              "#46039f"
             ],
             [
              0.2222222222222222,
              "#7201a8"
             ],
             [
              0.3333333333333333,
              "#9c179e"
             ],
             [
              0.4444444444444444,
              "#bd3786"
             ],
             [
              0.5555555555555556,
              "#d8576b"
             ],
             [
              0.6666666666666666,
              "#ed7953"
             ],
             [
              0.7777777777777778,
              "#fb9f3a"
             ],
             [
              0.8888888888888888,
              "#fdca26"
             ],
             [
              1,
              "#f0f921"
             ]
            ],
            "type": "histogram2d"
           }
          ],
          "histogram2dcontour": [
           {
            "colorbar": {
             "outlinewidth": 0,
             "ticks": ""
            },
            "colorscale": [
             [
              0,
              "#0d0887"
             ],
             [
              0.1111111111111111,
              "#46039f"
             ],
             [
              0.2222222222222222,
              "#7201a8"
             ],
             [
              0.3333333333333333,
              "#9c179e"
             ],
             [
              0.4444444444444444,
              "#bd3786"
             ],
             [
              0.5555555555555556,
              "#d8576b"
             ],
             [
              0.6666666666666666,
              "#ed7953"
             ],
             [
              0.7777777777777778,
              "#fb9f3a"
             ],
             [
              0.8888888888888888,
              "#fdca26"
             ],
             [
              1,
              "#f0f921"
             ]
            ],
            "type": "histogram2dcontour"
           }
          ],
          "mesh3d": [
           {
            "colorbar": {
             "outlinewidth": 0,
             "ticks": ""
            },
            "type": "mesh3d"
           }
          ],
          "parcoords": [
           {
            "line": {
             "colorbar": {
              "outlinewidth": 0,
              "ticks": ""
             }
            },
            "type": "parcoords"
           }
          ],
          "pie": [
           {
            "automargin": true,
            "type": "pie"
           }
          ],
          "scatter": [
           {
            "fillpattern": {
             "fillmode": "overlay",
             "size": 10,
             "solidity": 0.2
            },
            "type": "scatter"
           }
          ],
          "scatter3d": [
           {
            "line": {
             "colorbar": {
              "outlinewidth": 0,
              "ticks": ""
             }
            },
            "marker": {
             "colorbar": {
              "outlinewidth": 0,
              "ticks": ""
             }
            },
            "type": "scatter3d"
           }
          ],
          "scattercarpet": [
           {
            "marker": {
             "colorbar": {
              "outlinewidth": 0,
              "ticks": ""
             }
            },
            "type": "scattercarpet"
           }
          ],
          "scattergeo": [
           {
            "marker": {
             "colorbar": {
              "outlinewidth": 0,
              "ticks": ""
             }
            },
            "type": "scattergeo"
           }
          ],
          "scattergl": [
           {
            "marker": {
             "colorbar": {
              "outlinewidth": 0,
              "ticks": ""
             }
            },
            "type": "scattergl"
           }
          ],
          "scattermapbox": [
           {
            "marker": {
             "colorbar": {
              "outlinewidth": 0,
              "ticks": ""
             }
            },
            "type": "scattermapbox"
           }
          ],
          "scatterpolar": [
           {
            "marker": {
             "colorbar": {
              "outlinewidth": 0,
              "ticks": ""
             }
            },
            "type": "scatterpolar"
           }
          ],
          "scatterpolargl": [
           {
            "marker": {
             "colorbar": {
              "outlinewidth": 0,
              "ticks": ""
             }
            },
            "type": "scatterpolargl"
           }
          ],
          "scatterternary": [
           {
            "marker": {
             "colorbar": {
              "outlinewidth": 0,
              "ticks": ""
             }
            },
            "type": "scatterternary"
           }
          ],
          "surface": [
           {
            "colorbar": {
             "outlinewidth": 0,
             "ticks": ""
            },
            "colorscale": [
             [
              0,
              "#0d0887"
             ],
             [
              0.1111111111111111,
              "#46039f"
             ],
             [
              0.2222222222222222,
              "#7201a8"
             ],
             [
              0.3333333333333333,
              "#9c179e"
             ],
             [
              0.4444444444444444,
              "#bd3786"
             ],
             [
              0.5555555555555556,
              "#d8576b"
             ],
             [
              0.6666666666666666,
              "#ed7953"
             ],
             [
              0.7777777777777778,
              "#fb9f3a"
             ],
             [
              0.8888888888888888,
              "#fdca26"
             ],
             [
              1,
              "#f0f921"
             ]
            ],
            "type": "surface"
           }
          ],
          "table": [
           {
            "cells": {
             "fill": {
              "color": "#EBF0F8"
             },
             "line": {
              "color": "white"
             }
            },
            "header": {
             "fill": {
              "color": "#C8D4E3"
             },
             "line": {
              "color": "white"
             }
            },
            "type": "table"
           }
          ]
         },
         "layout": {
          "annotationdefaults": {
           "arrowcolor": "#2a3f5f",
           "arrowhead": 0,
           "arrowwidth": 1
          },
          "autotypenumbers": "strict",
          "coloraxis": {
           "colorbar": {
            "outlinewidth": 0,
            "ticks": ""
           }
          },
          "colorscale": {
           "diverging": [
            [
             0,
             "#8e0152"
            ],
            [
             0.1,
             "#c51b7d"
            ],
            [
             0.2,
             "#de77ae"
            ],
            [
             0.3,
             "#f1b6da"
            ],
            [
             0.4,
             "#fde0ef"
            ],
            [
             0.5,
             "#f7f7f7"
            ],
            [
             0.6,
             "#e6f5d0"
            ],
            [
             0.7,
             "#b8e186"
            ],
            [
             0.8,
             "#7fbc41"
            ],
            [
             0.9,
             "#4d9221"
            ],
            [
             1,
             "#276419"
            ]
           ],
           "sequential": [
            [
             0,
             "#0d0887"
            ],
            [
             0.1111111111111111,
             "#46039f"
            ],
            [
             0.2222222222222222,
             "#7201a8"
            ],
            [
             0.3333333333333333,
             "#9c179e"
            ],
            [
             0.4444444444444444,
             "#bd3786"
            ],
            [
             0.5555555555555556,
             "#d8576b"
            ],
            [
             0.6666666666666666,
             "#ed7953"
            ],
            [
             0.7777777777777778,
             "#fb9f3a"
            ],
            [
             0.8888888888888888,
             "#fdca26"
            ],
            [
             1,
             "#f0f921"
            ]
           ],
           "sequentialminus": [
            [
             0,
             "#0d0887"
            ],
            [
             0.1111111111111111,
             "#46039f"
            ],
            [
             0.2222222222222222,
             "#7201a8"
            ],
            [
             0.3333333333333333,
             "#9c179e"
            ],
            [
             0.4444444444444444,
             "#bd3786"
            ],
            [
             0.5555555555555556,
             "#d8576b"
            ],
            [
             0.6666666666666666,
             "#ed7953"
            ],
            [
             0.7777777777777778,
             "#fb9f3a"
            ],
            [
             0.8888888888888888,
             "#fdca26"
            ],
            [
             1,
             "#f0f921"
            ]
           ]
          },
          "colorway": [
           "#636efa",
           "#EF553B",
           "#00cc96",
           "#ab63fa",
           "#FFA15A",
           "#19d3f3",
           "#FF6692",
           "#B6E880",
           "#FF97FF",
           "#FECB52"
          ],
          "font": {
           "color": "#2a3f5f"
          },
          "geo": {
           "bgcolor": "white",
           "lakecolor": "white",
           "landcolor": "#E5ECF6",
           "showlakes": true,
           "showland": true,
           "subunitcolor": "white"
          },
          "hoverlabel": {
           "align": "left"
          },
          "hovermode": "closest",
          "mapbox": {
           "style": "light"
          },
          "paper_bgcolor": "white",
          "plot_bgcolor": "#E5ECF6",
          "polar": {
           "angularaxis": {
            "gridcolor": "white",
            "linecolor": "white",
            "ticks": ""
           },
           "bgcolor": "#E5ECF6",
           "radialaxis": {
            "gridcolor": "white",
            "linecolor": "white",
            "ticks": ""
           }
          },
          "scene": {
           "xaxis": {
            "backgroundcolor": "#E5ECF6",
            "gridcolor": "white",
            "gridwidth": 2,
            "linecolor": "white",
            "showbackground": true,
            "ticks": "",
            "zerolinecolor": "white"
           },
           "yaxis": {
            "backgroundcolor": "#E5ECF6",
            "gridcolor": "white",
            "gridwidth": 2,
            "linecolor": "white",
            "showbackground": true,
            "ticks": "",
            "zerolinecolor": "white"
           },
           "zaxis": {
            "backgroundcolor": "#E5ECF6",
            "gridcolor": "white",
            "gridwidth": 2,
            "linecolor": "white",
            "showbackground": true,
            "ticks": "",
            "zerolinecolor": "white"
           }
          },
          "shapedefaults": {
           "line": {
            "color": "#2a3f5f"
           }
          },
          "ternary": {
           "aaxis": {
            "gridcolor": "white",
            "linecolor": "white",
            "ticks": ""
           },
           "baxis": {
            "gridcolor": "white",
            "linecolor": "white",
            "ticks": ""
           },
           "bgcolor": "#E5ECF6",
           "caxis": {
            "gridcolor": "white",
            "linecolor": "white",
            "ticks": ""
           }
          },
          "title": {
           "x": 0.05
          },
          "xaxis": {
           "automargin": true,
           "gridcolor": "white",
           "linecolor": "white",
           "ticks": "",
           "title": {
            "standoff": 15
           },
           "zerolinecolor": "white",
           "zerolinewidth": 2
          },
          "yaxis": {
           "automargin": true,
           "gridcolor": "white",
           "linecolor": "white",
           "ticks": "",
           "title": {
            "standoff": 15
           },
           "zerolinecolor": "white",
           "zerolinewidth": 2
          }
         }
        },
        "title": {
         "text": "Count of Programs by Genre 🎥"
        },
        "xaxis": {
         "anchor": "y",
         "domain": [
          0,
          1
         ],
         "title": {
          "text": "Program Genre"
         }
        },
        "yaxis": {
         "anchor": "x",
         "domain": [
          0,
          1
         ],
         "title": {
          "text": "Count"
         }
        }
       }
      }
     },
     "metadata": {},
     "output_type": "display_data"
    }
   ],
   "source": [
    "# Bar plot: Count of Programs by Genre\n",
    "genre_counts = df['program_genre'].value_counts().reset_index()\n",
    "genre_counts.columns = ['Program Genre', 'Count']\n",
    "fig2 = px.bar(genre_counts, x='Program Genre', y='Count', title='Count of Programs by Genre 🎥')\n",
    "fig2.show()"
   ]
  },
  {
   "cell_type": "code",
   "execution_count": 59,
   "id": "f909a004",
   "metadata": {},
   "outputs": [
    {
     "data": {
      "application/vnd.plotly.v1+json": {
       "config": {
        "plotlyServerURL": "https://plot.ly"
       },
       "data": [
        {
         "hovertemplate": "duration_seconds=%{x}<br>user_id_maped=%{y}<br>program_genre=%{marker.size}<br>hd=%{marker.color}<extra></extra>",
         "legendgroup": "",
         "marker": {
          "color": [
           0.4335644136337377,
           0.3786999419616947,
           0.4517593643586833,
           0.43145539906103286,
           0.4239566140061306,
           0.4728487886382623,
           0.4268235294117647,
           0.4218192627824019,
           0.3962655601659751,
           0.43792391624889415,
           0.4685455460493206,
           0.446690734055355,
           0.4122087298982606,
           0.4665314401622718,
           0.46138415245737213,
           0.47094298245614036,
           0.42276665670749924,
           0.4501707544240919,
           0.422051965356429,
           0.3567062207838907,
           0.44493230881814855,
           0.44184491978609625,
           0.39350695683196574,
           0.3972841225626741,
           0.43215434083601284,
           0.4034653465346535,
           0.48807631160572335,
           0.5913263691041469,
           0.48017924853498795,
           0.44367308299147995,
           0.5145813734713076,
           0.4994011976047904,
           0.47986230636833044,
           0.4639358860195904,
           0.45515151515151514,
           0.42915531335149865,
           0.4589807333747669,
           0.4951241134751773,
           0.4511448651099524,
           0.4512656386383474,
           0.45688657407407407,
           0.5610924772400575,
           0.5216597077244259,
           0.41910719363093546,
           0.42475908080059305,
           0.4443847393874261,
           0.4161687170474517,
           0.45531295487627366,
           0.40761689291101055,
           0.40370238519045926,
           0.4534967555875991,
           0.42406789936344347,
           0.4479733817301875,
           0.43124118476727785,
           0.4016497461928934,
           0.4137824474660074,
           0.4560333761232349,
           0.44520103761348895,
           0.5095160413268081,
           0.5118296529968455,
           0.4644045242847638,
           0.4188654353562005,
           0.43486714193130266,
           0.4444444444444444,
           0.4439770554493308,
           0.34189723320158105,
           0.40174825174825174,
           0.3992970123022847,
           0.4224265796499555,
           0.43331374853113985,
           0.48668688911358277,
           0.47328767123287674,
           0.41693037974683544,
           0.3850415512465374,
           0.46354635463546356,
           0.416140350877193,
           0.4965299684542587,
           0.4987066735644077,
           0.5205570291777188,
           0.6369460758142018,
           0.5841144548593982,
           0.6097832128960534,
           0.424721734036321,
           0.42247799593771157,
           0.4250936329588015,
           0.43010752688172044,
           0.44533485975958786,
           0.4370284387695879,
           0.392,
           0.38815060908084165,
           0.4091732045866023,
           0.40468227424749165,
           0.40904017857142855,
           0.5843720038350911,
           0.5754310344827587,
           0.46809623430962344,
           0.431794333683106,
           0.47889800703399765,
           0.4518008474576271,
           0.3730684326710817,
           0.4719416386083053,
           0.47242380261248185,
           0.472914875322442,
           0.49506726457399103,
           0.5294117647058824,
           0.4179025423728814,
           0.3854913538591312,
           0.3515344758868075,
           0.350970688998858,
           0.3522422384055194,
           0.3672787979966611,
           0.3737259343148358,
           0.44500359453630484,
           0.3933910306845004,
           0.3602558976409436,
           0.4495042232831436,
           0.42792976725193954,
           0.43676767676767675,
           0.3972602739726027,
           0.3851118760757315,
           0.3841567291311755,
           0.4071367153912296,
           0.39697624190064795,
           0.349,
           0.3962703962703963,
           0.4368052696582956,
           0.43643688451208595,
           0.5429986492570914,
           0.4863013698630137,
           0.48194945848375453,
           0.4782187802516941,
           0.4406354515050167,
           0.49793217535153017,
           0.46194762684124385,
           0.5539004312034497,
           0.46893787575150303,
           0.4264380530973451,
           0.5087802562885619,
           0.3731903485254692,
           0.44916739702015773,
           0.4391206313416009,
           0.47668886774500474,
           0.38751746623195155,
           0.44089456869009586,
           0.4201898188093184,
           0.5374615121450564,
           0.5027866242038217,
           0.5685197155785391,
           0.44564240790655885,
           0.5107692307692308,
           0.4875124875124875,
           0.45329038196042337,
           0.43183897529734677,
           0.441470054446461,
           0.4790697674418605,
           0.4670923379174853,
           0.548108552631579,
           0.5280769230769231,
           0.5921109666233203,
           0.5287449392712551,
           0.479156202913109,
           0.50199203187251,
           0.45884003741814783,
           0.3597345132743363,
           0.4346876365224989,
           0.36785880167208546,
           0.3352510460251046,
           0.38006952491309387,
           0.375366568914956,
           0.6341463414634146,
           0.4711917916337806,
           0.45018450184501846,
           0.4116937914406269,
           0.39546191247974066,
           0.48384279475982533,
           0.4067472947167409,
           0.4554140127388535,
           0.48964565117349285,
           0.4008283479061206,
           0.4028503562945368,
           0.35694050991501414,
           0.400093808630394,
           0.37091988130563797,
           0.4323818437061301,
           0.4075327972915785,
           0.45225872689938396,
           0.4209741550695825,
           0.4616187989556136,
           0.5173724212812161,
           0.5488599348534202,
           0.5538342370255616,
           0.35460674157303373,
           0.38799793067770305,
           0.4199491740787802,
           0.3700623700623701,
           0.3772760378732702,
           0.4343065693430657,
           0.3718267794922847,
           0.36037934668071653,
           0.36728919071873234,
           0.4003426613363792,
           0.4164600892414477,
           0.4671852211959164,
           0.3628498727735369,
           0.4009146341463415,
           0.4877460827641623,
           0.37155963302752293,
           0.3449367088607595,
           0.38471502590673573,
           0.3594239198497182,
           0.5061590145576708,
           0.5166508087535681,
           0.4278822961890979,
           0.4599774520856821,
           0.4725158562367865,
           0.37317468902109246,
           0.44930519814719505,
           0.41850431447746883,
           0.3885180240320427,
           0.3901496861419604,
           0.4187248707639288,
           0.5205944798301486,
           0.5360691144708424,
           0.3736871199557767,
           0.5081059707394227,
           0.526527625320161,
           0.5053086905230043,
           0.34674777725783806,
           0.3544655252198056,
           0.4178952719877987,
           0.3301637612255679,
           0.3400786958965711,
           0.47587025316455694,
           0.410182119205298,
           0.4,
           0.3731193580742227,
           0.32938856015779094,
           0.2967416602017067,
           0.3367272727272727,
           0.3708092485549133,
           0.4691789368604941,
           0.29581636430951497,
           0.31776010603048377,
           0.3363514419852448,
           0.37511577647422045,
           0.30013149243918474,
           0.3702522470281241,
           0.31127679403541475,
           0.32027649769585254,
           0.27476234283961976,
           0.1890402075226978,
           0.25207296849087896,
           0.27625739644970415,
           0.2496951219512195,
           0.2556872797180391,
           0.19129587528418318,
           0.1983695652173913,
           0.18979744936234058,
           0.23549359457422758,
           0.2572852760736196,
           0.2617949627527492,
           0.24315514993481094,
           0.21524990879241152,
           0.3642454160789845,
           0.2324435318275154,
           0.21577441765427052,
           0.1958041958041958,
           0.24316546762589927,
           0.2767503302509908,
           0.2154328241284763,
           0.19610182975338106,
           0.19718309859154928,
           0.29584527220630374,
           0.2168082253017434,
           0.35865257595772787,
           0.2943110818809602,
           0.33261494252873564,
           0.1952902963865205,
           0.1511151570323168,
           0.24990971469844708,
           0.18570287539936103,
           0.24193548387096775,
           0.23963133640552994,
           0.26541981695185035,
           0.30223258913695433,
           0.26824925816023737,
           0.23915547024952016,
           0.2832512315270936,
           0.30798919336163644,
           0.3343730505302558,
           0.2721189591078067,
           0.3063973063973064,
           0.30507088331515814,
           0.2255779269202088,
           0.27896584743057773,
           0.34859561369757597,
           0.311747478034494,
           0.32122552116235,
           0.3380513495720869,
           0.3547983744920288,
           0.2822131451912365,
           0.29747126436781607,
           0.30684657671164417,
           0.29486023444544635,
           0.31285831285831284,
           0.32722273143904673,
           0.31141345427059713,
           0.3530571992110454,
           0.32003585835948006,
           0.31024224394390143,
           0.35044132069303696,
           0.26213221245701185,
           0.4385692068429238,
           0.35995989304812837,
           0.30090270812437314,
           0.43920829406220546,
           0.332102081934184,
           0.2839622641509434,
           0.25784677691528857,
           0.24409957969608795,
           0.26263015811801005,
           0.31494325346784363,
           0.2975624256837099,
           0.29728801922416753,
           0.3547579298831386,
           0.37900874635568516,
           0.3006916636330542,
           0.2334039548022599,
           0.274442538593482,
           0.28620218579234974,
           0.2555891238670695,
           0.39936187184259503,
           0.37279774489076817,
           0.454786353097052,
           0.3576745834810351,
           0.2237871674491393,
           0.2151219512195122,
           0.2887525562372188,
           0.23760818253343824,
           0.21151776103336922,
           0.26627218934911245,
           0.18309128630705393,
           0.25527921163772876,
           0.21571180555555555,
           0.26410466067048244,
           0.23837700760777683,
           0.5013114754098361,
           0.2293628808864266,
           0.23677706376668314,
           0.1987487969201155,
           0.36689488521949254,
           0.40780669144981413,
           0.46699964323938636,
           0.5279578606158833,
           0.213339872486513,
           0.42783094098883573,
           0.332776617954071,
           0.2771186440677966,
           0.3624005305039788,
           0.43287097618424497,
           0.3114478114478115,
           0.4540447504302926,
           0.35677466863033874,
           0.33344606019614476,
           0.4201474201474201,
           0.4439403758911212,
           0.4650849285521704,
           0.3743859649122807,
           0.2695427728613569,
           0.23440643863179075,
           0.2656036446469248,
           0.3558961260110685,
           0.27215931276844985,
           0.22084257206208427,
           0.2210242587601078,
           0.3522895125553914,
           0.24309884238646481,
           0.33485309017223913,
           0.3314669652855543,
           0.34506353861192574,
           0.3438162544169611,
           0.2609841827768014,
           0.22690159003008165,
           0.2479023646071701,
           0.43337865397688646,
           0.4487603305785124,
           0.511572700296736,
           0.31702544031311153,
           0.40992167101827676,
           0.4024340770791075,
           0.35929978118161926,
           0.3181818181818182,
           0.3884833738848337,
           0.39881422924901183,
           0.47832024581768523,
           0.30138390568939005,
           0.4729315628192033,
           0.2904122278832793,
           0.2954324586977648,
           0.299347061778001,
           0.3502442690717775,
           0.3243681140635126,
           0.3383838383838384,
           0.41086304565144954,
           0.45162381596752366,
           0.38167360848163573,
           0.4719191919191919,
           0.41369047619047616,
           0.4277821625887924,
           0.3045774647887324,
           0.28207420652659815
          ],
          "coloraxis": "coloraxis",
          "size": [
           3462,
           3446,
           3524,
           4260,
           4241,
           3591,
           4250,
           3364,
           2892,
           3391,
           3974,
           4155,
           3047,
           2958,
           2991,
           3648,
           3347,
           3221,
           3002,
           2781,
           2733,
           2992,
           2803,
           2872,
           3110,
           2424,
           2516,
           3159,
           2901,
           3169,
           3189,
           3340,
           2905,
           3369,
           3300,
           2936,
           3218,
           4512,
           4411,
           3437,
           3456,
           4174,
           3832,
           3517,
           4047,
           3722,
           2845,
           3435,
           2652,
           2809,
           2774,
           3299,
           3306,
           2836,
           3152,
           3236,
           3116,
           3084,
           3678,
           3804,
           3006,
           3032,
           3086,
           3024,
           2615,
           3036,
           2860,
           2845,
           3371,
           3404,
           2967,
           2920,
           2528,
           1444,
           1111,
           1425,
           1585,
           1933,
           1508,
           1873,
           2027,
           1799,
           1707,
           1477,
           1602,
           1674,
           1747,
           1723,
           1625,
           1806,
           1657,
           1495,
           1792,
           2086,
           2320,
           1912,
           1906,
           1706,
           1888,
           1359,
           1782,
           1378,
           1163,
           2230,
           2822,
           1888,
           2371,
           2509,
           2627,
           2609,
           2396,
           2649,
           2782,
           2542,
           2501,
           2723,
           2449,
           2475,
           2482,
           2324,
           2348,
           2326,
           2315,
           2000,
           2574,
           2429,
           2234,
           2221,
           2482,
           2216,
           2066,
           2392,
           2418,
           2444,
           2551,
           1996,
           1808,
           2107,
           1865,
           2282,
           1774,
           2102,
           2147,
           2191,
           2318,
           2923,
           2512,
           3094,
           2226,
           2275,
           2002,
           2173,
           2186,
           2204,
           2365,
           2036,
           2432,
           2600,
           2307,
           2470,
           1991,
           2008,
           2138,
           2260,
           2289,
           2153,
           1912,
           1726,
           1364,
           1886,
           1267,
           1626,
           1659,
           1851,
           2290,
           1571,
           2198,
           2173,
           2173,
           2105,
           2118,
           2132,
           2359,
           2137,
           2363,
           1948,
           2012,
           1915,
           1842,
           2456,
           2582,
           2225,
           1933,
           1574,
           1443,
           1373,
           1370,
           2009,
           1898,
           1767,
           1751,
           2017,
           2057,
           1965,
           1968,
           2489,
           1526,
           1580,
           1544,
           1597,
           1786,
           2102,
           2073,
           1774,
           1892,
           1849,
           1943,
           2086,
           2247,
           2071,
           1741,
           2355,
           2315,
           1809,
           2529,
           2733,
           2543,
           2137,
           2161,
           1967,
           1893,
           1779,
           2528,
           2416,
           1825,
           1994,
           2535,
           2578,
           2750,
           3460,
           4007,
           2701,
           3018,
           2982,
           3239,
           3042,
           3449,
           3219,
           3038,
           3261,
           3084,
           3015,
           2704,
           3280,
           3121,
           3079,
           2944,
           2666,
           2654,
           2608,
           2819,
           3068,
           2741,
           2836,
           2435,
           2447,
           2717,
           2780,
           3028,
           2553,
           2514,
           2698,
           2792,
           2237,
           3028,
           3041,
           2784,
           2463,
           2197,
           2769,
           2504,
           2480,
           2604,
           2513,
           3001,
           3370,
           2605,
           2842,
           2591,
           3206,
           2690,
           3267,
           3668,
           2682,
           3133,
           2599,
           3073,
           3166,
           3038,
           3199,
           2693,
           2175,
           2001,
           2218,
           2442,
           2182,
           2646,
           2535,
           2231,
           2353,
           3059,
           2617,
           3215,
           2992,
           2991,
           3183,
           2978,
           3180,
           2963,
           3093,
           2593,
           3172,
           3364,
           2913,
           3594,
           3087,
           2747,
           2832,
           2332,
           2928,
           3310,
           3761,
           2838,
           3019,
           2821,
           2556,
           2050,
           2445,
           2542,
           1858,
           2197,
           1928,
           2131,
           2304,
           2446,
           2366,
           3050,
           1805,
           2023,
           2078,
           2483,
           2690,
           2803,
           2468,
           2039,
           2508,
           2395,
           2360,
           3016,
           3821,
           2376,
           2905,
           2716,
           2957,
           2849,
           3086,
           3709,
           2850,
           2712,
           1988,
           2195,
           2349,
           2561,
           2255,
           1855,
           2708,
           2246,
           1974,
           2679,
           3069,
           2830,
           2276,
           2327,
           2622,
           2942,
           2420,
           3370,
           3066,
           2298,
           2465,
           2285,
           2046,
           2466,
           2530,
           2929,
           1951,
           2937,
           2159,
           2058,
           1991,
           2661,
           3086,
           2574,
           3001,
           2956,
           2641,
           2475,
           2352,
           2534,
           2272,
           2237
          ],
          "sizemode": "area",
          "sizeref": 11.28,
          "symbol": "circle"
         },
         "mode": "markers",
         "name": "",
         "orientation": "v",
         "showlegend": false,
         "type": "scatter",
         "x": [
          1512.5485268630848,
          1318.785548461985,
          1867.9790011350738,
          1251.82441314554,
          1640.1091723650084,
          1345.4363686995266,
          1179.519294117647,
          1392.2978596908442,
          1411.713692946058,
          1294.0513122972575,
          1160.7929038751888,
          1376.2209386281588,
          1418.0410239579915,
          1295.0311020960107,
          1199.9511868940153,
          986.1000548245614,
          1276.5386913654017,
          1440.169512573735,
          1320.6605596269153,
          1694.0898957209638,
          1532.8141236736187,
          1266.2503342245989,
          1230.6596503745986,
          1311.3133704735376,
          1314.9122186495176,
          1218.4723597359737,
          1107.4089825119238,
          968.6036720481164,
          1165.1116856256463,
          1046.928684127485,
          1042.9858889934148,
          1439.5844311377246,
          1110.9401032702237,
          1123.3481745325023,
          1157.78,
          1434.8463896457765,
          1369.0267246737103,
          1200.0181737588653,
          1386.1661754704148,
          1330.79109688682,
          1274.701099537037,
          1300.3459511260182,
          1125.3019311064718,
          1292.994882001706,
          1402.4855448480355,
          1686.423965609887,
          1895.5195079086116,
          1297.4195050946144,
          1782.9822775263951,
          1650.440726237095,
          1538.9019466474406,
          1414.0566838435889,
          1481.0269207501512,
          1530.1251763046544,
          1438.9267131979695,
          1632.3300370828183,
          1236.5401155327343,
          1266.2555123216603,
          1234.557911908646,
          1115.1650893796004,
          1472.0711909514305,
          1486.6134564643799,
          1348.1775761503563,
          1307.9748677248676,
          1261.7900573613767,
          1291.116930171278,
          1521.7153846153847,
          1152.4688927943762,
          1166.5019282112132,
          1407.3578143360753,
          1111.3262554769128,
          1283.1623287671232,
          1311.4667721518988,
          1674.5436288088642,
          1301.7461746174617,
          945.218947368421,
          1042.3905362776025,
          1101.2571132953958,
          1028.4960212201593,
          892.2824345969034,
          1100.1706956092748,
          912.1400778210117,
          861.8476859988284,
          1120.7345971563982,
          1039.3302122347066,
          971.3709677419355,
          1113.491700057241,
          911.8932095182821,
          1180.4018461538462,
          1117.2081949058693,
          1244.1901025950513,
          1124.5645484949832,
          1043.91796875,
          890.3106423777565,
          801.1862068965518,
          878.0810669456067,
          1047.0519412381952,
          976.5175849941384,
          831.261122881356,
          1257.3252391464312,
          945.148709315376,
          904.11175616836,
          1087.31728288908,
          906.7354260089686,
          891.8104181431609,
          1315.1197033898304,
          1414.9274567692958,
          1293.8477481068155,
          1163.259231062048,
          1104.8869298581833,
          1315.0993322203674,
          1219.8089845224613,
          1162.2800143781453,
          1236.0082612116444,
          1290.029988004798,
          1199.2438486962908,
          1360.855859534504,
          1428.4622222222222,
          1348.9270749395648,
          1342.3274526678142,
          1922.8066439522997,
          1445.408426483233,
          1374.0181425485962,
          1279.44,
          1214.6445221445222,
          1319.2153149444216,
          1287.0957923008057,
          1091.3840612336785,
          1203.1921837228042,
          1388.7874548736463,
          1307.9162633107453,
          1175.8791806020067,
          1112.740694789082,
          1133.0482815057283,
          867.3614268914151,
          1402.2955911823647,
          1483.717367256637,
          1364.298528713811,
          1386.5404825737266,
          1094.5521472392638,
          1403.1708004509583,
          925.6902949571836,
          1365.8444340940848,
          1240.442720219078,
          1359.9331320103538,
          1019.7553882996921,
          1359.0569267515923,
          1020.8413057530705,
          1372.8602875112308,
          1128.4927472527472,
          1431.2642357642358,
          1290.3520478601013,
          1332.177493138152,
          1233.4446460980037,
          1249.2871035940802,
          1187.9061886051081,
          1216.4810855263158,
          1054.176923076923,
          1130.9895968790638,
          983.2137651821862,
          1111.7016574585634,
          1152.2121513944223,
          1578.3868101029,
          1287.4632743362831,
          1232.26124945391,
          1390.6595448211797,
          1073.9450836820083,
          1658.9739281575899,
          1236.258064516129,
          856.7746553552493,
          1360.9621152328334,
          1185.3031980319804,
          1476.7402049427367,
          1063.1437061048082,
          1604.5655021834061,
          1581.1635900700192,
          1442.0241128298453,
          1193.9553612517257,
          1063.2185918085595,
          1238.2095011876484,
          1309.8758262511803,
          1021.7457786116323,
          1170.0623145400593,
          1057.730463266261,
          1120.600507829031,
          1186.7073921971253,
          1134.9990059642148,
          1029.2704960835508,
          949.7171552660152,
          866.1331433224756,
          1045.9217660728118,
          1130.8323595505617,
          1174.2571132953958,
          1543.7992376111818,
          1404.2681912681912,
          1357.22359796067,
          1281.3138686131388,
          1488.4400199104032,
          1365.2571127502633,
          1583.6395019807583,
          1122.1227869788693,
          968.6256817055032,
          968.1993193971804,
          1588.7740458015267,
          1073.0167682926829,
          1011.1763760546404,
          1321.1238532110092,
          1354.3721518987343,
          1362.4060880829015,
          1206.1884783969945,
          1099.6618141097424,
          1219.2150333016175,
          1363.1249397009165,
          1482.3889515219842,
          1124.1141649048625,
          1075.9648458626284,
          1321.9567678847143,
          1331.0800575263663,
          1423.7863818424566,
          1475.0816030902945,
          1239.9661114302125,
          975.0738853503185,
          834.6691144708424,
          1659.5295743504698,
          755.5092922103598,
          1023.9242590559825,
          1171.4585135666537,
          1354.9990641085635,
          1275.455344747802,
          1058.5866802236908,
          1364.2519809825674,
          1198.8740865654863,
          1073.386075949367,
          1543.1365894039734,
          1532.0575342465754,
          1531.5651955867602,
          1390.9353057199212,
          1547.1470131885183,
          1302.5381818181818,
          1377.9008670520232,
          1054.40628899426,
          1627.6138467234357,
          1768.8820410868125,
          1362.5348759222,
          1392.4093856128434,
          1372.9671268902039,
          1509.7564511452595,
          1548.197887542715,
          1965.0500329163924,
          1354.0610242256976,
          1509.603112840467,
          1552.7980099502488,
          1671.3583579881656,
          1364.0682926829268,
          1722.4277475168215,
          1378.7986359207534,
          1500.788383152174,
          1607.1822955738935,
          1591.2038432554634,
          1688.364263803681,
          1452.5111741752394,
          1397.9325293350716,
          1706.397665085735,
          1471.1657263751763,
          1649.9839835728953,
          1596.0952186350632,
          1366.304011777696,
          1295.1406474820144,
          1890.7424042272128,
          1652.8773991382686,
          1285.37907716786,
          1338.2961452928096,
          1374.279011461318,
          1397.8283415288333,
          1150.4749009247028,
          1177.3610654390004,
          1397.740301724138,
          1488.159155501421,
          1357.892580791989,
          1025.3434452871072,
          1121.8438498402556,
          1261.969758064516,
          1346.1148233486942,
          1451.5173099880622,
          1218.6474508497167,
          1070.580415430267,
          1244.9792706333974,
          1114.2874736101337,
          1296.9644924739482,
          1257.7420461634435,
          1116.7007434944237,
          1238.073767982859,
          981.5886041439477,
          1183.7912005965698,
          899.3329077561443,
          1457.091958445556,
          1192.626098275301,
          1133.7261528742893,
          996.7880184331797,
          982.9890590809628,
          1297.3301151132566,
          1194.0114942528735,
          1390.119940029985,
          1673.1771866546437,
          1203.8046683046682,
          1179.6416131989001,
          1096.0389266817838,
          1233.3447731755425,
          1265.8834603316898,
          1082.235444113897,
          1405.0879372343902,
          1236.6366068016814,
          1137.876205287714,
          1049.2523395721926,
          1084.0758943497158,
          860.8969525604775,
          1083.5913364674277,
          1343.3044025157233,
          1257.2598717516032,
          950.224700937601,
          1308.526031623602,
          936.6658259773014,
          1127.0532104637336,
          1126.4188122210778,
          1137.9120756816917,
          1016.7874959507612,
          1326.354568620313,
          1303.723163841808,
          1230.007718696398,
          977.9375,
          1033.7981873111783,
          983.5705929274129,
          1222.3488372093022,
          891.3199735011593,
          1018.2417582417582,
          1216.449139280125,
          1255.9156097560976,
          1392.9451942740286,
          1535.5121951219512,
          1372.7072120559742,
          1198.7642239417387,
          1210.3153526970955,
          1253.5748474894415,
          1283.8350694444443,
          1155.0523303352413,
          1316.6356720202873,
          868.26,
          1422.963434903047,
          1315.0919426594166,
          1166.4509143407122,
          1076.1453886427707,
          755.7267657992566,
          1115.8469496967534,
          1005.086304700162,
          1392.5747915644924,
          1014.908293460925,
          1176.4162839248434,
          1122.1521186440677,
          939.0212201591512,
          894.3478147081915,
          1218.67297979798,
          995.2388984509466,
          1055.1686303387335,
          1042.2150828542442,
          895.5840645840645,
          980.3830200907323,
          821.7705581019143,
          980.401403508772,
          1017.3709439528023,
          1199.145875251509,
          1246.880637813212,
          1504.409110259685,
          1063.7618117922686,
          1281.3769401330378,
          1271.0253369272236,
          1083.4512555391432,
          1088.9835262689226,
          1025.1514690982776,
          1008.4434490481523,
          886.7761485826002,
          1258.4194346289753,
          1016.3251318101933,
          1183.786420283627,
          872.8836765827613,
          874.6964649898028,
          1242.939256198347,
          778.6566765578635,
          900.4549902152642,
          929.6444734551784,
          884.1740365111561,
          1198.070897155361,
          1076.2321603128055,
          881.573398215734,
          1053.090909090909,
          873.9829293274155,
          1133.785750896976,
          836.1709227102485,
          1252.153774895785,
          990.2701652089407,
          1060.299347061778,
          947.413754227734,
          892.4212572909915,
          861.0508935508935,
          804.7944018660446,
          794.8075101488498,
          886.6126467247254,
          982.0864646464646,
          921.0276360544218,
          864.3989739542226,
          930.6170774647887,
          980.5158694680375
         ],
         "xaxis": "x",
         "y": [
          558,
          536,
          630,
          708,
          699,
          596,
          634,
          625,
          517,
          648,
          752,
          677,
          532,
          493,
          491,
          494,
          544,
          546,
          504,
          462,
          433,
          441,
          443,
          472,
          472,
          443,
          423,
          483,
          492,
          503,
          552,
          575,
          519,
          547,
          512,
          521,
          533,
          673,
          666,
          531,
          530,
          556,
          499,
          560,
          630,
          603,
          503,
          535,
          469,
          479,
          488,
          581,
          573,
          470,
          497,
          462,
          485,
          513,
          521,
          530,
          477,
          509,
          451,
          459,
          425,
          489,
          478,
          424,
          452,
          441,
          430,
          434,
          433,
          313,
          257,
          285,
          309,
          332,
          311,
          325,
          330,
          314,
          297,
          297,
          300,
          316,
          317,
          314,
          311,
          324,
          335,
          311,
          324,
          278,
          310,
          323,
          329,
          325,
          354,
          280,
          284,
          272,
          238,
          344,
          344,
          398,
          436,
          413,
          406,
          428,
          422,
          430,
          405,
          393,
          432,
          449,
          428,
          451,
          420,
          400,
          398,
          422,
          419,
          373,
          444,
          463,
          473,
          407,
          458,
          457,
          423,
          442,
          441,
          438,
          413,
          408,
          385,
          405,
          368,
          403,
          375,
          369,
          371,
          397,
          403,
          422,
          414,
          395,
          413,
          387,
          404,
          374,
          400,
          400,
          412,
          382,
          408,
          398,
          374,
          373,
          346,
          383,
          396,
          384,
          366,
          359,
          335,
          325,
          274,
          257,
          263,
          291,
          294,
          306,
          306,
          302,
          356,
          363,
          375,
          403,
          374,
          354,
          378,
          388,
          401,
          334,
          341,
          337,
          341,
          357,
          376,
          393,
          365,
          314,
          300,
          285,
          304,
          389,
          358,
          328,
          315,
          321,
          317,
          346,
          370,
          390,
          280,
          352,
          323,
          327,
          333,
          361,
          363,
          313,
          322,
          315,
          297,
          329,
          389,
          395,
          312,
          345,
          322,
          371,
          393,
          462,
          441,
          363,
          338,
          323,
          315,
          341,
          410,
          402,
          360,
          380,
          417,
          391,
          438,
          511,
          506,
          451,
          510,
          462,
          459,
          475,
          516,
          505,
          457,
          474,
          498,
          459,
          442,
          494,
          490,
          423,
          433,
          415,
          412,
          428,
          462,
          471,
          457,
          412,
          402,
          401,
          449,
          449,
          478,
          410,
          392,
          414,
          383,
          386,
          432,
          437,
          382,
          390,
          360,
          375,
          380,
          402,
          429,
          411,
          431,
          464,
          414,
          426,
          438,
          449,
          384,
          410,
          409,
          403,
          420,
          423,
          480,
          429,
          427,
          408,
          370,
          374,
          339,
          354,
          335,
          350,
          353,
          355,
          326,
          370,
          430,
          365,
          400,
          438,
          464,
          457,
          455,
          516,
          421,
          431,
          405,
          421,
          423,
          434,
          466,
          410,
          432,
          402,
          385,
          415,
          458,
          420,
          362,
          379,
          353,
          369,
          342,
          390,
          377,
          313,
          374,
          320,
          316,
          371,
          398,
          390,
          342,
          339,
          297,
          312,
          338,
          311,
          350,
          291,
          305,
          360,
          343,
          378,
          409,
          427,
          374,
          358,
          368,
          360,
          369,
          381,
          400,
          350,
          363,
          329,
          309,
          347,
          349,
          357,
          327,
          329,
          321,
          370,
          414,
          406,
          446,
          350,
          368,
          358,
          368,
          366,
          400,
          417,
          337,
          353,
          336,
          332,
          333,
          393,
          376,
          329,
          357,
          365,
          367,
          337,
          396,
          369,
          316,
          360,
          343,
          292,
          336,
          330,
          339,
          315,
          299
         ],
         "yaxis": "y"
        }
       ],
       "layout": {
        "coloraxis": {
         "colorbar": {
          "title": {
           "text": "hd"
          }
         },
         "colorscale": [
          [
           0,
           "#0d0887"
          ],
          [
           0.1111111111111111,
           "#46039f"
          ],
          [
           0.2222222222222222,
           "#7201a8"
          ],
          [
           0.3333333333333333,
           "#9c179e"
          ],
          [
           0.4444444444444444,
           "#bd3786"
          ],
          [
           0.5555555555555556,
           "#d8576b"
          ],
          [
           0.6666666666666666,
           "#ed7953"
          ],
          [
           0.7777777777777778,
           "#fb9f3a"
          ],
          [
           0.8888888888888888,
           "#fdca26"
          ],
          [
           1,
           "#f0f921"
          ]
         ]
        },
        "legend": {
         "itemsizing": "constant",
         "title": {
          "text": "HD"
         },
         "tracegroupgap": 0
        },
        "template": {
         "data": {
          "bar": [
           {
            "error_x": {
             "color": "#2a3f5f"
            },
            "error_y": {
             "color": "#2a3f5f"
            },
            "marker": {
             "line": {
              "color": "#E5ECF6",
              "width": 0.5
             },
             "pattern": {
              "fillmode": "overlay",
              "size": 10,
              "solidity": 0.2
             }
            },
            "type": "bar"
           }
          ],
          "barpolar": [
           {
            "marker": {
             "line": {
              "color": "#E5ECF6",
              "width": 0.5
             },
             "pattern": {
              "fillmode": "overlay",
              "size": 10,
              "solidity": 0.2
             }
            },
            "type": "barpolar"
           }
          ],
          "carpet": [
           {
            "aaxis": {
             "endlinecolor": "#2a3f5f",
             "gridcolor": "white",
             "linecolor": "white",
             "minorgridcolor": "white",
             "startlinecolor": "#2a3f5f"
            },
            "baxis": {
             "endlinecolor": "#2a3f5f",
             "gridcolor": "white",
             "linecolor": "white",
             "minorgridcolor": "white",
             "startlinecolor": "#2a3f5f"
            },
            "type": "carpet"
           }
          ],
          "choropleth": [
           {
            "colorbar": {
             "outlinewidth": 0,
             "ticks": ""
            },
            "type": "choropleth"
           }
          ],
          "contour": [
           {
            "colorbar": {
             "outlinewidth": 0,
             "ticks": ""
            },
            "colorscale": [
             [
              0,
              "#0d0887"
             ],
             [
              0.1111111111111111,
              "#46039f"
             ],
             [
              0.2222222222222222,
              "#7201a8"
             ],
             [
              0.3333333333333333,
              "#9c179e"
             ],
             [
              0.4444444444444444,
              "#bd3786"
             ],
             [
              0.5555555555555556,
              "#d8576b"
             ],
             [
              0.6666666666666666,
              "#ed7953"
             ],
             [
              0.7777777777777778,
              "#fb9f3a"
             ],
             [
              0.8888888888888888,
              "#fdca26"
             ],
             [
              1,
              "#f0f921"
             ]
            ],
            "type": "contour"
           }
          ],
          "contourcarpet": [
           {
            "colorbar": {
             "outlinewidth": 0,
             "ticks": ""
            },
            "type": "contourcarpet"
           }
          ],
          "heatmap": [
           {
            "colorbar": {
             "outlinewidth": 0,
             "ticks": ""
            },
            "colorscale": [
             [
              0,
              "#0d0887"
             ],
             [
              0.1111111111111111,
              "#46039f"
             ],
             [
              0.2222222222222222,
              "#7201a8"
             ],
             [
              0.3333333333333333,
              "#9c179e"
             ],
             [
              0.4444444444444444,
              "#bd3786"
             ],
             [
              0.5555555555555556,
              "#d8576b"
             ],
             [
              0.6666666666666666,
              "#ed7953"
             ],
             [
              0.7777777777777778,
              "#fb9f3a"
             ],
             [
              0.8888888888888888,
              "#fdca26"
             ],
             [
              1,
              "#f0f921"
             ]
            ],
            "type": "heatmap"
           }
          ],
          "heatmapgl": [
           {
            "colorbar": {
             "outlinewidth": 0,
             "ticks": ""
            },
            "colorscale": [
             [
              0,
              "#0d0887"
             ],
             [
              0.1111111111111111,
              "#46039f"
             ],
             [
              0.2222222222222222,
              "#7201a8"
             ],
             [
              0.3333333333333333,
              "#9c179e"
             ],
             [
              0.4444444444444444,
              "#bd3786"
             ],
             [
              0.5555555555555556,
              "#d8576b"
             ],
             [
              0.6666666666666666,
              "#ed7953"
             ],
             [
              0.7777777777777778,
              "#fb9f3a"
             ],
             [
              0.8888888888888888,
              "#fdca26"
             ],
             [
              1,
              "#f0f921"
             ]
            ],
            "type": "heatmapgl"
           }
          ],
          "histogram": [
           {
            "marker": {
             "pattern": {
              "fillmode": "overlay",
              "size": 10,
              "solidity": 0.2
             }
            },
            "type": "histogram"
           }
          ],
          "histogram2d": [
           {
            "colorbar": {
             "outlinewidth": 0,
             "ticks": ""
            },
            "colorscale": [
             [
              0,
              "#0d0887"
             ],
             [
              0.1111111111111111,
              "#46039f"
             ],
             [
              0.2222222222222222,
              "#7201a8"
             ],
             [
              0.3333333333333333,
              "#9c179e"
             ],
             [
              0.4444444444444444,
              "#bd3786"
             ],
             [
              0.5555555555555556,
              "#d8576b"
             ],
             [
              0.6666666666666666,
              "#ed7953"
             ],
             [
              0.7777777777777778,
              "#fb9f3a"
             ],
             [
              0.8888888888888888,
              "#fdca26"
             ],
             [
              1,
              "#f0f921"
             ]
            ],
            "type": "histogram2d"
           }
          ],
          "histogram2dcontour": [
           {
            "colorbar": {
             "outlinewidth": 0,
             "ticks": ""
            },
            "colorscale": [
             [
              0,
              "#0d0887"
             ],
             [
              0.1111111111111111,
              "#46039f"
             ],
             [
              0.2222222222222222,
              "#7201a8"
             ],
             [
              0.3333333333333333,
              "#9c179e"
             ],
             [
              0.4444444444444444,
              "#bd3786"
             ],
             [
              0.5555555555555556,
              "#d8576b"
             ],
             [
              0.6666666666666666,
              "#ed7953"
             ],
             [
              0.7777777777777778,
              "#fb9f3a"
             ],
             [
              0.8888888888888888,
              "#fdca26"
             ],
             [
              1,
              "#f0f921"
             ]
            ],
            "type": "histogram2dcontour"
           }
          ],
          "mesh3d": [
           {
            "colorbar": {
             "outlinewidth": 0,
             "ticks": ""
            },
            "type": "mesh3d"
           }
          ],
          "parcoords": [
           {
            "line": {
             "colorbar": {
              "outlinewidth": 0,
              "ticks": ""
             }
            },
            "type": "parcoords"
           }
          ],
          "pie": [
           {
            "automargin": true,
            "type": "pie"
           }
          ],
          "scatter": [
           {
            "fillpattern": {
             "fillmode": "overlay",
             "size": 10,
             "solidity": 0.2
            },
            "type": "scatter"
           }
          ],
          "scatter3d": [
           {
            "line": {
             "colorbar": {
              "outlinewidth": 0,
              "ticks": ""
             }
            },
            "marker": {
             "colorbar": {
              "outlinewidth": 0,
              "ticks": ""
             }
            },
            "type": "scatter3d"
           }
          ],
          "scattercarpet": [
           {
            "marker": {
             "colorbar": {
              "outlinewidth": 0,
              "ticks": ""
             }
            },
            "type": "scattercarpet"
           }
          ],
          "scattergeo": [
           {
            "marker": {
             "colorbar": {
              "outlinewidth": 0,
              "ticks": ""
             }
            },
            "type": "scattergeo"
           }
          ],
          "scattergl": [
           {
            "marker": {
             "colorbar": {
              "outlinewidth": 0,
              "ticks": ""
             }
            },
            "type": "scattergl"
           }
          ],
          "scattermapbox": [
           {
            "marker": {
             "colorbar": {
              "outlinewidth": 0,
              "ticks": ""
             }
            },
            "type": "scattermapbox"
           }
          ],
          "scatterpolar": [
           {
            "marker": {
             "colorbar": {
              "outlinewidth": 0,
              "ticks": ""
             }
            },
            "type": "scatterpolar"
           }
          ],
          "scatterpolargl": [
           {
            "marker": {
             "colorbar": {
              "outlinewidth": 0,
              "ticks": ""
             }
            },
            "type": "scatterpolargl"
           }
          ],
          "scatterternary": [
           {
            "marker": {
             "colorbar": {
              "outlinewidth": 0,
              "ticks": ""
             }
            },
            "type": "scatterternary"
           }
          ],
          "surface": [
           {
            "colorbar": {
             "outlinewidth": 0,
             "ticks": ""
            },
            "colorscale": [
             [
              0,
              "#0d0887"
             ],
             [
              0.1111111111111111,
              "#46039f"
             ],
             [
              0.2222222222222222,
              "#7201a8"
             ],
             [
              0.3333333333333333,
              "#9c179e"
             ],
             [
              0.4444444444444444,
              "#bd3786"
             ],
             [
              0.5555555555555556,
              "#d8576b"
             ],
             [
              0.6666666666666666,
              "#ed7953"
             ],
             [
              0.7777777777777778,
              "#fb9f3a"
             ],
             [
              0.8888888888888888,
              "#fdca26"
             ],
             [
              1,
              "#f0f921"
             ]
            ],
            "type": "surface"
           }
          ],
          "table": [
           {
            "cells": {
             "fill": {
              "color": "#EBF0F8"
             },
             "line": {
              "color": "white"
             }
            },
            "header": {
             "fill": {
              "color": "#C8D4E3"
             },
             "line": {
              "color": "white"
             }
            },
            "type": "table"
           }
          ]
         },
         "layout": {
          "annotationdefaults": {
           "arrowcolor": "#2a3f5f",
           "arrowhead": 0,
           "arrowwidth": 1
          },
          "autotypenumbers": "strict",
          "coloraxis": {
           "colorbar": {
            "outlinewidth": 0,
            "ticks": ""
           }
          },
          "colorscale": {
           "diverging": [
            [
             0,
             "#8e0152"
            ],
            [
             0.1,
             "#c51b7d"
            ],
            [
             0.2,
             "#de77ae"
            ],
            [
             0.3,
             "#f1b6da"
            ],
            [
             0.4,
             "#fde0ef"
            ],
            [
             0.5,
             "#f7f7f7"
            ],
            [
             0.6,
             "#e6f5d0"
            ],
            [
             0.7,
             "#b8e186"
            ],
            [
             0.8,
             "#7fbc41"
            ],
            [
             0.9,
             "#4d9221"
            ],
            [
             1,
             "#276419"
            ]
           ],
           "sequential": [
            [
             0,
             "#0d0887"
            ],
            [
             0.1111111111111111,
             "#46039f"
            ],
            [
             0.2222222222222222,
             "#7201a8"
            ],
            [
             0.3333333333333333,
             "#9c179e"
            ],
            [
             0.4444444444444444,
             "#bd3786"
            ],
            [
             0.5555555555555556,
             "#d8576b"
            ],
            [
             0.6666666666666666,
             "#ed7953"
            ],
            [
             0.7777777777777778,
             "#fb9f3a"
            ],
            [
             0.8888888888888888,
             "#fdca26"
            ],
            [
             1,
             "#f0f921"
            ]
           ],
           "sequentialminus": [
            [
             0,
             "#0d0887"
            ],
            [
             0.1111111111111111,
             "#46039f"
            ],
            [
             0.2222222222222222,
             "#7201a8"
            ],
            [
             0.3333333333333333,
             "#9c179e"
            ],
            [
             0.4444444444444444,
             "#bd3786"
            ],
            [
             0.5555555555555556,
             "#d8576b"
            ],
            [
             0.6666666666666666,
             "#ed7953"
            ],
            [
             0.7777777777777778,
             "#fb9f3a"
            ],
            [
             0.8888888888888888,
             "#fdca26"
            ],
            [
             1,
             "#f0f921"
            ]
           ]
          },
          "colorway": [
           "#636efa",
           "#EF553B",
           "#00cc96",
           "#ab63fa",
           "#FFA15A",
           "#19d3f3",
           "#FF6692",
           "#B6E880",
           "#FF97FF",
           "#FECB52"
          ],
          "font": {
           "color": "#2a3f5f"
          },
          "geo": {
           "bgcolor": "white",
           "lakecolor": "white",
           "landcolor": "#E5ECF6",
           "showlakes": true,
           "showland": true,
           "subunitcolor": "white"
          },
          "hoverlabel": {
           "align": "left"
          },
          "hovermode": "closest",
          "mapbox": {
           "style": "light"
          },
          "paper_bgcolor": "white",
          "plot_bgcolor": "#E5ECF6",
          "polar": {
           "angularaxis": {
            "gridcolor": "white",
            "linecolor": "white",
            "ticks": ""
           },
           "bgcolor": "#E5ECF6",
           "radialaxis": {
            "gridcolor": "white",
            "linecolor": "white",
            "ticks": ""
           }
          },
          "scene": {
           "xaxis": {
            "backgroundcolor": "#E5ECF6",
            "gridcolor": "white",
            "gridwidth": 2,
            "linecolor": "white",
            "showbackground": true,
            "ticks": "",
            "zerolinecolor": "white"
           },
           "yaxis": {
            "backgroundcolor": "#E5ECF6",
            "gridcolor": "white",
            "gridwidth": 2,
            "linecolor": "white",
            "showbackground": true,
            "ticks": "",
            "zerolinecolor": "white"
           },
           "zaxis": {
            "backgroundcolor": "#E5ECF6",
            "gridcolor": "white",
            "gridwidth": 2,
            "linecolor": "white",
            "showbackground": true,
            "ticks": "",
            "zerolinecolor": "white"
           }
          },
          "shapedefaults": {
           "line": {
            "color": "#2a3f5f"
           }
          },
          "ternary": {
           "aaxis": {
            "gridcolor": "white",
            "linecolor": "white",
            "ticks": ""
           },
           "baxis": {
            "gridcolor": "white",
            "linecolor": "white",
            "ticks": ""
           },
           "bgcolor": "#E5ECF6",
           "caxis": {
            "gridcolor": "white",
            "linecolor": "white",
            "ticks": ""
           }
          },
          "title": {
           "x": 0.05
          },
          "xaxis": {
           "automargin": true,
           "gridcolor": "white",
           "linecolor": "white",
           "ticks": "",
           "title": {
            "standoff": 15
           },
           "zerolinecolor": "white",
           "zerolinewidth": 2
          },
          "yaxis": {
           "automargin": true,
           "gridcolor": "white",
           "linecolor": "white",
           "ticks": "",
           "title": {
            "standoff": 15
           },
           "zerolinecolor": "white",
           "zerolinewidth": 2
          }
         }
        },
        "title": {
         "text": "Average Program Duration vs. Unique Users 🎈"
        },
        "xaxis": {
         "anchor": "y",
         "domain": [
          0,
          1
         ],
         "title": {
          "text": "Average Duration (seconds)"
         }
        },
        "yaxis": {
         "anchor": "x",
         "domain": [
          0,
          1
         ],
         "title": {
          "text": "Unique Users"
         }
        }
       }
      }
     },
     "metadata": {},
     "output_type": "display_data"
    }
   ],
   "source": [
    "# Scatter plot: Average Program Duration vs. Unique Users\n",
    "fig3 = px.scatter(aggregated_data, x='duration_seconds', y='user_id_maped',\n",
    "                  color='hd', size='program_genre', title='Average Program Duration vs. Unique Users 🎈')\n",
    "fig3.update_layout(xaxis_title='Average Duration (seconds)', yaxis_title='Unique Users', legend_title='HD')\n",
    "fig3.show()"
   ]
  },
  {
   "cell_type": "code",
   "execution_count": null,
   "id": "00215ca3",
   "metadata": {},
   "outputs": [],
   "source": []
  },
  {
   "cell_type": "code",
   "execution_count": null,
   "id": "3d30e54c",
   "metadata": {},
   "outputs": [],
   "source": []
  }
 ],
 "metadata": {
  "kernelspec": {
   "display_name": "Python 3 (ipykernel)",
   "language": "python",
   "name": "python3"
  },
  "language_info": {
   "codemirror_mode": {
    "name": "ipython",
    "version": 3
   },
   "file_extension": ".py",
   "mimetype": "text/x-python",
   "name": "python",
   "nbconvert_exporter": "python",
   "pygments_lexer": "ipython3",
   "version": "3.10.11"
  }
 },
 "nbformat": 4,
 "nbformat_minor": 5
}
